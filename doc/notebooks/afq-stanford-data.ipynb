{
 "cells": [
  {
   "cell_type": "code",
   "execution_count": 1,
   "metadata": {
    "collapsed": false
   },
   "outputs": [],
   "source": [
    "#rm /Users/arokem/AFQ_data/stanford_hardi/sub-01/sess-01/dwi/sub-01_sess-01_dwiDTI_det_streamlines.trk"
   ]
  },
  {
   "cell_type": "code",
   "execution_count": 2,
   "metadata": {
    "collapsed": false
   },
   "outputs": [],
   "source": [
    "import matplotlib.pyplot as plt\n",
    "%matplotlib inline"
   ]
  },
  {
   "cell_type": "code",
   "execution_count": 3,
   "metadata": {
    "collapsed": true
   },
   "outputs": [],
   "source": [
    "import os.path as op"
   ]
  },
  {
   "cell_type": "code",
   "execution_count": 4,
   "metadata": {
    "collapsed": false
   },
   "outputs": [],
   "source": [
    "from AFQ import api"
   ]
  },
  {
   "cell_type": "code",
   "execution_count": 5,
   "metadata": {
    "collapsed": true
   },
   "outputs": [],
   "source": [
    "from imp import reload"
   ]
  },
  {
   "cell_type": "code",
   "execution_count": 6,
   "metadata": {
    "collapsed": true
   },
   "outputs": [],
   "source": [
    "import AFQ.data as afd"
   ]
  },
  {
   "cell_type": "code",
   "execution_count": 7,
   "metadata": {
    "collapsed": false
   },
   "outputs": [
    {
     "name": "stdout",
     "output_type": "stream",
     "text": [
      "Dataset is already in place. If you want to fetch it again please first remove the folder /Users/arokem/.dipy/stanford_hardi \n"
     ]
    }
   ],
   "source": [
    "afd.organize_stanford_data()"
   ]
  },
  {
   "cell_type": "code",
   "execution_count": 8,
   "metadata": {
    "collapsed": true
   },
   "outputs": [],
   "source": [
    "base_dir = op.join(op.expanduser('~'), 'AFQ_data', 'stanford_hardi')"
   ]
  },
  {
   "cell_type": "code",
   "execution_count": 9,
   "metadata": {
    "collapsed": false
   },
   "outputs": [
    {
     "data": {
      "text/plain": [
       "'/Users/arokem/AFQ_data/stanford_hard'"
      ]
     },
     "execution_count": 9,
     "metadata": {},
     "output_type": "execute_result"
    }
   ],
   "source": [
    "op.join(afd.afq_home, 'stanford_hard')"
   ]
  },
  {
   "cell_type": "code",
   "execution_count": 10,
   "metadata": {
    "collapsed": false
   },
   "outputs": [],
   "source": [
    "myafq = api.AFQ(preproc_path=op.join(afd.afq_home, 'stanford_hardi'), sub_prefix='sub')"
   ]
  },
  {
   "cell_type": "code",
   "execution_count": 11,
   "metadata": {
    "collapsed": false
   },
   "outputs": [
    {
     "data": {
      "text/html": [
       "<div>\n",
       "<table border=\"1\" class=\"dataframe\">\n",
       "  <thead>\n",
       "    <tr style=\"text-align: right;\">\n",
       "      <th></th>\n",
       "      <th>anat_file</th>\n",
       "      <th>bval_file</th>\n",
       "      <th>bvec_file</th>\n",
       "      <th>dwi_file</th>\n",
       "      <th>seg_file</th>\n",
       "      <th>sess</th>\n",
       "      <th>subject</th>\n",
       "      <th>gtab</th>\n",
       "      <th>dwi_affine</th>\n",
       "    </tr>\n",
       "  </thead>\n",
       "  <tbody>\n",
       "    <tr>\n",
       "      <th>0</th>\n",
       "      <td>/Users/arokem/AFQ_data/stanford_hardi/sub-01/s...</td>\n",
       "      <td>/Users/arokem/AFQ_data/stanford_hardi/sub-01/s...</td>\n",
       "      <td>/Users/arokem/AFQ_data/stanford_hardi/sub-01/s...</td>\n",
       "      <td>/Users/arokem/AFQ_data/stanford_hardi/sub-01/s...</td>\n",
       "      <td>/Users/arokem/AFQ_data/stanford_hardi/sub-01/s...</td>\n",
       "      <td>/Users/arokem/AFQ_data/stanford_hardi/sub-01/s...</td>\n",
       "      <td>sub-01</td>\n",
       "      <td>&lt;dipy.core.gradients.GradientTable object at 0...</td>\n",
       "      <td>[[2.0, 0.0, 0.0, -80.0], [0.0, 2.0, 0.0, -120....</td>\n",
       "    </tr>\n",
       "  </tbody>\n",
       "</table>\n",
       "</div>"
      ],
      "text/plain": [
       "                                           anat_file  \\\n",
       "0  /Users/arokem/AFQ_data/stanford_hardi/sub-01/s...   \n",
       "\n",
       "                                           bval_file  \\\n",
       "0  /Users/arokem/AFQ_data/stanford_hardi/sub-01/s...   \n",
       "\n",
       "                                           bvec_file  \\\n",
       "0  /Users/arokem/AFQ_data/stanford_hardi/sub-01/s...   \n",
       "\n",
       "                                            dwi_file  \\\n",
       "0  /Users/arokem/AFQ_data/stanford_hardi/sub-01/s...   \n",
       "\n",
       "                                            seg_file  \\\n",
       "0  /Users/arokem/AFQ_data/stanford_hardi/sub-01/s...   \n",
       "\n",
       "                                                sess subject  \\\n",
       "0  /Users/arokem/AFQ_data/stanford_hardi/sub-01/s...  sub-01   \n",
       "\n",
       "                                                gtab  \\\n",
       "0  <dipy.core.gradients.GradientTable object at 0...   \n",
       "\n",
       "                                          dwi_affine  \n",
       "0  [[2.0, 0.0, 0.0, -80.0], [0.0, 2.0, 0.0, -120....  "
      ]
     },
     "execution_count": 11,
     "metadata": {},
     "output_type": "execute_result"
    }
   ],
   "source": [
    "myafq.data_frame"
   ]
  },
  {
   "cell_type": "code",
   "execution_count": 12,
   "metadata": {
    "collapsed": false
   },
   "outputs": [
    {
     "data": {
      "text/plain": [
       "0    /Users/arokem/AFQ_data/stanford_hardi/sub-01/s...\n",
       "Name: brain_mask_file, dtype: object"
      ]
     },
     "execution_count": 12,
     "metadata": {},
     "output_type": "execute_result"
    }
   ],
   "source": [
    "myafq.brain_mask"
   ]
  },
  {
   "cell_type": "code",
   "execution_count": 13,
   "metadata": {
    "collapsed": true
   },
   "outputs": [],
   "source": [
    "import nibabel as nib"
   ]
  },
  {
   "cell_type": "code",
   "execution_count": null,
   "metadata": {
    "collapsed": true
   },
   "outputs": [],
   "source": []
  },
  {
   "cell_type": "code",
   "execution_count": 14,
   "metadata": {
    "collapsed": false
   },
   "outputs": [],
   "source": [
    "dti_img = nib.load(myafq.dti[0])\n",
    "dti_data = dti_img.get_data()"
   ]
  },
  {
   "cell_type": "code",
   "execution_count": 15,
   "metadata": {
    "collapsed": false
   },
   "outputs": [
    {
     "data": {
      "text/plain": [
       "0    <dipy.core.gradients.GradientTable object at 0...\n",
       "Name: gtab, dtype: object"
      ]
     },
     "execution_count": 15,
     "metadata": {},
     "output_type": "execute_result"
    }
   ],
   "source": [
    "myafq['gtab']"
   ]
  },
  {
   "cell_type": "code",
   "execution_count": 16,
   "metadata": {
    "collapsed": false
   },
   "outputs": [
    {
     "data": {
      "text/plain": [
       "'/Users/arokem/AFQ_data/stanford_hardi/sub-01/sess-01/dwi/sub-01_sess-01_dwiDTI_det_streamlines.trk'"
      ]
     },
     "execution_count": 16,
     "metadata": {},
     "output_type": "execute_result"
    }
   ],
   "source": [
    "myafq.streamlines[0]"
   ]
  },
  {
   "cell_type": "code",
   "execution_count": 17,
   "metadata": {
    "collapsed": false
   },
   "outputs": [
    {
     "name": "stderr",
     "output_type": "stream",
     "text": [
      "ERROR:root:No traceback has been produced, nothing to debug.\n"
     ]
    }
   ],
   "source": [
    "debug"
   ]
  },
  {
   "cell_type": "code",
   "execution_count": 18,
   "metadata": {
    "collapsed": false
   },
   "outputs": [],
   "source": [
    "import AFQ.utils.streamlines as aus"
   ]
  },
  {
   "cell_type": "code",
   "execution_count": 25,
   "metadata": {
    "collapsed": true
   },
   "outputs": [],
   "source": [
    "tt = aus.read_trk(myafq.streamlines[0])"
   ]
  },
  {
   "cell_type": "code",
   "execution_count": 20,
   "metadata": {
    "collapsed": false
   },
   "outputs": [],
   "source": [
    "# len(tt)\n",
    "# tt[0]\n",
    "# from dipy.viz import fvtk\n",
    "# from dipy.viz.colormap import line_colors\n",
    "\n",
    "# # Make display objects\n",
    "# color = line_colors(tt)\n",
    "# cc_streamlines_actor = fvtk.line(tt, line_colors(tt))\n",
    "\n",
    "# # vol_actor = fvtk.slicer(t1_data)\n",
    "\n",
    "# #vol_actor.display(40, None, None)\n",
    "# #vol_actor2 = vol_actor.copy()\n",
    "# #vol_actor2.display(None, None, 35)\n",
    "\n",
    "# # Add display objects to canvas\n",
    "# r = fvtk.ren()\n",
    "# #fvtk.add(r, vol_actor)\n",
    "# #fvtk.add(r, vol_actor2)\n",
    "# fvtk.add(r, cc_streamlines_actor)\n",
    "\n",
    "\n",
    "# # Save figures\n",
    "# fvtk.show(r)"
   ]
  },
  {
   "cell_type": "code",
   "execution_count": null,
   "metadata": {
    "collapsed": true
   },
   "outputs": [],
   "source": []
  },
  {
   "cell_type": "code",
   "execution_count": 26,
   "metadata": {
    "collapsed": false
   },
   "outputs": [],
   "source": [
    "import AFQ.segmentation as seg"
   ]
  },
  {
   "cell_type": "code",
   "execution_count": 27,
   "metadata": {
    "collapsed": false,
    "scrolled": true
   },
   "outputs": [
    {
     "name": "stdout",
     "output_type": "stream",
     "text": [
      "Dataset is already in place. If you want to fetch it again please first remove the folder /Users/arokem/AFQ_data/templates \n"
     ]
    },
    {
     "data": {
      "text/plain": [
       "{'ARC_L': {'ROIs': [<nibabel.nifti1.Nifti1Image at 0x126226358>,\n",
       "   <nibabel.nifti1.Nifti1Image at 0x126226978>],\n",
       "  'rules': [True, True]},\n",
       " 'ARC_R': {'ROIs': [<nibabel.nifti1.Nifti1Image at 0x126226e10>,\n",
       "   <nibabel.nifti1.Nifti1Image at 0x126213cf8>],\n",
       "  'rules': [True, True]},\n",
       " 'ATR_L': {'ROIs': [<nibabel.nifti1.Nifti1Image at 0x1262264e0>,\n",
       "   <nibabel.nifti1.Nifti1Image at 0x126213518>],\n",
       "  'rules': [True, True]},\n",
       " 'ATR_R': {'ROIs': [<nibabel.nifti1.Nifti1Image at 0x126226b00>,\n",
       "   <nibabel.nifti1.Nifti1Image at 0x126236b00>],\n",
       "  'rules': [True, True]},\n",
       " 'CGC_L': {'ROIs': [<nibabel.nifti1.Nifti1Image at 0x1262261d0>,\n",
       "   <nibabel.nifti1.Nifti1Image at 0x1262267f0>],\n",
       "  'rules': [True, True]},\n",
       " 'CGC_R': {'ROIs': [<nibabel.nifti1.Nifti1Image at 0x16178a400>,\n",
       "   <nibabel.nifti1.Nifti1Image at 0x126226c88>],\n",
       "  'rules': [True, True]},\n",
       " 'CST_L': {'ROIs': [<nibabel.nifti1.Nifti1Image at 0x16178aba8>,\n",
       "   <nibabel.nifti1.Nifti1Image at 0x1262132e8>],\n",
       "  'rules': [True, True]},\n",
       " 'CST_R': {'ROIs': [<nibabel.nifti1.Nifti1Image at 0x126213208>,\n",
       "   <nibabel.nifti1.Nifti1Image at 0x126236978>],\n",
       "  'rules': [True, True]},\n",
       " 'HCC_L': {'ROIs': [<nibabel.nifti1.Nifti1Image at 0x126236c88>,\n",
       "   <nibabel.nifti1.Nifti1Image at 0x16178aa20>],\n",
       "  'rules': [True, True]},\n",
       " 'HCC_R': {'ROIs': [<nibabel.nifti1.Nifti1Image at 0x126226668>,\n",
       "   <nibabel.nifti1.Nifti1Image at 0x126213390>],\n",
       "  'rules': [True, True]},\n",
       " 'IFO_L': {'ROIs': [<nibabel.nifti1.Nifti1Image at 0x126213e80>,\n",
       "   <nibabel.nifti1.Nifti1Image at 0x1262139e8>],\n",
       "  'rules': [True, True]},\n",
       " 'IFO_R': {'ROIs': [<nibabel.nifti1.Nifti1Image at 0x16178ac88>,\n",
       "   <nibabel.nifti1.Nifti1Image at 0x126213b70>],\n",
       "  'rules': [True, True]},\n",
       " 'ILF_L': {'ROIs': [<nibabel.nifti1.Nifti1Image at 0x126236128>,\n",
       "   <nibabel.nifti1.Nifti1Image at 0x1262364a8>],\n",
       "  'rules': [True, True]},\n",
       " 'ILF_R': {'ROIs': [<nibabel.nifti1.Nifti1Image at 0x16178a588>,\n",
       "   <nibabel.nifti1.Nifti1Image at 0x16178a898>],\n",
       "  'rules': [True, True]},\n",
       " 'SLF_L': {'ROIs': [<nibabel.nifti1.Nifti1Image at 0x126226358>,\n",
       "   <nibabel.nifti1.Nifti1Image at 0x1262367f0>],\n",
       "  'rules': [True, True]},\n",
       " 'SLF_R': {'ROIs': [<nibabel.nifti1.Nifti1Image at 0x126226e10>,\n",
       "   <nibabel.nifti1.Nifti1Image at 0x1262136a0>],\n",
       "  'rules': [True, True]},\n",
       " 'UNC_L': {'ROIs': [<nibabel.nifti1.Nifti1Image at 0x126236320>,\n",
       "   <nibabel.nifti1.Nifti1Image at 0x16178a710>],\n",
       "  'rules': [True, True]},\n",
       " 'UNC_R': {'ROIs': [<nibabel.nifti1.Nifti1Image at 0x16178ad30>,\n",
       "   <nibabel.nifti1.Nifti1Image at 0x16178aeb8>],\n",
       "  'rules': [True, True]}}"
      ]
     },
     "execution_count": 27,
     "metadata": {},
     "output_type": "execute_result"
    }
   ],
   "source": [
    "bundles = api.make_bundle_dict(api.BUNDLES)\n",
    "bundles"
   ]
  },
  {
   "cell_type": "code",
   "execution_count": 28,
   "metadata": {
    "collapsed": true
   },
   "outputs": [],
   "source": [
    "import dipy.tracking.streamline as dts\n",
    "import numpy as np"
   ]
  },
  {
   "cell_type": "code",
   "execution_count": 29,
   "metadata": {
    "collapsed": false
   },
   "outputs": [],
   "source": [
    "ttx = dts.transform_streamlines(tt, np.linalg.inv(myafq.data_frame.dwi_affine[0]))"
   ]
  },
  {
   "cell_type": "code",
   "execution_count": 30,
   "metadata": {
    "collapsed": false
   },
   "outputs": [
    {
     "name": "stdout",
     "output_type": "stream",
     "text": [
      "Data size is approximately 70MB\n",
      "Dataset is already in place. If you want to fetch it again please first remove the folder /Users/arokem/.dipy/mni_template \n",
      "Creating scale space from the moving image. Levels: 3. Sigma factor: 0.200000.\n",
      "Creating scale space from the static image. Levels: 3. Sigma factor: 0.200000.\n",
      "Optimizing level 2\n",
      "Optimizing level 1\n",
      "Optimizing level 0\n"
     ]
    }
   ],
   "source": [
    "afq_bundles = seg.segment(myafq.data_frame.dwi_file[0],\n",
    "                          myafq.data_frame.bval_file[0], \n",
    "                          myafq.data_frame.bvec_file[0],\n",
    "                          ttx, bundles)"
   ]
  },
  {
   "cell_type": "code",
   "execution_count": 37,
   "metadata": {
    "collapsed": false
   },
   "outputs": [
    {
     "data": {
      "text/plain": [
       "{'ARC_L': <generator object _orient_generator at 0x1260cd468>,\n",
       " 'ARC_R': <generator object _orient_generator at 0x23e47e360>,\n",
       " 'ATR_L': <generator object _orient_generator at 0x23e47e678>,\n",
       " 'ATR_R': <generator object _orient_generator at 0x23e47e468>,\n",
       " 'CGC_L': <generator object _orient_generator at 0x23e47e048>,\n",
       " 'CGC_R': <generator object _orient_generator at 0x23e47e570>,\n",
       " 'CST_L': <generator object _orient_generator at 0x1260cd5c8>,\n",
       " 'CST_R': <generator object _orient_generator at 0x1260cdf10>,\n",
       " 'HCC_L': <generator object _orient_generator at 0x23e47ea98>,\n",
       " 'HCC_R': <generator object _orient_generator at 0x1260cd6d0>,\n",
       " 'IFO_L': <generator object _orient_generator at 0x1260cde08>,\n",
       " 'IFO_R': <generator object _orient_generator at 0x23e47e888>,\n",
       " 'ILF_L': <generator object _orient_generator at 0x23e47e150>,\n",
       " 'ILF_R': <generator object _orient_generator at 0x23e47e258>,\n",
       " 'SLF_L': <generator object _orient_generator at 0x1260cdd00>,\n",
       " 'SLF_R': <generator object _orient_generator at 0x23e47e780>,\n",
       " 'UNC_L': <generator object _orient_generator at 0x23e47e990>,\n",
       " 'UNC_R': <generator object _orient_generator at 0x1260cd518>}"
      ]
     },
     "execution_count": 37,
     "metadata": {},
     "output_type": "execute_result"
    }
   ],
   "source": [
    "afq_bundles"
   ]
  },
  {
   "cell_type": "code",
   "execution_count": 38,
   "metadata": {
    "collapsed": false
   },
   "outputs": [],
   "source": [
    "ARC_R = [s for s in afq_bundles['ARC_R']]"
   ]
  },
  {
   "cell_type": "code",
   "execution_count": 39,
   "metadata": {
    "collapsed": true
   },
   "outputs": [],
   "source": [
    "ARC_L = [s for s in afq_bundles['ARC_L']]"
   ]
  },
  {
   "cell_type": "code",
   "execution_count": 41,
   "metadata": {
    "collapsed": false
   },
   "outputs": [],
   "source": [
    "from dipy.viz import fvtk\n",
    "from dipy.viz.colormap import line_colors\n",
    "\n",
    "# Make display objects\n",
    "color = line_colors(tt)\n",
    "ARC_R_actor = fvtk.line(ARC_R, line_colors(ARC_R))\n",
    "ARC_L_actor = fvtk.line(ARC_L, line_colors(ARC_L))\n",
    "\n",
    "# vol_actor = fvtk.slicer(t1_data)\n",
    "\n",
    "#vol_actor.display(40, None, None)\n",
    "#vol_actor2 = vol_actor.copy()\n",
    "#vol_actor2.display(None, None, 35)\n",
    "\n",
    "# Add display objects to canvas\n",
    "r = fvtk.ren()\n",
    "#fvtk.add(r, vol_actor)\n",
    "#fvtk.add(r, vol_actor2)\n",
    "fvtk.add(r, ARC_R_actor)\n",
    "fvtk.add(r, ARC_L_actor)\n",
    "\n",
    "\n",
    "# Save figures\n",
    "fvtk.show(r)"
   ]
  },
  {
   "cell_type": "code",
   "execution_count": null,
   "metadata": {
    "collapsed": false
   },
   "outputs": [],
   "source": [
    "myafq.data_frame.dwi_file[0]"
   ]
  },
  {
   "cell_type": "code",
   "execution_count": null,
   "metadata": {
    "collapsed": true
   },
   "outputs": [],
   "source": []
  },
  {
   "cell_type": "code",
   "execution_count": null,
   "metadata": {
    "collapsed": false
   },
   "outputs": [],
   "source": [
    "templates = afd.read_templates()\n"
   ]
  },
  {
   "cell_type": "code",
   "execution_count": null,
   "metadata": {
    "collapsed": false
   },
   "outputs": [],
   "source": [
    "templates"
   ]
  },
  {
   "cell_type": "code",
   "execution_count": null,
   "metadata": {
    "collapsed": false
   },
   "outputs": [],
   "source": [
    "ff = [f.shape for f in ttx]"
   ]
  },
  {
   "cell_type": "code",
   "execution_count": null,
   "metadata": {
    "collapsed": false
   },
   "outputs": [],
   "source": [
    "ff"
   ]
  },
  {
   "cell_type": "code",
   "execution_count": null,
   "metadata": {
    "collapsed": true
   },
   "outputs": [],
   "source": []
  }
 ],
 "metadata": {
  "kernelspec": {
   "display_name": "Python 3",
   "language": "python",
   "name": "python3"
  },
  "language_info": {
   "codemirror_mode": {
    "name": "ipython",
    "version": 3
   },
   "file_extension": ".py",
   "mimetype": "text/x-python",
   "name": "python",
   "nbconvert_exporter": "python",
   "pygments_lexer": "ipython3",
   "version": "3.5.1"
  }
 },
 "nbformat": 4,
 "nbformat_minor": 0
}
