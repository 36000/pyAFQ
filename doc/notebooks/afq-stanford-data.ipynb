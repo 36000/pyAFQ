{
 "cells": [
  {
   "cell_type": "code",
   "execution_count": 1,
   "metadata": {
    "collapsed": false
   },
   "outputs": [],
   "source": [
    "import matplotlib.pyplot as plt\n",
    "%matplotlib inline"
   ]
  },
  {
   "cell_type": "code",
   "execution_count": 2,
   "metadata": {
    "collapsed": true
   },
   "outputs": [],
   "source": [
    "import os.path as op"
   ]
  },
  {
   "cell_type": "code",
   "execution_count": 3,
   "metadata": {
    "collapsed": false
   },
   "outputs": [
    {
     "name": "stderr",
     "output_type": "stream",
     "text": [
      "/home/jyeatman/anaconda2/lib/python2.7/site-packages/skimage/filter/__init__.py:6: skimage_deprecation: The `skimage.filter` module has been renamed to `skimage.filters`.  This placeholder module will be removed in v0.13.\n",
      "  warn(skimage_deprecation('The `skimage.filter` module has been renamed '\n"
     ]
    }
   ],
   "source": [
    "from AFQ import api"
   ]
  },
  {
   "cell_type": "code",
   "execution_count": 4,
   "metadata": {
    "collapsed": true
   },
   "outputs": [],
   "source": [
    "from imp import reload"
   ]
  },
  {
   "cell_type": "code",
   "execution_count": 5,
   "metadata": {
    "collapsed": true
   },
   "outputs": [],
   "source": [
    "import AFQ.data as afd"
   ]
  },
  {
   "cell_type": "code",
   "execution_count": 6,
   "metadata": {
    "collapsed": false
   },
   "outputs": [],
   "source": [
    "afd.organize_stanford_data()"
   ]
  },
  {
   "cell_type": "code",
   "execution_count": 7,
   "metadata": {
    "collapsed": true
   },
   "outputs": [],
   "source": [
    "base_dir = op.join(op.expanduser('~'), 'AFQ_data', 'stanford_hardi')"
   ]
  },
  {
   "cell_type": "code",
   "execution_count": 8,
   "metadata": {
    "collapsed": false
   },
   "outputs": [
    {
     "data": {
      "text/plain": [
       "'/home/jyeatman/AFQ_data/stanford_hard'"
      ]
     },
     "execution_count": 8,
     "metadata": {},
     "output_type": "execute_result"
    }
   ],
   "source": [
    "op.join(afd.afq_home, 'stanford_hard')"
   ]
  },
  {
   "cell_type": "code",
   "execution_count": 9,
   "metadata": {
    "collapsed": false
   },
   "outputs": [],
   "source": [
    "myafq = api.AFQ(preproc_path=op.join(afd.afq_home, 'stanford_hardi'), sub_prefix='sub')"
   ]
  },
  {
   "cell_type": "code",
   "execution_count": 10,
   "metadata": {
    "collapsed": false
   },
   "outputs": [
    {
     "data": {
      "text/html": [
       "<div>\n",
       "<table border=\"1\" class=\"dataframe\">\n",
       "  <thead>\n",
       "    <tr style=\"text-align: right;\">\n",
       "      <th></th>\n",
       "      <th>anat_file</th>\n",
       "      <th>bval_file</th>\n",
       "      <th>bvec_file</th>\n",
       "      <th>dwi_file</th>\n",
       "      <th>sess</th>\n",
       "      <th>subject</th>\n",
       "      <th>gtab</th>\n",
       "      <th>dwi_affine</th>\n",
       "    </tr>\n",
       "  </thead>\n",
       "  <tbody>\n",
       "    <tr>\n",
       "      <th>0</th>\n",
       "      <td>/home/jyeatman/AFQ_data/stanford_hardi/sub-01/...</td>\n",
       "      <td>/home/jyeatman/AFQ_data/stanford_hardi/sub-01/...</td>\n",
       "      <td>/home/jyeatman/AFQ_data/stanford_hardi/sub-01/...</td>\n",
       "      <td>/home/jyeatman/AFQ_data/stanford_hardi/sub-01/...</td>\n",
       "      <td>/home/jyeatman/AFQ_data/stanford_hardi/sub-01/...</td>\n",
       "      <td>sub-01</td>\n",
       "      <td>&lt;dipy.core.gradients.GradientTable object at 0...</td>\n",
       "      <td>[[2.0, 0.0, 0.0, -80.0], [0.0, 2.0, 0.0, -120....</td>\n",
       "    </tr>\n",
       "  </tbody>\n",
       "</table>\n",
       "</div>"
      ],
      "text/plain": [
       "                                           anat_file  \\\n",
       "0  /home/jyeatman/AFQ_data/stanford_hardi/sub-01/...   \n",
       "\n",
       "                                           bval_file  \\\n",
       "0  /home/jyeatman/AFQ_data/stanford_hardi/sub-01/...   \n",
       "\n",
       "                                           bvec_file  \\\n",
       "0  /home/jyeatman/AFQ_data/stanford_hardi/sub-01/...   \n",
       "\n",
       "                                            dwi_file  \\\n",
       "0  /home/jyeatman/AFQ_data/stanford_hardi/sub-01/...   \n",
       "\n",
       "                                                sess subject  \\\n",
       "0  /home/jyeatman/AFQ_data/stanford_hardi/sub-01/...  sub-01   \n",
       "\n",
       "                                                gtab  \\\n",
       "0  <dipy.core.gradients.GradientTable object at 0...   \n",
       "\n",
       "                                          dwi_affine  \n",
       "0  [[2.0, 0.0, 0.0, -80.0], [0.0, 2.0, 0.0, -120....  "
      ]
     },
     "execution_count": 10,
     "metadata": {},
     "output_type": "execute_result"
    }
   ],
   "source": [
    "myafq.data_frame"
   ]
  },
  {
   "cell_type": "code",
   "execution_count": 11,
   "metadata": {
    "collapsed": false
   },
   "outputs": [
    {
     "data": {
      "text/plain": [
       "0    /home/jyeatman/AFQ_data/stanford_hardi/sub-01/...\n",
       "Name: brain_mask_file, dtype: object"
      ]
     },
     "execution_count": 11,
     "metadata": {},
     "output_type": "execute_result"
    }
   ],
   "source": [
    "myafq.brain_mask"
   ]
  },
  {
   "cell_type": "code",
   "execution_count": 12,
   "metadata": {
    "collapsed": true
   },
   "outputs": [],
   "source": [
    "import nibabel as nib"
   ]
  },
  {
   "cell_type": "code",
   "execution_count": null,
   "metadata": {
    "collapsed": true
   },
   "outputs": [],
   "source": []
  },
  {
   "cell_type": "code",
   "execution_count": 13,
   "metadata": {
    "collapsed": false
   },
   "outputs": [],
   "source": [
    "dti_img = nib.load(myafq.dti[0])\n",
    "dti_data = dti_img.get_data()"
   ]
  },
  {
   "cell_type": "code",
   "execution_count": 14,
   "metadata": {
    "collapsed": false
   },
   "outputs": [
    {
     "data": {
      "text/plain": [
       "0    <dipy.core.gradients.GradientTable object at 0...\n",
       "Name: gtab, dtype: object"
      ]
     },
     "execution_count": 14,
     "metadata": {},
     "output_type": "execute_result"
    }
   ],
   "source": [
    "myafq['gtab']"
   ]
  },
  {
   "cell_type": "code",
   "execution_count": 15,
   "metadata": {
    "collapsed": false
   },
   "outputs": [
    {
     "data": {
      "text/plain": [
       "'/home/jyeatman/AFQ_data/stanford_hardi/sub-01/sess-01/dwi/sub-01_sess-01_dwiDTI_det_streamlines.trk'"
      ]
     },
     "execution_count": 15,
     "metadata": {},
     "output_type": "execute_result"
    }
   ],
   "source": [
    "myafq.streamlines[0]"
   ]
  },
  {
   "cell_type": "code",
   "execution_count": 16,
   "metadata": {
    "collapsed": false
   },
   "outputs": [],
   "source": [
    "import AFQ.utils.streamlines as aus"
   ]
  },
  {
   "cell_type": "code",
   "execution_count": 17,
   "metadata": {
    "collapsed": true
   },
   "outputs": [],
   "source": [
    "tt = aus.read_trk(myafq.streamlines[0])"
   ]
  },
  {
   "cell_type": "code",
   "execution_count": 22,
   "metadata": {
    "collapsed": false
   },
   "outputs": [
    {
     "data": {
      "text/plain": [
       "array([[ -18.16299057, -133.70718384,  -66.86914825],\n",
       "       [ -17.4991684 , -134.44889832,  -66.96507263],\n",
       "       [ -16.83534622, -135.19061279,  -67.06098938],\n",
       "       [ -16.38848877, -136.08425903,  -67.10240173],\n",
       "       [ -16.        , -137.        ,  -67.        ],\n",
       "       [ -15.61151123, -137.91574097,  -66.89759827]], dtype=float32)"
      ]
     },
     "execution_count": 22,
     "metadata": {},
     "output_type": "execute_result"
    }
   ],
   "source": [
    "len(tt)\n",
    "tt[0]"
   ]
  },
  {
   "cell_type": "code",
   "execution_count": 19,
   "metadata": {
    "collapsed": false
   },
   "outputs": [],
   "source": [
    "import AFQ.segmentation as seg"
   ]
  },
  {
   "cell_type": "code",
   "execution_count": 20,
   "metadata": {
    "collapsed": false
   },
   "outputs": [
    {
     "name": "stdout",
     "output_type": "stream",
     "text": [
      "Dataset is already in place. If you want to fetch it again please first remove the folder /home/jyeatman/AFQ_data/templates \n"
     ]
    }
   ],
   "source": [
    "bundles = api.make_bundle_dict(api.BUNDLES)"
   ]
  },
  {
   "cell_type": "code",
   "execution_count": 21,
   "metadata": {
    "collapsed": false
   },
   "outputs": [
    {
     "ename": "TypeError",
     "evalue": "Cannot cast array data from dtype('float64') to dtype('S32') according to the rule 'safe'",
     "output_type": "error",
     "traceback": [
      "\u001b[1;31m---------------------------------------------------------------------------\u001b[0m",
      "\u001b[1;31mTypeError\u001b[0m                                 Traceback (most recent call last)",
      "\u001b[1;32m<ipython-input-21-6e03adbb147b>\u001b[0m in \u001b[0;36m<module>\u001b[1;34m()\u001b[0m\n\u001b[0;32m      1\u001b[0m seg.segment(myafq.data_frame.dwi_file[0],myafq.data_frame.bval_file[0],myafq.data_frame.bvec_file[0],\n\u001b[1;32m----> 2\u001b[1;33m             myafq.streamlines[0],bundles)\n\u001b[0m",
      "\u001b[1;32m/home/jyeatman/git/pyAFQ/AFQ/segmentation.pyc\u001b[0m in \u001b[0;36msegment\u001b[1;34m(fdata, fbval, fbvec, streamlines, bundles, reg_template, mapping, as_generator, clip_to_roi, **reg_kwargs)\u001b[0m\n\u001b[0;32m     77\u001b[0m     \u001b[0mimg\u001b[0m\u001b[1;33m,\u001b[0m \u001b[0mdata\u001b[0m\u001b[1;33m,\u001b[0m \u001b[0mgtab\u001b[0m\u001b[1;33m,\u001b[0m \u001b[0mmask\u001b[0m \u001b[1;33m=\u001b[0m \u001b[0mut\u001b[0m\u001b[1;33m.\u001b[0m\u001b[0mprepare_data\u001b[0m\u001b[1;33m(\u001b[0m\u001b[0mfdata\u001b[0m\u001b[1;33m,\u001b[0m \u001b[0mfbval\u001b[0m\u001b[1;33m,\u001b[0m \u001b[0mfbvec\u001b[0m\u001b[1;33m)\u001b[0m\u001b[1;33m\u001b[0m\u001b[0m\n\u001b[0;32m     78\u001b[0m     xform_sl = [s for s in dtu.move_streamlines(streamlines,\n\u001b[1;32m---> 79\u001b[1;33m                                                 np.linalg.inv(img.affine))]\n\u001b[0m\u001b[0;32m     80\u001b[0m \u001b[1;33m\u001b[0m\u001b[0m\n\u001b[0;32m     81\u001b[0m     \u001b[1;32mif\u001b[0m \u001b[0mreg_template\u001b[0m \u001b[1;32mis\u001b[0m \u001b[0mNone\u001b[0m\u001b[1;33m:\u001b[0m\u001b[1;33m\u001b[0m\u001b[0m\n",
      "\u001b[1;32m/home/jyeatman/anaconda2/lib/python2.7/site-packages/dipy/tracking/utils.pyc\u001b[0m in \u001b[0;36mmove_streamlines\u001b[1;34m(streamlines, output_space, input_space)\u001b[0m\n\u001b[0;32m    915\u001b[0m \u001b[1;33m\u001b[0m\u001b[0m\n\u001b[0;32m    916\u001b[0m     \u001b[1;32mfor\u001b[0m \u001b[0msl\u001b[0m \u001b[1;32min\u001b[0m \u001b[0mstreamlines\u001b[0m\u001b[1;33m:\u001b[0m\u001b[1;33m\u001b[0m\u001b[0m\n\u001b[1;32m--> 917\u001b[1;33m         \u001b[1;32myield\u001b[0m \u001b[0mnp\u001b[0m\u001b[1;33m.\u001b[0m\u001b[0mdot\u001b[0m\u001b[1;33m(\u001b[0m\u001b[0msl\u001b[0m\u001b[1;33m,\u001b[0m \u001b[0mlin_T\u001b[0m\u001b[1;33m)\u001b[0m \u001b[1;33m+\u001b[0m \u001b[0moffset\u001b[0m\u001b[1;33m\u001b[0m\u001b[0m\n\u001b[0m\u001b[0;32m    918\u001b[0m \u001b[1;33m\u001b[0m\u001b[0m\n\u001b[0;32m    919\u001b[0m \u001b[1;33m\u001b[0m\u001b[0m\n",
      "\u001b[1;31mTypeError\u001b[0m: Cannot cast array data from dtype('float64') to dtype('S32') according to the rule 'safe'"
     ]
    }
   ],
   "source": [
    "seg.segment(myafq.data_frame.dwi_file[0],myafq.data_frame.bval_file[0],myafq.data_frame.bvec_file[0],\n",
    "            t,bundles)"
   ]
  },
  {
   "cell_type": "code",
   "execution_count": 22,
   "metadata": {
    "collapsed": false
   },
   "outputs": [
    {
     "data": {
      "text/plain": [
       "'/home/jyeatman/AFQ_data/stanford_hardi/sub-01/sess-01/dwi/sub-01_sess-01_dwi.nii.gz'"
      ]
     },
     "execution_count": 22,
     "metadata": {},
     "output_type": "execute_result"
    }
   ],
   "source": [
    "myafq.data_frame.dwi_file[0]"
   ]
  },
  {
   "cell_type": "code",
   "execution_count": 27,
   "metadata": {
    "collapsed": false
   },
   "outputs": [
    {
     "name": "stdout",
     "output_type": "stream",
     "text": [
      "Dataset is already in place. If you want to fetch it again please first remove the folder /home/jyeatman/AFQ_data/templates \n"
     ]
    }
   ],
   "source": [
    "    templates = afd.read_templates()\n"
   ]
  },
  {
   "cell_type": "code",
   "execution_count": 28,
   "metadata": {
    "collapsed": false
   },
   "outputs": [
    {
     "data": {
      "text/plain": [
       "{'ATR_roi1_L': <nibabel.nifti1.Nifti1Image at 0x7fd0ec090f10>,\n",
       " 'ATR_roi1_R': <nibabel.nifti1.Nifti1Image at 0x7fd0ec030810>,\n",
       " 'ATR_roi2_L': <nibabel.nifti1.Nifti1Image at 0x7fd0ec0302d0>,\n",
       " 'ATR_roi2_R': <nibabel.nifti1.Nifti1Image at 0x7fd0ec041650>,\n",
       " 'CGC_roi1_L': <nibabel.nifti1.Nifti1Image at 0x7fd0ec041b90>,\n",
       " 'CGC_roi1_R': <nibabel.nifti1.Nifti1Image at 0x7fd0ec022810>,\n",
       " 'CGC_roi2_L': <nibabel.nifti1.Nifti1Image at 0x7fd0ec022650>,\n",
       " 'CGC_roi2_R': <nibabel.nifti1.Nifti1Image at 0x7fd0ec030f50>,\n",
       " 'CST_roi1_L': <nibabel.nifti1.Nifti1Image at 0x7fd0ec0229d0>,\n",
       " 'CST_roi1_R': <nibabel.nifti1.Nifti1Image at 0x7fd0ec0301d0>,\n",
       " 'CST_roi2_L': <nibabel.nifti1.Nifti1Image at 0x7fd0ec0419d0>,\n",
       " 'CST_roi2_R': <nibabel.nifti1.Nifti1Image at 0x7fd0ec023b90>,\n",
       " 'FA_L': <nibabel.nifti1.Nifti1Image at 0x7fd0ec0231d0>,\n",
       " 'FA_R': <nibabel.nifti1.Nifti1Image at 0x7fd0ec0239d0>,\n",
       " 'FP_L': <nibabel.nifti1.Nifti1Image at 0x7fd0ec041490>,\n",
       " 'FP_R': <nibabel.nifti1.Nifti1Image at 0x7fd0ec030650>,\n",
       " 'HCC_roi1_L': <nibabel.nifti1.Nifti1Image at 0x7fd0ec022d50>,\n",
       " 'HCC_roi1_R': <nibabel.nifti1.Nifti1Image at 0x7fd0ec030d50>,\n",
       " 'HCC_roi2_L': <nibabel.nifti1.Nifti1Image at 0x7fd0ec022f50>,\n",
       " 'HCC_roi2_R': <nibabel.nifti1.Nifti1Image at 0x7fd0ec0309d0>,\n",
       " 'IFO_roi1_L': <nibabel.nifti1.Nifti1Image at 0x7fd0ec041f50>,\n",
       " 'IFO_roi1_R': <nibabel.nifti1.Nifti1Image at 0x7fd0ec030b90>,\n",
       " 'IFO_roi2_L': <nibabel.nifti1.Nifti1Image at 0x7fd0ec022190>,\n",
       " 'IFO_roi2_R': <nibabel.nifti1.Nifti1Image at 0x7fd0ec0232d0>,\n",
       " 'ILF_roi1_L': <nibabel.nifti1.Nifti1Image at 0x7fd0ec04c050>,\n",
       " 'ILF_roi1_R': <nibabel.nifti1.Nifti1Image at 0x7fd0ec023650>,\n",
       " 'ILF_roi2_L': <nibabel.nifti1.Nifti1Image at 0x7fd0ec041d50>,\n",
       " 'ILF_roi2_R': <nibabel.nifti1.Nifti1Image at 0x7fd0ec023d50>,\n",
       " 'SLF_roi1_L': <nibabel.nifti1.Nifti1Image at 0x7fd0ec023490>,\n",
       " 'SLF_roi1_R': <nibabel.nifti1.Nifti1Image at 0x7fd0ec041090>,\n",
       " 'SLF_roi2_L': <nibabel.nifti1.Nifti1Image at 0x7fd0ec030490>,\n",
       " 'SLF_roi2_R': <nibabel.nifti1.Nifti1Image at 0x7fd0ec023810>,\n",
       " 'SLFt_roi2_L': <nibabel.nifti1.Nifti1Image at 0x7fd0ec023f50>,\n",
       " 'SLFt_roi2_R': <nibabel.nifti1.Nifti1Image at 0x7fd0ec022b90>,\n",
       " 'UNC_roi1_L': <nibabel.nifti1.Nifti1Image at 0x7fd0ec0412d0>,\n",
       " 'UNC_roi1_R': <nibabel.nifti1.Nifti1Image at 0x7fd0ec022490>,\n",
       " 'UNC_roi2_L': <nibabel.nifti1.Nifti1Image at 0x7fd0ec0222d0>,\n",
       " 'UNC_roi2_R': <nibabel.nifti1.Nifti1Image at 0x7fd0ec041810>}"
      ]
     },
     "execution_count": 28,
     "metadata": {},
     "output_type": "execute_result"
    }
   ],
   "source": [
    "templates"
   ]
  },
  {
   "cell_type": "code",
   "execution_count": null,
   "metadata": {
    "collapsed": true
   },
   "outputs": [],
   "source": []
  }
 ],
 "metadata": {
  "kernelspec": {
   "display_name": "Python 2",
   "language": "python",
   "name": "python2"
  },
  "language_info": {
   "codemirror_mode": {
    "name": "ipython",
    "version": 2
   },
   "file_extension": ".py",
   "mimetype": "text/x-python",
   "name": "python",
   "nbconvert_exporter": "python",
   "pygments_lexer": "ipython2",
   "version": "2.7.12"
  }
 },
 "nbformat": 4,
 "nbformat_minor": 0
}
