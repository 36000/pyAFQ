{
 "cells": [
  {
   "cell_type": "markdown",
   "metadata": {},
   "source": [
    "## Download HCP diffusion data"
   ]
  },
  {
   "cell_type": "code",
   "execution_count": 1,
   "metadata": {
    "collapsed": true
   },
   "outputs": [],
   "source": [
    "import os"
   ]
  },
  {
   "cell_type": "markdown",
   "metadata": {},
   "source": [
    "### Get the data from AWS S3\n",
    "\n",
    "We assume that you have a file '~/.aws/credentials', that includes a section: \n",
    "\n",
    "    [hcp]\n",
    "    AWS_ACCESS_KEY_ID=XXXXXXXXXXXXXXXX\n",
    "    AWS_SECRET_ACCESS_KEY=XXXXXXXXXXXXXXXX\n",
    "with the credentials you got [from HCP](https://wiki.humanconnectome.org/display/PublicData/How+To+Connect+to+Connectome+Data+via+AWS)"
   ]
  },
  {
   "cell_type": "code",
   "execution_count": 2,
   "metadata": {
    "collapsed": true
   },
   "outputs": [],
   "source": [
    "subjects = [992774, 994273]\n",
    "#subjects = [991267]"
   ]
  },
  {
   "cell_type": "code",
   "execution_count": 3,
   "metadata": {
    "collapsed": false
   },
   "outputs": [],
   "source": [
    "from AFQ.data import fetch_hcp"
   ]
  },
  {
   "cell_type": "code",
   "execution_count": 4,
   "metadata": {
    "collapsed": false
   },
   "outputs": [],
   "source": [
    "data_files = fetch_hcp(subjects)"
   ]
  },
  {
   "cell_type": "code",
   "execution_count": 5,
   "metadata": {
    "collapsed": false
   },
   "outputs": [
    {
     "data": {
      "text/plain": [
       "{'/Users/arokem/AFQ_data/HCP/992774/sess/anat/T1w_acpc_dc.nii.gz': 'HCP/992774/T1w/T1w_acpc_dc.nii.gz',\n",
       " '/Users/arokem/AFQ_data/HCP/992774/sess/dwi/dwi.bvals': 'HCP/992774/T1w/Diffusion/bvals',\n",
       " '/Users/arokem/AFQ_data/HCP/992774/sess/dwi/dwi.bvecs': 'HCP/992774/T1w/Diffusion/bvecs',\n",
       " '/Users/arokem/AFQ_data/HCP/992774/sess/dwi/dwi.nii.gz': 'HCP/992774/T1w/Diffusion/data.nii.gz',\n",
       " '/Users/arokem/AFQ_data/HCP/994273/sess/anat/T1w_acpc_dc.nii.gz': 'HCP/994273/T1w/T1w_acpc_dc.nii.gz',\n",
       " '/Users/arokem/AFQ_data/HCP/994273/sess/dwi/dwi.bvals': 'HCP/994273/T1w/Diffusion/bvals',\n",
       " '/Users/arokem/AFQ_data/HCP/994273/sess/dwi/dwi.bvecs': 'HCP/994273/T1w/Diffusion/bvecs',\n",
       " '/Users/arokem/AFQ_data/HCP/994273/sess/dwi/dwi.nii.gz': 'HCP/994273/T1w/Diffusion/data.nii.gz'}"
      ]
     },
     "execution_count": 5,
     "metadata": {},
     "output_type": "execute_result"
    }
   ],
   "source": [
    "data_files"
   ]
  },
  {
   "cell_type": "code",
   "execution_count": null,
   "metadata": {
    "collapsed": true
   },
   "outputs": [],
   "source": []
  }
 ],
 "metadata": {
  "kernelspec": {
   "display_name": "Python 3",
   "language": "python",
   "name": "python3"
  },
  "language_info": {
   "codemirror_mode": {
    "name": "ipython",
    "version": 3
   },
   "file_extension": ".py",
   "mimetype": "text/x-python",
   "name": "python",
   "nbconvert_exporter": "python",
   "pygments_lexer": "ipython3",
   "version": "3.5.1"
  }
 },
 "nbformat": 4,
 "nbformat_minor": 0
}
