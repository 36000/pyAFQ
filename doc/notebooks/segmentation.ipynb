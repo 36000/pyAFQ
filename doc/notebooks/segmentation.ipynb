{
 "cells": [
  {
   "cell_type": "code",
   "execution_count": 1,
   "metadata": {
    "collapsed": true
   },
   "outputs": [],
   "source": [
    "import numpy as np\n",
    "import matplotlib.pyplot as plt\n",
    "%matplotlib inline"
   ]
  },
  {
   "cell_type": "code",
   "execution_count": 2,
   "metadata": {
    "collapsed": false
   },
   "outputs": [],
   "source": [
    "import AFQ.registration as reg\n",
    "import AFQ.utils.models as ut\n",
    "import AFQ.data as afd\n",
    "import AFQ.tractography as aft\n",
    "import AFQ.csd as csd\n",
    "import AFQ.dti as dti\n",
    "import dipy.data as dpd\n",
    "import nibabel as nib"
   ]
  },
  {
   "cell_type": "code",
   "execution_count": 3,
   "metadata": {
    "collapsed": false
   },
   "outputs": [
    {
     "name": "stdout",
     "output_type": "stream",
     "text": [
      "Dataset is already in place. If you want to fetch it again please first remove the folder /Users/arokem/.dipy/stanford_hardi \n"
     ]
    }
   ],
   "source": [
    "img, gtab = dpd.read_stanford_hardi()"
   ]
  },
  {
   "cell_type": "code",
   "execution_count": 4,
   "metadata": {
    "collapsed": false
   },
   "outputs": [
    {
     "name": "stdout",
     "output_type": "stream",
     "text": [
      "Dataset is already in place. If you want to fetch it again please first remove the folder /Users/arokem/AFQ_data/templates \n"
     ]
    }
   ],
   "source": [
    "afq_templates = afd.read_templates()"
   ]
  },
  {
   "cell_type": "code",
   "execution_count": 5,
   "metadata": {
    "collapsed": false
   },
   "outputs": [
    {
     "data": {
      "text/plain": [
       "{'ATR_roi1_L': <nibabel.nifti1.Nifti1Image at 0x11b4502b0>,\n",
       " 'ATR_roi1_R': <nibabel.nifti1.Nifti1Image at 0x11b44c2b0>,\n",
       " 'ATR_roi2_L': <nibabel.nifti1.Nifti1Image at 0x11b456400>,\n",
       " 'ATR_roi2_R': <nibabel.nifti1.Nifti1Image at 0x11b44cfd0>,\n",
       " 'CGC_roi1_L': <nibabel.nifti1.Nifti1Image at 0x11b45a550>,\n",
       " 'CGC_roi1_R': <nibabel.nifti1.Nifti1Image at 0x11b450da0>,\n",
       " 'CGC_roi2_L': <nibabel.nifti1.Nifti1Image at 0x11b456d30>,\n",
       " 'CGC_roi2_R': <nibabel.nifti1.Nifti1Image at 0x11b450c18>,\n",
       " 'CST_roi1_L': <nibabel.nifti1.Nifti1Image at 0x11b44c048>,\n",
       " 'CST_roi1_R': <nibabel.nifti1.Nifti1Image at 0x11b450438>,\n",
       " 'CST_roi2_L': <nibabel.nifti1.Nifti1Image at 0x11b4508d0>,\n",
       " 'CST_roi2_R': <nibabel.nifti1.Nifti1Image at 0x11b456048>,\n",
       " 'FA_L': <nibabel.nifti1.Nifti1Image at 0x11b44ca58>,\n",
       " 'FA_R': <nibabel.nifti1.Nifti1Image at 0x11b45a390>,\n",
       " 'FP_L': <nibabel.nifti1.Nifti1Image at 0x11b450a58>,\n",
       " 'FP_R': <nibabel.nifti1.Nifti1Image at 0x11b44cc18>,\n",
       " 'HCC_roi1_L': <nibabel.nifti1.Nifti1Image at 0x11b44c5c0>,\n",
       " 'HCC_roi1_R': <nibabel.nifti1.Nifti1Image at 0x11b456710>,\n",
       " 'HCC_roi2_L': <nibabel.nifti1.Nifti1Image at 0x11b44cdd8>,\n",
       " 'HCC_roi2_R': <nibabel.nifti1.Nifti1Image at 0x11b44c438>,\n",
       " 'IFO_roi1_L': <nibabel.nifti1.Nifti1Image at 0x11b456588>,\n",
       " 'IFO_roi1_R': <nibabel.nifti1.Nifti1Image at 0x11b45a208>,\n",
       " 'IFO_roi2_L': <nibabel.nifti1.Nifti1Image at 0x11b456eb8>,\n",
       " 'IFO_roi2_R': <nibabel.nifti1.Nifti1Image at 0x11b450748>,\n",
       " 'ILF_roi1_L': <nibabel.nifti1.Nifti1Image at 0x11b105fd0>,\n",
       " 'ILF_roi1_R': <nibabel.nifti1.Nifti1Image at 0x11b456a20>,\n",
       " 'ILF_roi2_L': <nibabel.nifti1.Nifti1Image at 0x10a17d4e0>,\n",
       " 'ILF_roi2_R': <nibabel.nifti1.Nifti1Image at 0x11b44c748>,\n",
       " 'SLF_roi1_L': <nibabel.nifti1.Nifti1Image at 0x11b4505c0>,\n",
       " 'SLF_roi1_R': <nibabel.nifti1.Nifti1Image at 0x11b105dd8>,\n",
       " 'SLF_roi2_L': <nibabel.nifti1.Nifti1Image at 0x11b456278>,\n",
       " 'SLF_roi2_R': <nibabel.nifti1.Nifti1Image at 0x11b456ba8>,\n",
       " 'SLFt_roi2_L': <nibabel.nifti1.Nifti1Image at 0x11b456898>,\n",
       " 'SLFt_roi2_R': <nibabel.nifti1.Nifti1Image at 0x11b105c18>,\n",
       " 'UNC_roi1_L': <nibabel.nifti1.Nifti1Image at 0x11b44c8d0>,\n",
       " 'UNC_roi1_R': <nibabel.nifti1.Nifti1Image at 0x11b450048>,\n",
       " 'UNC_roi2_L': <nibabel.nifti1.Nifti1Image at 0x11b456c88>,\n",
       " 'UNC_roi2_R': <nibabel.nifti1.Nifti1Image at 0x11b450f60>}"
      ]
     },
     "execution_count": 5,
     "metadata": {},
     "output_type": "execute_result"
    }
   ],
   "source": [
    "afq_templates"
   ]
  },
  {
   "cell_type": "code",
   "execution_count": null,
   "metadata": {
    "collapsed": false
   },
   "outputs": [
    {
     "name": "stdout",
     "output_type": "stream",
     "text": [
      "Data size is approximately 35MB\n",
      "Dataset is already in place. If you want to fetch it again please first remove the folder /Users/arokem/.dipy/mni_template \n",
      "Creating scale space from the moving image. Levels: 3. Sigma factor: 0.200000.\n",
      "Creating scale space from the static image. Levels: 3. Sigma factor: 0.200000.\n",
      "Optimizing level 2\n",
      "Optimizing level 1\n",
      "Optimizing level 0"
     ]
    }
   ],
   "source": [
    "MNI_T2 = dpd.read_mni_template()\n",
    "MNI_T2_data = MNI_T2.get_data()\n",
    "MNI_T2_affine = MNI_T2.get_affine()\n",
    "dwi = img\n",
    "dwi_affine = dwi.get_affine()\n",
    "dwi_data = dwi.get_data()\n",
    "mean_b0 = np.mean(dwi_data[..., gtab.b0s_mask], -1)\n",
    "warped_b0, mapping = reg.syn_registration(mean_b0, MNI_T2_data,\n",
    "                                          moving_affine=dwi_affine,\n",
    "                                          static_affine=MNI_T2_affine,\n",
    "                                          step_length=0.1,\n",
    "                                          sigma_diff=2.0,\n",
    "                                          metric='CC',\n",
    "                                          dim=3,\n",
    "                                          level_iters=[10, 10, 5],\n",
    "                                          prealign=None)\n",
    "\n"
   ]
  },
  {
   "cell_type": "code",
   "execution_count": null,
   "metadata": {
    "collapsed": false
   },
   "outputs": [],
   "source": [
    "warped_b0.shape"
   ]
  },
  {
   "cell_type": "code",
   "execution_count": null,
   "metadata": {
    "collapsed": false
   },
   "outputs": [],
   "source": [
    "mean_b0.shape"
   ]
  },
  {
   "cell_type": "code",
   "execution_count": null,
   "metadata": {
    "collapsed": true
   },
   "outputs": [],
   "source": [
    "CST_L1 = afq_templates['CST_roi1_L']\n",
    "CST_L2 = afq_templates['CST_roi2_L']"
   ]
  },
  {
   "cell_type": "code",
   "execution_count": null,
   "metadata": {
    "collapsed": false
   },
   "outputs": [],
   "source": [
    "CST_L1_data = CST_L1.get_data()\n",
    "CST_L2_data = CST_L2.get_data()"
   ]
  },
  {
   "cell_type": "code",
   "execution_count": null,
   "metadata": {
    "collapsed": true
   },
   "outputs": [],
   "source": [
    "warped_CST_L1 = mapping.transform_inverse(CST_L1_data, interpolation='nearest')"
   ]
  },
  {
   "cell_type": "code",
   "execution_count": null,
   "metadata": {
    "collapsed": true
   },
   "outputs": [],
   "source": [
    "from dipy.segment.mask import median_otsu"
   ]
  },
  {
   "cell_type": "code",
   "execution_count": null,
   "metadata": {
    "collapsed": false
   },
   "outputs": [],
   "source": [
    "masked_b0, brain_mask = median_otsu(mean_b0)"
   ]
  },
  {
   "cell_type": "code",
   "execution_count": null,
   "metadata": {
    "collapsed": false
   },
   "outputs": [],
   "source": [
    "plt.matshow(brain_mask[:, :, 40])"
   ]
  },
  {
   "cell_type": "code",
   "execution_count": null,
   "metadata": {
    "collapsed": false
   },
   "outputs": [],
   "source": [
    "nib.save(nib.Nifti1Image(brain_mask.astype(int), img.affine), 'brain_mask')"
   ]
  },
  {
   "cell_type": "code",
   "execution_count": null,
   "metadata": {
    "collapsed": false
   },
   "outputs": [],
   "source": [
    "#dti.fit_dti(['/Users/arokem/.dipy/stanford_hardi/HARDI150.nii.gz'], \n",
    "#            ['/Users/arokem/.dipy/stanford_hardi/HARDI150.bval'], \n",
    "#            ['/Users/arokem/.dipy/stanford_hardi/HARDI150.bvec'], \n",
    "#            out_dir='.', mask='brain_mask.nii')"
   ]
  },
  {
   "cell_type": "code",
   "execution_count": null,
   "metadata": {
    "collapsed": true
   },
   "outputs": [],
   "source": [
    "#nib.save(nib.Nifti1Image((nib.load('dti_FA.nii.gz').get_data() > 0.2).astype(int), img.affine), 'wm_mask.nii.gz')"
   ]
  },
  {
   "cell_type": "code",
   "execution_count": null,
   "metadata": {
    "collapsed": false
   },
   "outputs": [],
   "source": [
    "#csd.fit_csd(['/Users/arokem/.dipy/stanford_hardi/HARDI150.nii.gz'], \n",
    "#            ['/Users/arokem/.dipy/stanford_hardi/HARDI150.bval'], \n",
    "#            ['/Users/arokem/.dipy/stanford_hardi/HARDI150.bvec'], \n",
    "#            out_dir='.',\n",
    "#            mask='brain_mask.nii')"
   ]
  },
  {
   "cell_type": "code",
   "execution_count": null,
   "metadata": {
    "collapsed": false
   },
   "outputs": [],
   "source": [
    "mask = nib.load('wm_mask.nii.gz').get_data()"
   ]
  },
  {
   "cell_type": "code",
   "execution_count": null,
   "metadata": {
    "collapsed": false
   },
   "outputs": [],
   "source": [
    "plt.matshow(mask[:, :, 40])"
   ]
  },
  {
   "cell_type": "code",
   "execution_count": null,
   "metadata": {
    "collapsed": true
   },
   "outputs": [],
   "source": [
    "csd_coeff = nib.load('csd_sh_coeff.nii.gz').get_data()"
   ]
  },
  {
   "cell_type": "code",
   "execution_count": null,
   "metadata": {
    "collapsed": false
   },
   "outputs": [],
   "source": [
    "plt.matshow(csd_coeff[:,:,40, 0])"
   ]
  },
  {
   "cell_type": "code",
   "execution_count": null,
   "metadata": {
    "collapsed": false
   },
   "outputs": [],
   "source": [
    "#localtracking = aft.track('./csd_sh_coeff.nii.gz', seed_density=[1, 1, 1],\n",
    "#                          seed_mask=nib.load('wm_mask.nii.gz').get_data(), \n",
    "#                          stop_mask=nib.load('wm_mask.nii.gz').get_data())"
   ]
  },
  {
   "cell_type": "code",
   "execution_count": 60,
   "metadata": {
    "collapsed": false
   },
   "outputs": [],
   "source": [
    "#streamlines = list(localtracking)"
   ]
  },
  {
   "cell_type": "code",
   "execution_count": 65,
   "metadata": {
    "collapsed": false
   },
   "outputs": [],
   "source": [
    "#sl_long = [sl for sl in streamlines if sl.shape[0]>3]"
   ]
  },
  {
   "cell_type": "code",
   "execution_count": null,
   "metadata": {
    "collapsed": true
   },
   "outputs": [],
   "source": [
    "from AFQ.utils.streamlines import write_trk"
   ]
  },
  {
   "cell_type": "code",
   "execution_count": null,
   "metadata": {
    "collapsed": false
   },
   "outputs": [],
   "source": [
    "write_trk('./csd_streamlines.trk', sl_long)"
   ]
  },
  {
   "cell_type": "code",
   "execution_count": 71,
   "metadata": {
    "collapsed": false
   },
   "outputs": [
    {
     "data": {
      "text/plain": [
       "array([[ -6.05825098e+01,  -5.73190608e+01,   2.04144600e+01],\n",
       "       [ -6.01661569e+01,  -5.72341160e+01,   2.06779646e+01],\n",
       "       [ -5.97813161e+01,  -5.71022099e+01,   2.09686506e+01],\n",
       "       [ -5.94332516e+01,  -5.69233425e+01,   2.12798700e+01],\n",
       "       [ -5.90983413e+01,  -5.66685083e+01,   2.15498600e+01],\n",
       "       [ -5.87634310e+01,  -5.64136740e+01,   2.18198499e+01],\n",
       "       [ -5.84747913e+01,  -5.61118785e+01,   2.20948164e+01],\n",
       "       [ -5.81712656e+01,  -5.57810773e+01,   2.23149137e+01],\n",
       "       [ -5.78677400e+01,  -5.54502762e+01,   2.25350110e+01],\n",
       "       [ -5.75642144e+01,  -5.51194751e+01,   2.27551083e+01],\n",
       "       [ -5.72606888e+01,  -5.47886740e+01,   2.29752056e+01],\n",
       "       [ -5.69571632e+01,  -5.44578729e+01,   2.31953030e+01],\n",
       "       [ -5.66536375e+01,  -5.41270718e+01,   2.34154003e+01],\n",
       "       [ -5.63501119e+01,  -5.37962707e+01,   2.36354976e+01],\n",
       "       [ -5.59492869e+01,  -5.35303867e+01,   2.37720442e+01],\n",
       "       [ -5.55132593e+01,  -5.33114641e+01,   2.38813734e+01],\n",
       "       [ -5.50306986e+01,  -5.31864641e+01,   2.39202338e+01],\n",
       "       [ -5.45556850e+01,  -5.30324586e+01,   2.38948489e+01],\n",
       "       [ -5.40806714e+01,  -5.28784530e+01,   2.38694641e+01],\n",
       "       [ -5.35967773e+01,  -5.27714088e+01,   2.38032218e+01],\n",
       "       [ -5.31128832e+01,  -5.26643646e+01,   2.37369795e+01],\n",
       "       [ -5.26289891e+01,  -5.25573204e+01,   2.36707372e+01],\n",
       "       [ -5.21317559e+01,  -5.25262431e+01,   2.36283891e+01],\n",
       "       [ -5.16345228e+01,  -5.24951657e+01,   2.35860410e+01],\n",
       "       [ -5.11372896e+01,  -5.24640884e+01,   2.35436930e+01],\n",
       "       [ -5.06400564e+01,  -5.24330110e+01,   2.35013449e+01],\n",
       "       [ -5.01555038e+01,  -5.23729282e+01,   2.33936468e+01],\n",
       "       [ -4.96582707e+01,  -5.23418508e+01,   2.33512987e+01],\n",
       "       [ -4.91610375e+01,  -5.23107735e+01,   2.33089507e+01],\n",
       "       [ -4.87313271e+01,  -5.20987569e+01,   2.31661293e+01],\n",
       "       [ -4.84839505e+01,  -5.17707182e+01,   2.28811811e+01],\n",
       "       [ -4.82365740e+01,  -5.14426796e+01,   2.25962330e+01],\n",
       "       [ -4.79891974e+01,  -5.11146409e+01,   2.23112848e+01],\n",
       "       [ -4.78016559e+01,  -5.08045580e+01,   2.19667898e+01],\n",
       "       [ -4.76141144e+01,  -5.04944751e+01,   2.16222948e+01],\n",
       "       [ -4.73833342e+01,  -5.02603591e+01,   2.12455586e+01],\n",
       "       [ -4.71525541e+01,  -5.00262431e+01,   2.08688223e+01],\n",
       "       [ -4.69807922e+01,  -4.97631215e+01,   2.04798944e+01],\n",
       "       [ -4.68090303e+01,  -4.95000000e+01,   2.00909665e+01],\n",
       "       [ -4.66372683e+01,  -4.92368785e+01,   1.97020386e+01],\n",
       "       [ -4.65509225e+01,  -4.89917127e+01,   1.92749108e+01],\n",
       "       [ -4.64645766e+01,  -4.87465470e+01,   1.88477831e+01],\n",
       "       [ -4.63782308e+01,  -4.85013812e+01,   1.84206553e+01],\n",
       "       [ -4.62918849e+01,  -4.82562155e+01,   1.79935275e+01],\n",
       "       [ -4.62644250e+01,  -4.79820442e+01,   1.75763032e+01],\n",
       "       [ -4.62369650e+01,  -4.77078729e+01,   1.71590790e+01],\n",
       "       [ -4.62095050e+01,  -4.74337017e+01,   1.67418548e+01],\n",
       "       [ -4.61820450e+01,  -4.71595304e+01,   1.63246305e+01],\n",
       "       [ -4.62464986e+01,  -4.69033149e+01,   1.59001316e+01],\n",
       "       [ -4.62190386e+01,  -4.66291436e+01,   1.54829073e+01],\n",
       "       [ -4.62460641e+01,  -4.63259669e+01,   1.50862293e+01],\n",
       "       [ -4.62730895e+01,  -4.60227901e+01,   1.46895513e+01],\n",
       "       [ -4.60855480e+01,  -4.57127072e+01,   1.43450563e+01],\n",
       "       [ -4.58980064e+01,  -4.54026243e+01,   1.40005613e+01],\n",
       "       [ -4.57104649e+01,  -4.50925414e+01,   1.36560663e+01],\n",
       "       [ -4.55229234e+01,  -4.47824586e+01,   1.33115714e+01],\n",
       "       [ -4.53307517e+01,  -4.44254144e+01,   1.30190146e+01],\n",
       "       [ -4.50833752e+01,  -4.40973757e+01,   1.27340664e+01],\n",
       "       [ -4.48359986e+01,  -4.37693370e+01,   1.24491182e+01],\n",
       "       [ -4.46438269e+01,  -4.34122928e+01,   1.21565614e+01],\n",
       "       [ -4.44516552e+01,  -4.30552486e+01,   1.18640046e+01],\n",
       "       [ -4.42594835e+01,  -4.26982044e+01,   1.15714478e+01],\n",
       "       [ -4.40673119e+01,  -4.23411602e+01,   1.12788910e+01],\n",
       "       [ -4.38751402e+01,  -4.19841160e+01,   1.09863342e+01],\n",
       "       [ -4.37376613e+01,  -4.15980663e+01,   1.06998640e+01],\n",
       "       [ -4.36001824e+01,  -4.12120166e+01,   1.04133938e+01],\n",
       "       [ -4.35141507e+01,  -4.07969613e+01,   1.01482001e+01],\n",
       "       [ -4.34281191e+01,  -4.03819061e+01,   9.88300641e+00],\n",
       "       [ -4.33420875e+01,  -3.99668508e+01,   9.61781270e+00],\n",
       "       [ -4.32560559e+01,  -3.95517956e+01,   9.35261900e+00],\n",
       "       [ -4.31785684e+01,  -3.91837017e+01,   9.02322173e+00],\n",
       "       [ -4.31010810e+01,  -3.88156077e+01,   8.69382446e+00],\n",
       "       [ -4.30235936e+01,  -3.84475138e+01,   8.36442718e+00],\n",
       "       [ -4.29669366e+01,  -3.81263812e+01,   7.98539705e+00],\n",
       "       [ -4.29102796e+01,  -3.78052486e+01,   7.60636692e+00],\n",
       "       [ -4.28828196e+01,  -3.75310773e+01,   7.18914269e+00],\n",
       "       [ -4.28553596e+01,  -3.72569061e+01,   6.77191845e+00],\n",
       "       [ -4.28629034e+01,  -3.70296961e+01,   6.32658853e+00],\n",
       "       [ -4.28704472e+01,  -3.68024862e+01,   5.88125862e+00],\n",
       "       [ -4.29349007e+01,  -3.65462707e+01,   5.45675965e+00],\n",
       "       [ -4.29993543e+01,  -3.62900552e+01,   5.03226068e+00],\n",
       "       [ -4.31571198e+01,  -3.60517956e+01,   4.62196522e+00],\n",
       "       [ -4.33148853e+01,  -3.58135359e+01,   4.21166976e+00],\n",
       "       [ -4.34726509e+01,  -3.55752762e+01,   3.80137429e+00],\n",
       "       [ -4.36734814e+01,  -3.53839779e+01,   3.38535501e+00],\n",
       "       [ -4.38743119e+01,  -3.51926796e+01,   2.96933573e+00],\n",
       "       [ -4.41173109e+01,  -3.50483425e+01,   2.55688171e+00],\n",
       "       [ -4.44002928e+01,  -3.49509669e+01,   2.15633306e+00],\n",
       "       [ -4.47296241e+01,  -3.48245856e+01,   1.80197635e+00],\n",
       "       [ -4.50943949e+01,  -3.47451657e+01,   1.46935835e+00],\n",
       "       [ -4.54591657e+01,  -3.46657459e+01,   1.13674036e+00],\n",
       "       [ -4.58543461e+01,  -3.46332873e+01,   8.32143999e-01],\n",
       "       [ -4.62842425e+01,  -3.45718232e+01,   5.84331142e-01],\n",
       "       [ -4.67141390e+01,  -3.45103591e+01,   3.36518284e-01],\n",
       "       [ -4.71662686e+01,  -3.44958564e+01,   1.23519479e-01],\n",
       "       [ -4.76411555e+01,  -3.44523481e+01,  -2.67782085e-02],\n",
       "       [ -4.81160425e+01,  -3.44088398e+01,  -1.77075896e-01],\n",
       "       [ -4.85909295e+01,  -3.43653315e+01,  -3.27373584e-01],\n",
       "       [ -4.90658164e+01,  -3.43218232e+01,  -4.77671271e-01],\n",
       "       [ -4.95531650e+01,  -3.42493094e+01,  -5.62719243e-01],\n",
       "       [ -5.00405135e+01,  -3.41767956e+01,  -6.47767214e-01],\n",
       "       [ -5.05278620e+01,  -3.41042818e+01,  -7.32815185e-01],\n",
       "       [ -5.10152106e+01,  -3.40317680e+01,  -8.17863156e-01],\n",
       "       [ -5.15044231e+01,  -3.39302486e+01,  -8.36965047e-01],\n",
       "       [ -5.19936357e+01,  -3.38287293e+01,  -8.56066938e-01],\n",
       "       [ -5.24828483e+01,  -3.37272099e+01,  -8.75168828e-01],\n",
       "       [ -5.29720609e+01,  -3.36256906e+01,  -8.94270719e-01],\n",
       "       [ -5.34612734e+01,  -3.35241713e+01,  -9.13372610e-01],\n",
       "       [ -5.39578149e+01,  -3.34696133e+01,  -8.91693350e-01],\n",
       "       [ -5.44543564e+01,  -3.34150552e+01,  -8.70014091e-01],\n",
       "       [ -5.49508979e+01,  -3.33604972e+01,  -8.48334831e-01],\n",
       "       [ -5.54474393e+01,  -3.33059392e+01,  -8.26655572e-01],\n",
       "       [ -5.59439808e+01,  -3.32513812e+01,  -8.04976312e-01],\n",
       "       [ -5.64405223e+01,  -3.31968232e+01,  -7.83297053e-01],\n",
       "       [ -5.69370637e+01,  -3.31422652e+01,  -7.61617793e-01],\n",
       "       [ -5.74336052e+01,  -3.30877072e+01,  -7.39938534e-01],\n",
       "       [ -5.79295658e+01,  -3.30801105e+01,  -6.76967532e-01],\n",
       "       [ -5.84147987e+01,  -3.29965470e+01,  -5.89983633e-01],\n",
       "       [ -5.89000316e+01,  -3.29129834e+01,  -5.02999733e-01],\n",
       "       [ -5.93819253e+01,  -3.28763812e+01,  -3.74786332e-01],\n",
       "       [ -5.98638191e+01,  -3.28397790e+01,  -2.46572932e-01],\n",
       "       [ -6.03457129e+01,  -3.28031768e+01,  -1.18359532e-01],\n",
       "       [ -6.07975120e+01,  -3.28453039e+01,   9.16472107e-02],\n",
       "       [ -6.12144857e+01,  -3.29164365e+01,   3.58242681e-01],\n",
       "       [ -6.16314593e+01,  -3.29875691e+01,   6.24838152e-01],\n",
       "       [ -6.20285769e+01,  -3.30117403e+01,   9.27680291e-01],\n",
       "       [ -6.24256945e+01,  -3.30359116e+01,   1.23052243e+00],\n",
       "       [ -6.28192709e+01,  -3.32769337e+01,   1.42289182e+00],\n",
       "       [ -6.32128472e+01,  -3.35179558e+01,   1.61526121e+00],\n",
       "       [ -6.36064236e+01,  -3.37589779e+01,   1.80763061e+00],\n",
       "       [ -6.40000000e+01,  -3.40000000e+01,   2.00000000e+00],\n",
       "       [ -6.43935764e+01,  -3.42410221e+01,   2.19236939e+00],\n",
       "       [ -6.47871528e+01,  -3.44820442e+01,   2.38473879e+00],\n",
       "       [ -6.52489082e+01,  -3.45711326e+01,   2.55457751e+00]])"
      ]
     },
     "execution_count": 71,
     "metadata": {},
     "output_type": "execute_result"
    }
   ],
   "source": []
  },
  {
   "cell_type": "code",
   "execution_count": null,
   "metadata": {
    "collapsed": true
   },
   "outputs": [],
   "source": [
    "## For the corticospinal tract, need to potentially deal with fibers that loop through the brainstem\n",
    "\n",
    "## Deal with fiber outliers\n",
    "\n",
    "## Compare with the track probability maps? "
   ]
  }
 ],
 "metadata": {
  "kernelspec": {
   "display_name": "Python 3",
   "language": "python",
   "name": "python3"
  },
  "language_info": {
   "codemirror_mode": {
    "name": "ipython",
    "version": 3
   },
   "file_extension": ".py",
   "mimetype": "text/x-python",
   "name": "python",
   "nbconvert_exporter": "python",
   "pygments_lexer": "ipython3",
   "version": "3.5.1"
  }
 },
 "nbformat": 4,
 "nbformat_minor": 0
}
