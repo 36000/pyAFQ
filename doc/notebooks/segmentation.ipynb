{
 "cells": [
  {
   "cell_type": "code",
   "execution_count": 1,
   "metadata": {
    "collapsed": true
   },
   "outputs": [],
   "source": [
    "import numpy as np\n",
    "import matplotlib.pyplot as plt\n",
    "%matplotlib inline"
   ]
  },
  {
   "cell_type": "code",
   "execution_count": 20,
   "metadata": {
    "collapsed": false
   },
   "outputs": [],
   "source": [
    "import AFQ.registration as reg\n",
    "import AFQ.utils.models as ut\n",
    "import AFQ.data as afd\n",
    "import AFQ.tractography as aft\n",
    "import AFQ.csd as csd\n",
    "import dipy.data as dpd\n",
    "import nibabel as nib"
   ]
  },
  {
   "cell_type": "code",
   "execution_count": 3,
   "metadata": {
    "collapsed": false
   },
   "outputs": [
    {
     "name": "stdout",
     "output_type": "stream",
     "text": [
      "Dataset is already in place. If you want to fetch it again please first remove the folder /Users/arokem/.dipy/stanford_hardi \n"
     ]
    }
   ],
   "source": [
    "img, gtab = dpd.read_stanford_hardi()"
   ]
  },
  {
   "cell_type": "code",
   "execution_count": 4,
   "metadata": {
    "collapsed": false
   },
   "outputs": [
    {
     "name": "stdout",
     "output_type": "stream",
     "text": [
      "Dataset is already in place. If you want to fetch it again please first remove the folder /Users/arokem/AFQ_data/templates \n"
     ]
    }
   ],
   "source": [
    "afq_templates = afd.read_templates()"
   ]
  },
  {
   "cell_type": "code",
   "execution_count": 5,
   "metadata": {
    "collapsed": false
   },
   "outputs": [
    {
     "data": {
      "text/plain": [
       "{'ATR_roi1_L': <nibabel.nifti1.Nifti1Image at 0x11b39c5c0>,\n",
       " 'ATR_roi1_R': <nibabel.nifti1.Nifti1Image at 0x11b39c2b0>,\n",
       " 'ATR_roi2_L': <nibabel.nifti1.Nifti1Image at 0x11b384f60>,\n",
       " 'ATR_roi2_R': <nibabel.nifti1.Nifti1Image at 0x11b40c198>,\n",
       " 'CGC_roi1_L': <nibabel.nifti1.Nifti1Image at 0x11b411b38>,\n",
       " 'CGC_roi1_R': <nibabel.nifti1.Nifti1Image at 0x11b39c438>,\n",
       " 'CGC_roi2_L': <nibabel.nifti1.Nifti1Image at 0x11b40c278>,\n",
       " 'CGC_roi2_R': <nibabel.nifti1.Nifti1Image at 0x11b411208>,\n",
       " 'CST_roi1_L': <nibabel.nifti1.Nifti1Image at 0x11b411828>,\n",
       " 'CST_roi1_R': <nibabel.nifti1.Nifti1Image at 0x11b40ca20>,\n",
       " 'CST_roi2_L': <nibabel.nifti1.Nifti1Image at 0x11b40c710>,\n",
       " 'CST_roi2_R': <nibabel.nifti1.Nifti1Image at 0x11b40cd30>,\n",
       " 'FA_L': <nibabel.nifti1.Nifti1Image at 0x11b411e48>,\n",
       " 'FA_R': <nibabel.nifti1.Nifti1Image at 0x11b39cbe0>,\n",
       " 'FP_L': <nibabel.nifti1.Nifti1Image at 0x11b39c198>,\n",
       " 'FP_R': <nibabel.nifti1.Nifti1Image at 0x11b3845c0>,\n",
       " 'HCC_roi1_L': <nibabel.nifti1.Nifti1Image at 0x11b40ceb8>,\n",
       " 'HCC_roi1_R': <nibabel.nifti1.Nifti1Image at 0x11b39c8d0>,\n",
       " 'HCC_roi2_L': <nibabel.nifti1.Nifti1Image at 0x11b384c18>,\n",
       " 'HCC_roi2_R': <nibabel.nifti1.Nifti1Image at 0x11b40c588>,\n",
       " 'IFO_roi1_L': <nibabel.nifti1.Nifti1Image at 0x11b40cc88>,\n",
       " 'IFO_roi1_R': <nibabel.nifti1.Nifti1Image at 0x11b384908>,\n",
       " 'IFO_roi2_L': <nibabel.nifti1.Nifti1Image at 0x11b411390>,\n",
       " 'IFO_roi2_R': <nibabel.nifti1.Nifti1Image at 0x11b411cc0>,\n",
       " 'ILF_roi1_L': <nibabel.nifti1.Nifti1Image at 0x11b384da0>,\n",
       " 'ILF_roi1_R': <nibabel.nifti1.Nifti1Image at 0x11b4119b0>,\n",
       " 'ILF_roi2_L': <nibabel.nifti1.Nifti1Image at 0x11b384a90>,\n",
       " 'ILF_roi2_R': <nibabel.nifti1.Nifti1Image at 0x11b40c400>,\n",
       " 'SLF_roi1_L': <nibabel.nifti1.Nifti1Image at 0x11b39cda0>,\n",
       " 'SLF_roi1_R': <nibabel.nifti1.Nifti1Image at 0x11b411518>,\n",
       " 'SLF_roi2_L': <nibabel.nifti1.Nifti1Image at 0x11b39cf60>,\n",
       " 'SLF_roi2_R': <nibabel.nifti1.Nifti1Image at 0x11b384438>,\n",
       " 'SLFt_roi2_L': <nibabel.nifti1.Nifti1Image at 0x11b384780>,\n",
       " 'SLFt_roi2_R': <nibabel.nifti1.Nifti1Image at 0x11b39c748>,\n",
       " 'UNC_roi1_L': <nibabel.nifti1.Nifti1Image at 0x11b40cba8>,\n",
       " 'UNC_roi1_R': <nibabel.nifti1.Nifti1Image at 0x11b40c898>,\n",
       " 'UNC_roi2_L': <nibabel.nifti1.Nifti1Image at 0x11b4116a0>,\n",
       " 'UNC_roi2_R': <nibabel.nifti1.Nifti1Image at 0x11b39ca58>}"
      ]
     },
     "execution_count": 5,
     "metadata": {},
     "output_type": "execute_result"
    }
   ],
   "source": [
    "afq_templates"
   ]
  },
  {
   "cell_type": "code",
   "execution_count": 6,
   "metadata": {
    "collapsed": false
   },
   "outputs": [
    {
     "name": "stdout",
     "output_type": "stream",
     "text": [
      "Data size is approximately 35MB\n",
      "Dataset is already in place. If you want to fetch it again please first remove the folder /Users/arokem/.dipy/mni_template \n",
      "Creating scale space from the moving image. Levels: 3. Sigma factor: 0.200000.\n",
      "Creating scale space from the static image. Levels: 3. Sigma factor: 0.200000.\n",
      "Optimizing level 2\n",
      "Optimizing level 1\n",
      "Optimizing level 0\n"
     ]
    }
   ],
   "source": [
    "MNI_T2 = dpd.read_mni_template()\n",
    "MNI_T2_data = MNI_T2.get_data()\n",
    "MNI_T2_affine = MNI_T2.get_affine()\n",
    "dwi = img\n",
    "dwi_affine = dwi.get_affine()\n",
    "dwi_data = dwi.get_data()\n",
    "mean_b0 = np.mean(dwi_data[..., gtab.b0s_mask], -1)\n",
    "warped_b0, mapping = reg.syn_registration(mean_b0, MNI_T2_data,\n",
    "                                          moving_affine=dwi_affine,\n",
    "                                          static_affine=MNI_T2_affine,\n",
    "                                          step_length=0.1,\n",
    "                                          sigma_diff=2.0,\n",
    "                                          metric='CC',\n",
    "                                          dim=3,\n",
    "                                          level_iters=[10, 10, 5],\n",
    "                                          prealign=None)\n",
    "\n"
   ]
  },
  {
   "cell_type": "code",
   "execution_count": 8,
   "metadata": {
    "collapsed": false
   },
   "outputs": [
    {
     "data": {
      "text/plain": [
       "(197, 233, 189)"
      ]
     },
     "execution_count": 8,
     "metadata": {},
     "output_type": "execute_result"
    }
   ],
   "source": [
    "warped_b0.shape"
   ]
  },
  {
   "cell_type": "code",
   "execution_count": 9,
   "metadata": {
    "collapsed": false
   },
   "outputs": [
    {
     "data": {
      "text/plain": [
       "(81, 106, 76)"
      ]
     },
     "execution_count": 9,
     "metadata": {},
     "output_type": "execute_result"
    }
   ],
   "source": [
    "mean_b0.shape"
   ]
  },
  {
   "cell_type": "code",
   "execution_count": 11,
   "metadata": {
    "collapsed": true
   },
   "outputs": [],
   "source": [
    "ATR_L1 = afq_templates['ATR_roi1_L']\n",
    "ATR_L2 = afq_templates['ATR_roi2_L']"
   ]
  },
  {
   "cell_type": "code",
   "execution_count": 13,
   "metadata": {
    "collapsed": false
   },
   "outputs": [],
   "source": [
    "ATR_L1_data = ATR_L1.get_data()\n",
    "ATR_L2_data = ATR_L2.get_data()"
   ]
  },
  {
   "cell_type": "code",
   "execution_count": 14,
   "metadata": {
    "collapsed": false
   },
   "outputs": [
    {
     "data": {
      "text/plain": [
       "dtype('<i2')"
      ]
     },
     "execution_count": 14,
     "metadata": {},
     "output_type": "execute_result"
    }
   ],
   "source": [
    "ATR_L1_data.dtype"
   ]
  },
  {
   "cell_type": "code",
   "execution_count": 15,
   "metadata": {
    "collapsed": true
   },
   "outputs": [],
   "source": [
    "warped_ATR_L1 = mapping.transform_inverse(ATR_L1_data, interpolation='nearest')"
   ]
  },
  {
   "cell_type": "code",
   "execution_count": 16,
   "metadata": {
    "collapsed": false
   },
   "outputs": [
    {
     "data": {
      "text/plain": [
       "(81, 106, 76)"
      ]
     },
     "execution_count": 16,
     "metadata": {},
     "output_type": "execute_result"
    }
   ],
   "source": [
    "warped_ATR_L1.shape"
   ]
  },
  {
   "cell_type": "code",
   "execution_count": null,
   "metadata": {
    "collapsed": true
   },
   "outputs": [],
   "source": []
  },
  {
   "cell_type": "code",
   "execution_count": 21,
   "metadata": {
    "collapsed": false
   },
   "outputs": [
    {
     "name": "stderr",
     "output_type": "stream",
     "text": [
      "/Users/arokem/source/dipy/dipy/reconst/shm.py:367: VisibleDeprecationWarning: using a non-integer number instead of an integer will result in an error in the future\n",
      "  m_list = empty(ncoef, 'int')\n"
     ]
    },
    {
     "data": {
      "text/plain": [
       "'./csd_sh_coeff.nii.gz'"
      ]
     },
     "execution_count": 21,
     "metadata": {},
     "output_type": "execute_result"
    }
   ],
   "source": [
    "csd.fit_csd(['/Users/arokem/.dipy/stanford_hardi/HARDI150.nii.gz'], \n",
    "            ['/Users/arokem/.dipy/stanford_hardi/HARDI150.bval'], \n",
    "            ['/Users/arokem/.dipy/stanford_hardi/HARDI150.bvec'], \n",
    "            out_dir='.')"
   ]
  },
  {
   "cell_type": "code",
   "execution_count": 22,
   "metadata": {
    "collapsed": false
   },
   "outputs": [
    {
     "name": "stderr",
     "output_type": "stream",
     "text": [
      "/Users/arokem/source/dipy/dipy/reconst/shm.py:367: VisibleDeprecationWarning: using a non-integer number instead of an integer will result in an error in the future\n",
      "  m_list = empty(ncoef, 'int')\n"
     ]
    }
   ],
   "source": [
    "localtracking = aft.track('./csd_sh_coeff.nii.gz')"
   ]
  },
  {
   "cell_type": "code",
   "execution_count": null,
   "metadata": {
    "collapsed": true
   },
   "outputs": [],
   "source": [
    "streamlines = list(localtracking)"
   ]
  },
  {
   "cell_type": "code",
   "execution_count": null,
   "metadata": {
    "collapsed": true
   },
   "outputs": [],
   "source": [
    "## For the corticospinal tract, need to potentially deal with fibers that loop through the brainstem\n",
    "\n",
    "## Deal with fiber outliers\n",
    "\n",
    "## Compare with the track probability maps? "
   ]
  }
 ],
 "metadata": {
  "kernelspec": {
   "display_name": "Python 3",
   "language": "python",
   "name": "python3"
  },
  "language_info": {
   "codemirror_mode": {
    "name": "ipython",
    "version": 3
   },
   "file_extension": ".py",
   "mimetype": "text/x-python",
   "name": "python",
   "nbconvert_exporter": "python",
   "pygments_lexer": "ipython3",
   "version": "3.5.1"
  }
 },
 "nbformat": 4,
 "nbformat_minor": 0
}
