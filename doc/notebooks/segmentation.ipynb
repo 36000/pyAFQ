{
 "cells": [
  {
   "cell_type": "code",
   "execution_count": null,
   "metadata": {
    "collapsed": true
   },
   "outputs": [],
   "source": [
    "import numpy as np\n",
    "import matplotlib.pyplot as plt\n",
    "%matplotlib inline"
   ]
  },
  {
   "cell_type": "code",
   "execution_count": null,
   "metadata": {
    "collapsed": false
   },
   "outputs": [],
   "source": [
    "import AFQ.registration as reg\n",
    "import AFQ.utils.models as ut\n",
    "import AFQ.data as afd\n",
    "import AFQ.tractography as aft\n",
    "import AFQ.csd as csd\n",
    "import AFQ.dti as dti\n",
    "import dipy.data as dpd\n",
    "import nibabel as nib"
   ]
  },
  {
   "cell_type": "code",
   "execution_count": null,
   "metadata": {
    "collapsed": false
   },
   "outputs": [],
   "source": [
    "img, gtab = dpd.read_stanford_hardi()"
   ]
  },
  {
   "cell_type": "code",
   "execution_count": null,
   "metadata": {
    "collapsed": false
   },
   "outputs": [],
   "source": [
    "afq_templates = afd.read_templates()"
   ]
  },
  {
   "cell_type": "code",
   "execution_count": null,
   "metadata": {
    "collapsed": false
   },
   "outputs": [],
   "source": [
    "afq_templates"
   ]
  },
  {
   "cell_type": "code",
   "execution_count": null,
   "metadata": {
    "collapsed": false
   },
   "outputs": [],
   "source": [
    "MNI_T2 = dpd.read_mni_template()\n",
    "MNI_T2_data = MNI_T2.get_data()\n",
    "MNI_T2_affine = MNI_T2.get_affine()\n",
    "dwi = img\n",
    "dwi_affine = dwi.get_affine()\n",
    "dwi_data = dwi.get_data()\n",
    "mean_b0 = np.mean(dwi_data[..., gtab.b0s_mask], -1)\n",
    "warped_b0, mapping = reg.syn_registration(mean_b0, MNI_T2_data,\n",
    "                                          moving_affine=dwi_affine,\n",
    "                                          static_affine=MNI_T2_affine,\n",
    "                                          step_length=0.1,\n",
    "                                          sigma_diff=2.0,\n",
    "                                          metric='CC',\n",
    "                                          dim=3,\n",
    "                                          level_iters=[10, 10, 5],\n",
    "                                          prealign=None)\n",
    "\n"
   ]
  },
  {
   "cell_type": "code",
   "execution_count": null,
   "metadata": {
    "collapsed": false
   },
   "outputs": [],
   "source": [
    "warped_b0.shape"
   ]
  },
  {
   "cell_type": "code",
   "execution_count": null,
   "metadata": {
    "collapsed": false
   },
   "outputs": [],
   "source": [
    "mean_b0.shape"
   ]
  },
  {
   "cell_type": "code",
   "execution_count": null,
   "metadata": {
    "collapsed": true
   },
   "outputs": [],
   "source": [
    "CST_L1 = afq_templates['CST_roi1_L']\n",
    "CST_L2 = afq_templates['CST_roi2_L']"
   ]
  },
  {
   "cell_type": "code",
   "execution_count": null,
   "metadata": {
    "collapsed": false
   },
   "outputs": [],
   "source": [
    "CST_L1_data = CST_L1.get_data()\n",
    "CST_L2_data = CST_L2.get_data()"
   ]
  },
  {
   "cell_type": "code",
   "execution_count": null,
   "metadata": {
    "collapsed": true
   },
   "outputs": [],
   "source": [
    "warped_CST_L1 = mapping.transform_inverse(CST_L1_data, interpolation='nearest')"
   ]
  },
  {
   "cell_type": "code",
   "execution_count": null,
   "metadata": {
    "collapsed": true
   },
   "outputs": [],
   "source": [
    "from dipy.segment.mask import median_otsu"
   ]
  },
  {
   "cell_type": "code",
   "execution_count": null,
   "metadata": {
    "collapsed": false
   },
   "outputs": [],
   "source": [
    "masked_b0, brain_mask = median_otsu(mean_b0)"
   ]
  },
  {
   "cell_type": "code",
   "execution_count": null,
   "metadata": {
    "collapsed": false
   },
   "outputs": [],
   "source": [
    "plt.matshow(brain_mask[:, :, 40])"
   ]
  },
  {
   "cell_type": "code",
   "execution_count": null,
   "metadata": {
    "collapsed": false
   },
   "outputs": [],
   "source": [
    "nib.save(nib.Nifti1Image(brain_mask.astype(int), img.affine), 'brain_mask')"
   ]
  },
  {
   "cell_type": "code",
   "execution_count": null,
   "metadata": {
    "collapsed": false
   },
   "outputs": [],
   "source": [
    "#dti.fit_dti(['/Users/arokem/.dipy/stanford_hardi/HARDI150.nii.gz'], \n",
    "#            ['/Users/arokem/.dipy/stanford_hardi/HARDI150.bval'], \n",
    "#            ['/Users/arokem/.dipy/stanford_hardi/HARDI150.bvec'], \n",
    "#            out_dir='.', mask='brain_mask.nii')"
   ]
  },
  {
   "cell_type": "code",
   "execution_count": null,
   "metadata": {
    "collapsed": true
   },
   "outputs": [],
   "source": [
    "#nib.save(nib.Nifti1Image((nib.load('dti_FA.nii.gz').get_data() > 0.2).astype(int), img.affine), 'wm_mask.nii.gz')"
   ]
  },
  {
   "cell_type": "code",
   "execution_count": null,
   "metadata": {
    "collapsed": false
   },
   "outputs": [],
   "source": [
    "#csd.fit_csd(['/Users/arokem/.dipy/stanford_hardi/HARDI150.nii.gz'], \n",
    "#            ['/Users/arokem/.dipy/stanford_hardi/HARDI150.bval'], \n",
    "#            ['/Users/arokem/.dipy/stanford_hardi/HARDI150.bvec'], \n",
    "#            out_dir='.',\n",
    "#            mask='brain_mask.nii')"
   ]
  },
  {
   "cell_type": "code",
   "execution_count": null,
   "metadata": {
    "collapsed": false
   },
   "outputs": [],
   "source": [
    "mask = nib.load('wm_mask.nii.gz').get_data()"
   ]
  },
  {
   "cell_type": "code",
   "execution_count": null,
   "metadata": {
    "collapsed": false
   },
   "outputs": [],
   "source": [
    "plt.matshow(mask[:, :, 40])"
   ]
  },
  {
   "cell_type": "code",
   "execution_count": null,
   "metadata": {
    "collapsed": true
   },
   "outputs": [],
   "source": [
    "csd_coeff = nib.load('csd_sh_coeff.nii.gz').get_data()"
   ]
  },
  {
   "cell_type": "code",
   "execution_count": null,
   "metadata": {
    "collapsed": false
   },
   "outputs": [],
   "source": [
    "plt.matshow(csd_coeff[:,:,40, 0])"
   ]
  },
  {
   "cell_type": "code",
   "execution_count": null,
   "metadata": {
    "collapsed": false
   },
   "outputs": [],
   "source": [
    "#localtracking = aft.track('./csd_sh_coeff.nii.gz', seed_density=[1, 1, 1],\n",
    "#                          seed_mask=nib.load('wm_mask.nii.gz').get_data(), \n",
    "#                          stop_mask=nib.load('wm_mask.nii.gz').get_data())"
   ]
  },
  {
   "cell_type": "code",
   "execution_count": null,
   "metadata": {
    "collapsed": false
   },
   "outputs": [],
   "source": [
    "#streamlines = list(localtracking)"
   ]
  },
  {
   "cell_type": "code",
   "execution_count": null,
   "metadata": {
    "collapsed": false
   },
   "outputs": [],
   "source": [
    "#sl_long = [sl for sl in streamlines if sl.shape[0]>3]"
   ]
  },
  {
   "cell_type": "code",
   "execution_count": 1,
   "metadata": {
    "collapsed": false
   },
   "outputs": [
    {
     "ename": "ImportError",
     "evalue": "No module named 'AFQ.utils.streamlines'",
     "output_type": "error",
     "traceback": [
      "\u001b[0;31m---------------------------------------------------------------------------\u001b[0m",
      "\u001b[0;31mImportError\u001b[0m                               Traceback (most recent call last)",
      "\u001b[0;32m<ipython-input-1-043df649c3ed>\u001b[0m in \u001b[0;36m<module>\u001b[0;34m()\u001b[0m\n\u001b[0;32m----> 1\u001b[0;31m \u001b[0;32mfrom\u001b[0m \u001b[0mAFQ\u001b[0m\u001b[0;34m.\u001b[0m\u001b[0mutils\u001b[0m\u001b[0;34m.\u001b[0m\u001b[0mstreamlines\u001b[0m \u001b[0;32mimport\u001b[0m \u001b[0mwrite_trk\u001b[0m\u001b[0;34m,\u001b[0m \u001b[0mread_trk\u001b[0m\u001b[0;34m\u001b[0m\u001b[0m\n\u001b[0m",
      "\u001b[0;31mImportError\u001b[0m: No module named 'AFQ.utils.streamlines'"
     ]
    }
   ],
   "source": [
    "from AFQ.utils.streamlines import write_trk, read_trk"
   ]
  },
  {
   "cell_type": "code",
   "execution_count": null,
   "metadata": {
    "collapsed": false
   },
   "outputs": [],
   "source": [
    "write_trk('./csd_streamlines.trk', sl_long)"
   ]
  },
  {
   "cell_type": "code",
   "execution_count": null,
   "metadata": {
    "collapsed": false
   },
   "outputs": [],
   "source": []
  },
  {
   "cell_type": "code",
   "execution_count": null,
   "metadata": {
    "collapsed": true
   },
   "outputs": [],
   "source": [
    "## For the corticospinal tract, need to potentially deal with fibers that loop through the brainstem\n",
    "\n",
    "## Deal with fiber outliers\n",
    "\n",
    "## Compare with the track probability maps? "
   ]
  }
 ],
 "metadata": {
  "kernelspec": {
   "display_name": "Python 3",
   "language": "python",
   "name": "python3"
  },
  "language_info": {
   "codemirror_mode": {
    "name": "ipython",
    "version": 3
   },
   "file_extension": ".py",
   "mimetype": "text/x-python",
   "name": "python",
   "nbconvert_exporter": "python",
   "pygments_lexer": "ipython3",
   "version": "3.5.1"
  }
 },
 "nbformat": 4,
 "nbformat_minor": 0
}
