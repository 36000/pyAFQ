{
 "cells": [
  {
   "cell_type": "code",
   "execution_count": 2,
   "metadata": {
    "collapsed": true
   },
   "outputs": [],
   "source": [
    "import numpy as np\n",
    "import matplotlib.pyplot as plt\n",
    "%matplotlib inline"
   ]
  },
  {
   "cell_type": "code",
   "execution_count": 3,
   "metadata": {
    "collapsed": false
   },
   "outputs": [],
   "source": [
    "import AFQ.registration as reg\n",
    "import AFQ.utils.models as ut\n",
    "import AFQ.data as afd\n",
    "import AFQ.tractography as aft\n",
    "import AFQ.csd as csd\n",
    "import AFQ.dti as dti\n",
    "import dipy.data as dpd\n",
    "import nibabel as nib\n",
    "from AFQ.utils.streamlines import write_trk, read_trk"
   ]
  },
  {
   "cell_type": "code",
   "execution_count": 4,
   "metadata": {
    "collapsed": false
   },
   "outputs": [
    {
     "name": "stdout",
     "output_type": "stream",
     "text": [
      "Dataset is already in place. If you want to fetch it again please first remove the folder /Users/arokem/.dipy/stanford_hardi \n"
     ]
    }
   ],
   "source": [
    "img, gtab = dpd.read_stanford_hardi()"
   ]
  },
  {
   "cell_type": "code",
   "execution_count": 4,
   "metadata": {
    "collapsed": false
   },
   "outputs": [
    {
     "name": "stdout",
     "output_type": "stream",
     "text": [
      "Dataset is already in place. If you want to fetch it again please first remove the folder /Users/arokem/AFQ_data/templates \n"
     ]
    }
   ],
   "source": [
    "afq_templates = afd.read_templates()"
   ]
  },
  {
   "cell_type": "code",
   "execution_count": 5,
   "metadata": {
    "collapsed": false
   },
   "outputs": [
    {
     "data": {
      "text/plain": [
       "{'ATR_roi1_L': <nibabel.nifti1.Nifti1Image at 0x11b5865f8>,\n",
       " 'ATR_roi1_R': <nibabel.nifti1.Nifti1Image at 0x11b59ec88>,\n",
       " 'ATR_roi2_L': <nibabel.nifti1.Nifti1Image at 0x11b59ea20>,\n",
       " 'ATR_roi2_R': <nibabel.nifti1.Nifti1Image at 0x11b59eba8>,\n",
       " 'CGC_roi1_L': <nibabel.nifti1.Nifti1Image at 0x11b586780>,\n",
       " 'CGC_roi1_R': <nibabel.nifti1.Nifti1Image at 0x11b59ed30>,\n",
       " 'CGC_roi2_L': <nibabel.nifti1.Nifti1Image at 0x11b586c18>,\n",
       " 'CGC_roi2_R': <nibabel.nifti1.Nifti1Image at 0x11b586a90>,\n",
       " 'CST_roi1_L': <nibabel.nifti1.Nifti1Image at 0x11b5a2a58>,\n",
       " 'CST_roi1_R': <nibabel.nifti1.Nifti1Image at 0x11b5a79b0>,\n",
       " 'CST_roi2_L': <nibabel.nifti1.Nifti1Image at 0x11b5a7208>,\n",
       " 'CST_roi2_R': <nibabel.nifti1.Nifti1Image at 0x11b5a2b70>,\n",
       " 'FA_L': <nibabel.nifti1.Nifti1Image at 0x11b5a7b38>,\n",
       " 'FA_R': <nibabel.nifti1.Nifti1Image at 0x11b5a2cf8>,\n",
       " 'FP_L': <nibabel.nifti1.Nifti1Image at 0x11b5a2208>,\n",
       " 'FP_R': <nibabel.nifti1.Nifti1Image at 0x11b5a7cf8>,\n",
       " 'HCC_roi1_L': <nibabel.nifti1.Nifti1Image at 0x11b5a2860>,\n",
       " 'HCC_roi1_R': <nibabel.nifti1.Nifti1Image at 0x11b5a7518>,\n",
       " 'HCC_roi2_L': <nibabel.nifti1.Nifti1Image at 0x11b59e400>,\n",
       " 'HCC_roi2_R': <nibabel.nifti1.Nifti1Image at 0x11b5a2550>,\n",
       " 'IFO_roi1_L': <nibabel.nifti1.Nifti1Image at 0x11b59e898>,\n",
       " 'IFO_roi1_R': <nibabel.nifti1.Nifti1Image at 0x11b359e10>,\n",
       " 'IFO_roi2_L': <nibabel.nifti1.Nifti1Image at 0x11b59e710>,\n",
       " 'IFO_roi2_R': <nibabel.nifti1.Nifti1Image at 0x11b5a23c8>,\n",
       " 'ILF_roi1_L': <nibabel.nifti1.Nifti1Image at 0x11b5a26d8>,\n",
       " 'ILF_roi1_R': <nibabel.nifti1.Nifti1Image at 0x11b5a29e8>,\n",
       " 'ILF_roi2_L': <nibabel.nifti1.Nifti1Image at 0x11b586f60>,\n",
       " 'ILF_roi2_R': <nibabel.nifti1.Nifti1Image at 0x11b59e048>,\n",
       " 'SLF_roi1_L': <nibabel.nifti1.Nifti1Image at 0x11b586470>,\n",
       " 'SLF_roi1_R': <nibabel.nifti1.Nifti1Image at 0x11b5a7390>,\n",
       " 'SLF_roi2_L': <nibabel.nifti1.Nifti1Image at 0x11b59eeb8>,\n",
       " 'SLF_roi2_R': <nibabel.nifti1.Nifti1Image at 0x11b5a76a0>,\n",
       " 'SLFt_roi2_L': <nibabel.nifti1.Nifti1Image at 0x11b586da0>,\n",
       " 'SLFt_roi2_R': <nibabel.nifti1.Nifti1Image at 0x11b59e588>,\n",
       " 'UNC_roi1_L': <nibabel.nifti1.Nifti1Image at 0x11b5a2eb8>,\n",
       " 'UNC_roi1_R': <nibabel.nifti1.Nifti1Image at 0x11b59e278>,\n",
       " 'UNC_roi2_L': <nibabel.nifti1.Nifti1Image at 0x11b5a7828>,\n",
       " 'UNC_roi2_R': <nibabel.nifti1.Nifti1Image at 0x11b586908>}"
      ]
     },
     "execution_count": 5,
     "metadata": {},
     "output_type": "execute_result"
    }
   ],
   "source": [
    "afq_templates"
   ]
  },
  {
   "cell_type": "code",
   "execution_count": 6,
   "metadata": {
    "collapsed": false
   },
   "outputs": [
    {
     "name": "stdout",
     "output_type": "stream",
     "text": [
      "Data size is approximately 35MB\n",
      "Dataset is already in place. If you want to fetch it again please first remove the folder /Users/arokem/.dipy/mni_template \n"
     ]
    }
   ],
   "source": [
    "MNI_T2 = dpd.read_mni_template()\n",
    "MNI_T2_data = MNI_T2.get_data()\n",
    "MNI_T2_affine = MNI_T2.get_affine()\n",
    "dwi = img\n",
    "dwi_affine = dwi.get_affine()\n",
    "dwi_data = dwi.get_data()\n",
    "mean_b0 = np.mean(dwi_data[..., gtab.b0s_mask], -1)"
   ]
  },
  {
   "cell_type": "code",
   "execution_count": 7,
   "metadata": {
    "collapsed": false
   },
   "outputs": [
    {
     "name": "stdout",
     "output_type": "stream",
     "text": [
      "Creating scale space from the moving image. Levels: 3. Sigma factor: 0.200000.\n",
      "Creating scale space from the static image. Levels: 3. Sigma factor: 0.200000.\n",
      "Optimizing level 2\n",
      "Optimizing level 1\n",
      "Optimizing level 0\n"
     ]
    }
   ],
   "source": [
    "warped_b0, mapping = reg.syn_registration(mean_b0, MNI_T2_data,\n",
    "                                          moving_affine=dwi_affine,\n",
    "                                          static_affine=MNI_T2_affine,\n",
    "                                          step_length=0.1,\n",
    "                                          sigma_diff=2.0,\n",
    "                                          metric='CC',\n",
    "                                          dim=3,\n",
    "                                          level_iters=[10, 10, 5],\n",
    "                                          prealign=None)"
   ]
  },
  {
   "cell_type": "code",
   "execution_count": 8,
   "metadata": {
    "collapsed": true
   },
   "outputs": [],
   "source": [
    "CST_L1 = afq_templates['CST_roi1_L']\n",
    "CST_L2 = afq_templates['CST_roi2_L']"
   ]
  },
  {
   "cell_type": "code",
   "execution_count": 9,
   "metadata": {
    "collapsed": false
   },
   "outputs": [],
   "source": [
    "CST_L1_data = CST_L1.get_data()\n",
    "CST_L2_data = CST_L2.get_data()"
   ]
  },
  {
   "cell_type": "code",
   "execution_count": 10,
   "metadata": {
    "collapsed": true
   },
   "outputs": [],
   "source": [
    "import scipy.ndimage as ndim\n",
    "def patch_up_roi(roi):\n",
    "    return ndim.binary_fill_holes(ndim.binary_dilation(roi).astype(int))"
   ]
  },
  {
   "cell_type": "code",
   "execution_count": 11,
   "metadata": {
    "collapsed": false
   },
   "outputs": [],
   "source": [
    "warped_CST_L1 = patch_up_roi(mapping.transform_inverse(CST_L1_data, interpolation='nearest'))\n",
    "warped_CST_L2 = patch_up_roi(mapping.transform_inverse(CST_L2_data, interpolation='nearest'))"
   ]
  },
  {
   "cell_type": "code",
   "execution_count": 12,
   "metadata": {
    "collapsed": true
   },
   "outputs": [],
   "source": [
    "#from dipy.segment.mask import median_otsu"
   ]
  },
  {
   "cell_type": "code",
   "execution_count": 13,
   "metadata": {
    "collapsed": false
   },
   "outputs": [],
   "source": [
    "#masked_b0, brain_mask = median_otsu(mean_b0)"
   ]
  },
  {
   "cell_type": "code",
   "execution_count": 14,
   "metadata": {
    "collapsed": false
   },
   "outputs": [],
   "source": [
    "#plt.matshow(brain_mask[:, :, 40])"
   ]
  },
  {
   "cell_type": "code",
   "execution_count": 15,
   "metadata": {
    "collapsed": false
   },
   "outputs": [],
   "source": [
    "#nib.save(nib.Nifti1Image(brain_mask.astype(int), img.affine), 'brain_mask')"
   ]
  },
  {
   "cell_type": "code",
   "execution_count": 16,
   "metadata": {
    "collapsed": false
   },
   "outputs": [],
   "source": [
    "#dti.fit_dti(['/Users/arokem/.dipy/stanford_hardi/HARDI150.nii.gz'], \n",
    "#            ['/Users/arokem/.dipy/stanford_hardi/HARDI150.bval'], \n",
    "#            ['/Users/arokem/.dipy/stanford_hardi/HARDI150.bvec'], \n",
    "#            out_dir='.', mask='brain_mask.nii')"
   ]
  },
  {
   "cell_type": "code",
   "execution_count": 17,
   "metadata": {
    "collapsed": true
   },
   "outputs": [],
   "source": [
    "#nib.save(nib.Nifti1Image((nib.load('dti_FA.nii.gz').get_data() > 0.2).astype(int), img.affine), 'wm_mask.nii.gz')"
   ]
  },
  {
   "cell_type": "code",
   "execution_count": 18,
   "metadata": {
    "collapsed": false
   },
   "outputs": [],
   "source": [
    "#csd.fit_csd(['/Users/arokem/.dipy/stanford_hardi/HARDI150.nii.gz'], \n",
    "#            ['/Users/arokem/.dipy/stanford_hardi/HARDI150.bval'], \n",
    "#            ['/Users/arokem/.dipy/stanford_hardi/HARDI150.bvec'], \n",
    "#            out_dir='.',\n",
    "#            mask='brain_mask.nii')"
   ]
  },
  {
   "cell_type": "code",
   "execution_count": 19,
   "metadata": {
    "collapsed": true
   },
   "outputs": [],
   "source": [
    "import nibabel as nib"
   ]
  },
  {
   "cell_type": "code",
   "execution_count": 20,
   "metadata": {
    "collapsed": false
   },
   "outputs": [],
   "source": [
    "#mask = nib.load('wm_mask.nii.gz').get_data()"
   ]
  },
  {
   "cell_type": "code",
   "execution_count": 21,
   "metadata": {
    "collapsed": false
   },
   "outputs": [],
   "source": [
    "#csd_coeff = nib.load('csd_sh_coeff.nii.gz').get_data()"
   ]
  },
  {
   "cell_type": "code",
   "execution_count": 22,
   "metadata": {
    "collapsed": false
   },
   "outputs": [],
   "source": [
    "localtracking = aft.track('./dti_params.nii.gz', seed_density=[1, 1, 1],\n",
    "                          seed_mask=nib.load('wm_mask.nii.gz').get_data(), \n",
    "                          stop_mask=nib.load('wm_mask.nii.gz').get_data())\n",
    "\n",
    "write_trk('./dti_streamlines.trk', sl_long)\n",
    "#localtracking = aft.track('./csd_sh_coeff.nii.gz', seed_density=[1, 1, 1],\n",
    "#                          seed_mask=nib.load('wm_mask.nii.gz').get_data(), \n",
    "#                          stop_mask=nib.load('wm_mask.nii.gz').get_data())"
   ]
  },
  {
   "cell_type": "code",
   "execution_count": 23,
   "metadata": {
    "collapsed": false
   },
   "outputs": [],
   "source": [
    "#streamlines = list(localtracking)"
   ]
  },
  {
   "cell_type": "code",
   "execution_count": 24,
   "metadata": {
    "collapsed": false
   },
   "outputs": [],
   "source": [
    "#sl_long = [sl for sl in streamlines if sl.shape[0]>3]"
   ]
  },
  {
   "cell_type": "code",
   "execution_count": 25,
   "metadata": {
    "collapsed": false
   },
   "outputs": [],
   "source": [
    "#len(sl_long)"
   ]
  },
  {
   "cell_type": "code",
   "execution_count": 26,
   "metadata": {
    "collapsed": false
   },
   "outputs": [],
   "source": []
  },
  {
   "cell_type": "code",
   "execution_count": 27,
   "metadata": {
    "collapsed": false
   },
   "outputs": [],
   "source": [
    "#write_trk('./csd_streamlines.trk', sl_long)"
   ]
  },
  {
   "cell_type": "code",
   "execution_count": 28,
   "metadata": {
    "collapsed": false
   },
   "outputs": [],
   "source": [
    "streamlines = read_trk('./csd_streamlines.trk')"
   ]
  },
  {
   "cell_type": "code",
   "execution_count": 29,
   "metadata": {
    "collapsed": false
   },
   "outputs": [
    {
     "data": {
      "text/plain": [
       "129251"
      ]
     },
     "execution_count": 29,
     "metadata": {},
     "output_type": "execute_result"
    }
   ],
   "source": [
    "len(streamlines)"
   ]
  },
  {
   "cell_type": "code",
   "execution_count": 30,
   "metadata": {
    "collapsed": true
   },
   "outputs": [],
   "source": [
    "import dipy.tracking.utils as dtu"
   ]
  },
  {
   "cell_type": "code",
   "execution_count": 31,
   "metadata": {
    "collapsed": false
   },
   "outputs": [],
   "source": [
    "xform_sl = [s for s in dtu.move_streamlines(streamlines, np.linalg.inv(img.affine))]"
   ]
  },
  {
   "cell_type": "code",
   "execution_count": 32,
   "metadata": {
    "collapsed": true
   },
   "outputs": [],
   "source": [
    "import time"
   ]
  },
  {
   "cell_type": "code",
   "execution_count": 33,
   "metadata": {
    "collapsed": false
   },
   "outputs": [],
   "source": [
    "import dipy.tracking.streamline as dts"
   ]
  },
  {
   "cell_type": "code",
   "execution_count": 34,
   "metadata": {
    "collapsed": false
   },
   "outputs": [
    {
     "name": "stdout",
     "output_type": "stream",
     "text": [
      "16.50788402557373\n"
     ]
    }
   ],
   "source": [
    "select_sl = xform_sl\n",
    "ROIs = [warped_CST_L1, warped_CST_L2]\n",
    "t0 = time.time()\n",
    "for r in ROIs:\n",
    "    select_sl = dts.select_by_rois(select_sl, [r.astype(bool)], [True])\n",
    "\n",
    "select_sl = list(select_sl)\n",
    "t1 = time.time()\n",
    "print(t1 - t0)"
   ]
  },
  {
   "cell_type": "code",
   "execution_count": 35,
   "metadata": {
    "collapsed": false
   },
   "outputs": [
    {
     "data": {
      "text/plain": [
       "488"
      ]
     },
     "execution_count": 35,
     "metadata": {},
     "output_type": "execute_result"
    }
   ],
   "source": [
    "len(select_sl)"
   ]
  },
  {
   "cell_type": "code",
   "execution_count": 55,
   "metadata": {
    "collapsed": false
   },
   "outputs": [
    {
     "data": {
      "image/png": "[encoded data removed]",
      "text/plain": [
       "<matplotlib.figure.Figure at 0x1678894a8>"
      ]
     },
     "metadata": {},
     "output_type": "display_data"
    }
   ],
   "source": [
    "import matplotlib.pyplot as plt\n",
    "from mpl_toolkits.mplot3d import Axes3D\n",
    "fig = plt.figure()\n",
    "ax = fig.add_subplot(111, projection='3d')\n",
    "for s in select_sl:\n",
    "    ax.plot(s[:, 0], s[:, 1], s[:, 2],color='b', alpha=0.5)\n",
    "\n",
    "ax.axis(\"off\")\n",
    "fig.set_size_inches([10, 10])\n",
    "\n",
    "for ii, angle in enumerate(range(0, 360, 20)):\n",
    "    ax.view_init(0, angle)\n",
    "    fig.savefig('/Users/arokem/tmp/cst/img%03d.png'%ii)"
   ]
  },
  {
   "cell_type": "code",
   "execution_count": 36,
   "metadata": {
    "collapsed": true
   },
   "outputs": [],
   "source": [
    "## For the corticospinal tract, need to potentially deal with fibers that loop through the brainstem\n",
    "\n",
    "## Deal with fiber outliers\n",
    "\n",
    "## Compare with the track probability maps? "
   ]
  }
 ],
 "metadata": {
  "kernelspec": {
   "display_name": "Python 3",
   "language": "python",
   "name": "python3"
  },
  "language_info": {
   "codemirror_mode": {
    "name": "ipython",
    "version": 3
   },
   "file_extension": ".py",
   "mimetype": "text/x-python",
   "name": "python",
   "nbconvert_exporter": "python",
   "pygments_lexer": "ipython3",
   "version": "3.5.1"
  }
 },
 "nbformat": 4,
 "nbformat_minor": 0
}
