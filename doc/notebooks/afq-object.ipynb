{
 "cells": [
  {
   "cell_type": "code",
   "execution_count": 1,
   "metadata": {
    "collapsed": true
   },
   "outputs": [],
   "source": [
    "import sys \n",
    "sys.path.append('../../')"
   ]
  },
  {
   "cell_type": "code",
   "execution_count": 2,
   "metadata": {
    "collapsed": true
   },
   "outputs": [],
   "source": [
    "from AFQ import api"
   ]
  },
  {
   "cell_type": "code",
   "execution_count": 5,
   "metadata": {
    "collapsed": false
   },
   "outputs": [
    {
     "data": {
      "text/plain": [
       "AFQ.api.AFQ"
      ]
     },
     "execution_count": 5,
     "metadata": {},
     "output_type": "execute_result"
    }
   ],
   "source": [
    "api.AFQ"
   ]
  },
  {
   "cell_type": "code",
   "execution_count": 6,
   "metadata": {
    "collapsed": true
   },
   "outputs": [],
   "source": [
    "import os.path as op\n",
    "import glob"
   ]
  },
  {
   "cell_type": "code",
   "execution_count": 7,
   "metadata": {
    "collapsed": false
   },
   "outputs": [],
   "source": [
    "preproc_path = op.join('/Users/arokem/projects/dipy-afq/','ds114-preproc/')\n",
    "raw_path = op.join('/Users/arokem/projects/dipy-afq/','ds114/')"
   ]
  },
  {
   "cell_type": "code",
   "execution_count": 8,
   "metadata": {
    "collapsed": false
   },
   "outputs": [
    {
     "data": {
      "text/plain": [
       "['/Users/arokem/projects/dipy-afq/ds114-preproc/sub-01',\n",
       " '/Users/arokem/projects/dipy-afq/ds114-preproc/sub-02']"
      ]
     },
     "execution_count": 8,
     "metadata": {},
     "output_type": "execute_result"
    }
   ],
   "source": [
    "glob.glob(preproc_path + '*sub*')"
   ]
  },
  {
   "cell_type": "code",
   "execution_count": 9,
   "metadata": {
    "collapsed": true
   },
   "outputs": [],
   "source": [
    "def do_preprocessing(raw_path):\n",
    "    # XXX TODO\n",
    "    raise NotImplementedError\n",
    "    "
   ]
  },
  {
   "cell_type": "code",
   "execution_count": null,
   "metadata": {
    "collapsed": true
   },
   "outputs": [],
   "source": []
  },
  {
   "cell_type": "code",
   "execution_count": null,
   "metadata": {
    "collapsed": true
   },
   "outputs": [],
   "source": []
  },
  {
   "cell_type": "code",
   "execution_count": null,
   "metadata": {
    "collapsed": true
   },
   "outputs": [],
   "source": []
  },
  {
   "cell_type": "code",
   "execution_count": 10,
   "metadata": {
    "collapsed": false
   },
   "outputs": [
    {
     "data": {
      "text/plain": [
       "'I have 203.00 apples and 5 oranges'"
      ]
     },
     "execution_count": 10,
     "metadata": {},
     "output_type": "execute_result"
    }
   ],
   "source": [
    "\"I have %.2f apples and %s oranges\"%((200 + 3), (1 + 4))"
   ]
  },
  {
   "cell_type": "code",
   "execution_count": 11,
   "metadata": {
    "collapsed": false
   },
   "outputs": [
    {
     "ename": "NameError",
     "evalue": "name 'pd' is not defined",
     "output_type": "error",
     "traceback": [
      "\u001b[0;31m---------------------------------------------------------------------------\u001b[0m",
      "\u001b[0;31mNameError\u001b[0m                                 Traceback (most recent call last)",
      "\u001b[0;32m<ipython-input-11-248081812ebf>\u001b[0m in \u001b[0;36m<module>\u001b[0;34m()\u001b[0m\n\u001b[0;32m----> 1\u001b[0;31m \u001b[0msub_df\u001b[0m \u001b[0;34m=\u001b[0m \u001b[0mpd\u001b[0m\u001b[0;34m.\u001b[0m\u001b[0mDataFrame\u001b[0m\u001b[0;34m(\u001b[0m\u001b[0mdict\u001b[0m\u001b[0;34m(\u001b[0m\u001b[0msubjects\u001b[0m\u001b[0;34m=\u001b[0m\u001b[0;34m[\u001b[0m\u001b[0;34m\"sub-01\"\u001b[0m\u001b[0;34m,\u001b[0m \u001b[0;34m\"sub-01\"\u001b[0m\u001b[0;34m]\u001b[0m\u001b[0;34m,\u001b[0m \u001b[0msess\u001b[0m\u001b[0;34m=\u001b[0m\u001b[0;34m[\u001b[0m\u001b[0;34m\"sess-test\"\u001b[0m\u001b[0;34m,\u001b[0m \u001b[0;34m\"sess-retest\"\u001b[0m\u001b[0;34m]\u001b[0m\u001b[0;34m)\u001b[0m\u001b[0;34m)\u001b[0m\u001b[0;34m\u001b[0m\u001b[0m\n\u001b[0m",
      "\u001b[0;31mNameError\u001b[0m: name 'pd' is not defined"
     ]
    }
   ],
   "source": [
    "sub_df = pd.DataFrame(dict(subjects=[\"sub-01\", \"sub-01\"], sess=[\"sess-test\", \"sess-retest\"]))"
   ]
  },
  {
   "cell_type": "code",
   "execution_count": 12,
   "metadata": {
    "collapsed": false
   },
   "outputs": [
    {
     "ename": "NameError",
     "evalue": "name 'glob' is not defined",
     "output_type": "error",
     "traceback": [
      "\u001b[0;31m---------------------------------------------------------------------------\u001b[0m",
      "\u001b[0;31mNameError\u001b[0m                                 Traceback (most recent call last)",
      "\u001b[0;32m<ipython-input-12-2fb1a2ab865e>\u001b[0m in \u001b[0;36m<module>\u001b[0;34m()\u001b[0m\n\u001b[0;32m----> 1\u001b[0;31m \u001b[0mmyafq\u001b[0m \u001b[0;34m=\u001b[0m \u001b[0mapi\u001b[0m\u001b[0;34m.\u001b[0m\u001b[0mAFQ\u001b[0m\u001b[0;34m(\u001b[0m\u001b[0mpreproc_path\u001b[0m\u001b[0;34m=\u001b[0m\u001b[0mpreproc_path\u001b[0m\u001b[0;34m)\u001b[0m\u001b[0;34m\u001b[0m\u001b[0m\n\u001b[0m",
      "\u001b[0;32m/Users/arokem/source/pyAFQ/AFQ/api.py\u001b[0m in \u001b[0;36m__init__\u001b[0;34m(self, raw_path, preproc_path, sub_prefix, dwi_folder, dwi_file, anat_folder, anat_file)\u001b[0m\n\u001b[1;32m     49\u001b[0m             \u001b[0mself\u001b[0m\u001b[0;34m.\u001b[0m\u001b[0mpreproc_path\u001b[0m \u001b[0;34m=\u001b[0m \u001b[0mdo_preprocessing\u001b[0m\u001b[0;34m(\u001b[0m\u001b[0mself\u001b[0m\u001b[0;34m.\u001b[0m\u001b[0mraw_path\u001b[0m\u001b[0;34m)\u001b[0m\u001b[0;34m\u001b[0m\u001b[0m\n\u001b[1;32m     50\u001b[0m         \u001b[0;31m# This is the place in which each subject's full data lives\u001b[0m\u001b[0;34m\u001b[0m\u001b[0;34m\u001b[0m\u001b[0m\n\u001b[0;32m---> 51\u001b[0;31m         \u001b[0mself\u001b[0m\u001b[0;34m.\u001b[0m\u001b[0msubject_dirs\u001b[0m \u001b[0;34m=\u001b[0m \u001b[0mglob\u001b[0m\u001b[0;34m.\u001b[0m\u001b[0mglob\u001b[0m\u001b[0;34m(\u001b[0m\u001b[0mpreproc_path\u001b[0m \u001b[0;34m+\u001b[0m \u001b[0;34m'%s*'\u001b[0m\u001b[0;34m%\u001b[0m\u001b[0msub_prefix\u001b[0m\u001b[0;34m)\u001b[0m\u001b[0;34m\u001b[0m\u001b[0m\n\u001b[0m\u001b[1;32m     52\u001b[0m         \u001b[0mself\u001b[0m\u001b[0;34m.\u001b[0m\u001b[0msubjects\u001b[0m \u001b[0;34m=\u001b[0m \u001b[0;34m[\u001b[0m\u001b[0mop\u001b[0m\u001b[0;34m.\u001b[0m\u001b[0msplit\u001b[0m\u001b[0;34m(\u001b[0m\u001b[0mp\u001b[0m\u001b[0;34m)\u001b[0m\u001b[0;34m[\u001b[0m\u001b[0;34m-\u001b[0m\u001b[0;36m1\u001b[0m\u001b[0;34m]\u001b[0m \u001b[0;32mfor\u001b[0m \u001b[0mp\u001b[0m \u001b[0;32min\u001b[0m \u001b[0mself\u001b[0m\u001b[0;34m.\u001b[0m\u001b[0msubject_dirs\u001b[0m\u001b[0;34m]\u001b[0m\u001b[0;34m\u001b[0m\u001b[0m\n\u001b[1;32m     53\u001b[0m         \u001b[0msub_list\u001b[0m \u001b[0;34m=\u001b[0m \u001b[0;34m[\u001b[0m\u001b[0;34m]\u001b[0m\u001b[0;34m\u001b[0m\u001b[0m\n",
      "\u001b[0;31mNameError\u001b[0m: name 'glob' is not defined"
     ]
    }
   ],
   "source": [
    "myafq = api.AFQ(preproc_path=preproc_path)"
   ]
  },
  {
   "cell_type": "code",
   "execution_count": 147,
   "metadata": {
    "collapsed": false
   },
   "outputs": [
    {
     "data": {
      "text/html": [
       "<div>\n",
       "<table border=\"1\" class=\"dataframe\">\n",
       "  <thead>\n",
       "    <tr style=\"text-align: right;\">\n",
       "      <th></th>\n",
       "      <th>anat_file</th>\n",
       "      <th>bval_file</th>\n",
       "      <th>bvec_file</th>\n",
       "      <th>dwi_file</th>\n",
       "      <th>sess</th>\n",
       "      <th>subjects</th>\n",
       "    </tr>\n",
       "  </thead>\n",
       "  <tbody>\n",
       "    <tr>\n",
       "      <th>0</th>\n",
       "      <td>/Users/arokem/projects/dipy-afq/ds114-preproc/...</td>\n",
       "      <td>/Users/arokem/projects/dipy-afq/ds114-preproc/...</td>\n",
       "      <td>/Users/arokem/projects/dipy-afq/ds114-preproc/...</td>\n",
       "      <td>/Users/arokem/projects/dipy-afq/ds114-preproc/...</td>\n",
       "      <td>/Users/arokem/projects/dipy-afq/ds114-preproc/...</td>\n",
       "      <td>sub-01</td>\n",
       "    </tr>\n",
       "    <tr>\n",
       "      <th>1</th>\n",
       "      <td>/Users/arokem/projects/dipy-afq/ds114-preproc/...</td>\n",
       "      <td>/Users/arokem/projects/dipy-afq/ds114-preproc/...</td>\n",
       "      <td>/Users/arokem/projects/dipy-afq/ds114-preproc/...</td>\n",
       "      <td>/Users/arokem/projects/dipy-afq/ds114-preproc/...</td>\n",
       "      <td>/Users/arokem/projects/dipy-afq/ds114-preproc/...</td>\n",
       "      <td>sub-01</td>\n",
       "    </tr>\n",
       "    <tr>\n",
       "      <th>2</th>\n",
       "      <td>/Users/arokem/projects/dipy-afq/ds114-preproc/...</td>\n",
       "      <td>/Users/arokem/projects/dipy-afq/ds114-preproc/...</td>\n",
       "      <td>/Users/arokem/projects/dipy-afq/ds114-preproc/...</td>\n",
       "      <td>/Users/arokem/projects/dipy-afq/ds114-preproc/...</td>\n",
       "      <td>/Users/arokem/projects/dipy-afq/ds114-preproc/...</td>\n",
       "      <td>sub-02</td>\n",
       "    </tr>\n",
       "    <tr>\n",
       "      <th>3</th>\n",
       "      <td>/Users/arokem/projects/dipy-afq/ds114-preproc/...</td>\n",
       "      <td>/Users/arokem/projects/dipy-afq/ds114-preproc/...</td>\n",
       "      <td>/Users/arokem/projects/dipy-afq/ds114-preproc/...</td>\n",
       "      <td>/Users/arokem/projects/dipy-afq/ds114-preproc/...</td>\n",
       "      <td>/Users/arokem/projects/dipy-afq/ds114-preproc/...</td>\n",
       "      <td>sub-02</td>\n",
       "    </tr>\n",
       "  </tbody>\n",
       "</table>\n",
       "</div>"
      ],
      "text/plain": [
       "                                           anat_file  \\\n",
       "0  /Users/arokem/projects/dipy-afq/ds114-preproc/...   \n",
       "1  /Users/arokem/projects/dipy-afq/ds114-preproc/...   \n",
       "2  /Users/arokem/projects/dipy-afq/ds114-preproc/...   \n",
       "3  /Users/arokem/projects/dipy-afq/ds114-preproc/...   \n",
       "\n",
       "                                           bval_file  \\\n",
       "0  /Users/arokem/projects/dipy-afq/ds114-preproc/...   \n",
       "1  /Users/arokem/projects/dipy-afq/ds114-preproc/...   \n",
       "2  /Users/arokem/projects/dipy-afq/ds114-preproc/...   \n",
       "3  /Users/arokem/projects/dipy-afq/ds114-preproc/...   \n",
       "\n",
       "                                           bvec_file  \\\n",
       "0  /Users/arokem/projects/dipy-afq/ds114-preproc/...   \n",
       "1  /Users/arokem/projects/dipy-afq/ds114-preproc/...   \n",
       "2  /Users/arokem/projects/dipy-afq/ds114-preproc/...   \n",
       "3  /Users/arokem/projects/dipy-afq/ds114-preproc/...   \n",
       "\n",
       "                                            dwi_file  \\\n",
       "0  /Users/arokem/projects/dipy-afq/ds114-preproc/...   \n",
       "1  /Users/arokem/projects/dipy-afq/ds114-preproc/...   \n",
       "2  /Users/arokem/projects/dipy-afq/ds114-preproc/...   \n",
       "3  /Users/arokem/projects/dipy-afq/ds114-preproc/...   \n",
       "\n",
       "                                                sess subjects  \n",
       "0  /Users/arokem/projects/dipy-afq/ds114-preproc/...   sub-01  \n",
       "1  /Users/arokem/projects/dipy-afq/ds114-preproc/...   sub-01  \n",
       "2  /Users/arokem/projects/dipy-afq/ds114-preproc/...   sub-02  \n",
       "3  /Users/arokem/projects/dipy-afq/ds114-preproc/...   sub-02  "
      ]
     },
     "execution_count": 147,
     "metadata": {},
     "output_type": "execute_result"
    }
   ],
   "source": [
    "myafq.data_frame"
   ]
  },
  {
   "cell_type": "code",
   "execution_count": 150,
   "metadata": {
    "collapsed": false
   },
   "outputs": [
    {
     "data": {
      "text/plain": [
       "2    /Users/arokem/projects/dipy-afq/ds114-preproc/...\n",
       "3    /Users/arokem/projects/dipy-afq/ds114-preproc/...\n",
       "Name: dwi_file, dtype: object"
      ]
     },
     "execution_count": 150,
     "metadata": {},
     "output_type": "execute_result"
    }
   ],
   "source": [
    "myafq.data_frame.dwi_file[myafq.data_frame.subjects==\"sub-02\"]"
   ]
  },
  {
   "cell_type": "code",
   "execution_count": 91,
   "metadata": {
    "collapsed": false
   },
   "outputs": [
    {
     "name": "stdout",
     "output_type": "stream",
     "text": [
      "> \u001b[0;32m<ipython-input-88-3a7fe5fd94cb>\u001b[0m(66)\u001b[0;36m__init__\u001b[0;34m()\u001b[0m\n",
      "\u001b[0;32m     65 \u001b[0;31m                                           anat_file=anat_file, sess=sess_list))\n",
      "\u001b[0m\u001b[0;32m---> 66 \u001b[0;31m        \u001b[0;36m1\u001b[0m\u001b[0;34m/\u001b[0m\u001b[0;36m0.\u001b[0m\u001b[0;34m\u001b[0m\u001b[0m\n",
      "\u001b[0m\u001b[0;32m     67 \u001b[0;31m\u001b[0;34m\u001b[0m\u001b[0m\n",
      "\u001b[0m\n",
      "ipdb> sessions\n",
      "['/Users/arokem/projects/dipy-afq/ds114-preproc/sub-02/ses-retest', '/Users/arokem/projects/dipy-afq/ds114-preproc/sub-02/ses-test']\n",
      "ipdb> q\n"
     ]
    }
   ],
   "source": [
    "debug"
   ]
  },
  {
   "cell_type": "code",
   "execution_count": 82,
   "metadata": {
    "collapsed": false
   },
   "outputs": [
    {
     "data": {
      "text/plain": [
       "['sub-01', 'sub-02']"
      ]
     },
     "execution_count": 82,
     "metadata": {},
     "output_type": "execute_result"
    }
   ],
   "source": [
    "myafq.subjects"
   ]
  },
  {
   "cell_type": "code",
   "execution_count": 77,
   "metadata": {
    "collapsed": false
   },
   "outputs": [],
   "source": [
    "zz = zip([1,2,3], ['a', 'b', 'c'])"
   ]
  },
  {
   "cell_type": "code",
   "execution_count": 78,
   "metadata": {
    "collapsed": false
   },
   "outputs": [
    {
     "name": "stdout",
     "output_type": "stream",
     "text": [
      "1\n",
      "a\n",
      "2\n",
      "b\n",
      "3\n",
      "c\n"
     ]
    }
   ],
   "source": [
    "for number, letter in zz:\n",
    "    print(number)\n",
    "    print(letter)"
   ]
  },
  {
   "cell_type": "code",
   "execution_count": 75,
   "metadata": {
    "collapsed": false
   },
   "outputs": [
    {
     "data": {
      "text/html": [
       "<div>\n",
       "<table border=\"1\" class=\"dataframe\">\n",
       "  <thead>\n",
       "    <tr style=\"text-align: right;\">\n",
       "      <th></th>\n",
       "      <th>anat_file</th>\n",
       "      <th>bval_file</th>\n",
       "      <th>bvec_file</th>\n",
       "      <th>dwi_file</th>\n",
       "      <th>sess</th>\n",
       "      <th>subjects</th>\n",
       "    </tr>\n",
       "  </thead>\n",
       "  <tbody>\n",
       "    <tr>\n",
       "      <th>0</th>\n",
       "      <td>[]</td>\n",
       "      <td>[]</td>\n",
       "      <td>[]</td>\n",
       "      <td>[]</td>\n",
       "      <td>/Applications</td>\n",
       "      <td>sub-01</td>\n",
       "    </tr>\n",
       "    <tr>\n",
       "      <th>1</th>\n",
       "      <td>[]</td>\n",
       "      <td>[]</td>\n",
       "      <td>[]</td>\n",
       "      <td>[]</td>\n",
       "      <td>/bin</td>\n",
       "      <td>sub-01</td>\n",
       "    </tr>\n",
       "    <tr>\n",
       "      <th>2</th>\n",
       "      <td>[]</td>\n",
       "      <td>[]</td>\n",
       "      <td>[]</td>\n",
       "      <td>[]</td>\n",
       "      <td>/cores</td>\n",
       "      <td>sub-01</td>\n",
       "    </tr>\n",
       "    <tr>\n",
       "      <th>3</th>\n",
       "      <td>[]</td>\n",
       "      <td>[]</td>\n",
       "      <td>[]</td>\n",
       "      <td>[]</td>\n",
       "      <td>/dev</td>\n",
       "      <td>sub-01</td>\n",
       "    </tr>\n",
       "    <tr>\n",
       "      <th>4</th>\n",
       "      <td>[]</td>\n",
       "      <td>[]</td>\n",
       "      <td>[]</td>\n",
       "      <td>[]</td>\n",
       "      <td>/etc</td>\n",
       "      <td>sub-01</td>\n",
       "    </tr>\n",
       "    <tr>\n",
       "      <th>5</th>\n",
       "      <td>[]</td>\n",
       "      <td>[]</td>\n",
       "      <td>[]</td>\n",
       "      <td>[]</td>\n",
       "      <td>/home</td>\n",
       "      <td>sub-01</td>\n",
       "    </tr>\n",
       "    <tr>\n",
       "      <th>6</th>\n",
       "      <td>[]</td>\n",
       "      <td>[]</td>\n",
       "      <td>[]</td>\n",
       "      <td>[]</td>\n",
       "      <td>/installer.failurerequests</td>\n",
       "      <td>sub-01</td>\n",
       "    </tr>\n",
       "    <tr>\n",
       "      <th>7</th>\n",
       "      <td>[]</td>\n",
       "      <td>[]</td>\n",
       "      <td>[]</td>\n",
       "      <td>[]</td>\n",
       "      <td>/Library</td>\n",
       "      <td>sub-01</td>\n",
       "    </tr>\n",
       "    <tr>\n",
       "      <th>8</th>\n",
       "      <td>[]</td>\n",
       "      <td>[]</td>\n",
       "      <td>[]</td>\n",
       "      <td>[]</td>\n",
       "      <td>/net</td>\n",
       "      <td>sub-01</td>\n",
       "    </tr>\n",
       "    <tr>\n",
       "      <th>9</th>\n",
       "      <td>[]</td>\n",
       "      <td>[]</td>\n",
       "      <td>[]</td>\n",
       "      <td>[]</td>\n",
       "      <td>/Network</td>\n",
       "      <td>sub-01</td>\n",
       "    </tr>\n",
       "    <tr>\n",
       "      <th>10</th>\n",
       "      <td>[]</td>\n",
       "      <td>[]</td>\n",
       "      <td>[]</td>\n",
       "      <td>[]</td>\n",
       "      <td>/opt</td>\n",
       "      <td>sub-01</td>\n",
       "    </tr>\n",
       "    <tr>\n",
       "      <th>11</th>\n",
       "      <td>[]</td>\n",
       "      <td>[]</td>\n",
       "      <td>[]</td>\n",
       "      <td>[]</td>\n",
       "      <td>/private</td>\n",
       "      <td>sub-01</td>\n",
       "    </tr>\n",
       "    <tr>\n",
       "      <th>12</th>\n",
       "      <td>[]</td>\n",
       "      <td>[]</td>\n",
       "      <td>[]</td>\n",
       "      <td>[]</td>\n",
       "      <td>/sbin</td>\n",
       "      <td>sub-01</td>\n",
       "    </tr>\n",
       "    <tr>\n",
       "      <th>13</th>\n",
       "      <td>[]</td>\n",
       "      <td>[]</td>\n",
       "      <td>[]</td>\n",
       "      <td>[]</td>\n",
       "      <td>/System</td>\n",
       "      <td>sub-01</td>\n",
       "    </tr>\n",
       "    <tr>\n",
       "      <th>14</th>\n",
       "      <td>[]</td>\n",
       "      <td>[]</td>\n",
       "      <td>[]</td>\n",
       "      <td>[]</td>\n",
       "      <td>/tmp</td>\n",
       "      <td>sub-01</td>\n",
       "    </tr>\n",
       "    <tr>\n",
       "      <th>15</th>\n",
       "      <td>[]</td>\n",
       "      <td>[]</td>\n",
       "      <td>[]</td>\n",
       "      <td>[]</td>\n",
       "      <td>/Users</td>\n",
       "      <td>sub-01</td>\n",
       "    </tr>\n",
       "    <tr>\n",
       "      <th>16</th>\n",
       "      <td>[]</td>\n",
       "      <td>[]</td>\n",
       "      <td>[]</td>\n",
       "      <td>[]</td>\n",
       "      <td>/usr</td>\n",
       "      <td>sub-01</td>\n",
       "    </tr>\n",
       "    <tr>\n",
       "      <th>17</th>\n",
       "      <td>[]</td>\n",
       "      <td>[]</td>\n",
       "      <td>[]</td>\n",
       "      <td>[]</td>\n",
       "      <td>/var</td>\n",
       "      <td>sub-01</td>\n",
       "    </tr>\n",
       "    <tr>\n",
       "      <th>18</th>\n",
       "      <td>[]</td>\n",
       "      <td>[]</td>\n",
       "      <td>[]</td>\n",
       "      <td>[]</td>\n",
       "      <td>/Volumes</td>\n",
       "      <td>sub-01</td>\n",
       "    </tr>\n",
       "    <tr>\n",
       "      <th>19</th>\n",
       "      <td>[]</td>\n",
       "      <td>[]</td>\n",
       "      <td>[]</td>\n",
       "      <td>[]</td>\n",
       "      <td>/Applications</td>\n",
       "      <td>sub-02</td>\n",
       "    </tr>\n",
       "    <tr>\n",
       "      <th>20</th>\n",
       "      <td>[]</td>\n",
       "      <td>[]</td>\n",
       "      <td>[]</td>\n",
       "      <td>[]</td>\n",
       "      <td>/bin</td>\n",
       "      <td>sub-02</td>\n",
       "    </tr>\n",
       "    <tr>\n",
       "      <th>21</th>\n",
       "      <td>[]</td>\n",
       "      <td>[]</td>\n",
       "      <td>[]</td>\n",
       "      <td>[]</td>\n",
       "      <td>/cores</td>\n",
       "      <td>sub-02</td>\n",
       "    </tr>\n",
       "    <tr>\n",
       "      <th>22</th>\n",
       "      <td>[]</td>\n",
       "      <td>[]</td>\n",
       "      <td>[]</td>\n",
       "      <td>[]</td>\n",
       "      <td>/dev</td>\n",
       "      <td>sub-02</td>\n",
       "    </tr>\n",
       "    <tr>\n",
       "      <th>23</th>\n",
       "      <td>[]</td>\n",
       "      <td>[]</td>\n",
       "      <td>[]</td>\n",
       "      <td>[]</td>\n",
       "      <td>/etc</td>\n",
       "      <td>sub-02</td>\n",
       "    </tr>\n",
       "    <tr>\n",
       "      <th>24</th>\n",
       "      <td>[]</td>\n",
       "      <td>[]</td>\n",
       "      <td>[]</td>\n",
       "      <td>[]</td>\n",
       "      <td>/home</td>\n",
       "      <td>sub-02</td>\n",
       "    </tr>\n",
       "    <tr>\n",
       "      <th>25</th>\n",
       "      <td>[]</td>\n",
       "      <td>[]</td>\n",
       "      <td>[]</td>\n",
       "      <td>[]</td>\n",
       "      <td>/installer.failurerequests</td>\n",
       "      <td>sub-02</td>\n",
       "    </tr>\n",
       "    <tr>\n",
       "      <th>26</th>\n",
       "      <td>[]</td>\n",
       "      <td>[]</td>\n",
       "      <td>[]</td>\n",
       "      <td>[]</td>\n",
       "      <td>/Library</td>\n",
       "      <td>sub-02</td>\n",
       "    </tr>\n",
       "    <tr>\n",
       "      <th>27</th>\n",
       "      <td>[]</td>\n",
       "      <td>[]</td>\n",
       "      <td>[]</td>\n",
       "      <td>[]</td>\n",
       "      <td>/net</td>\n",
       "      <td>sub-02</td>\n",
       "    </tr>\n",
       "    <tr>\n",
       "      <th>28</th>\n",
       "      <td>[]</td>\n",
       "      <td>[]</td>\n",
       "      <td>[]</td>\n",
       "      <td>[]</td>\n",
       "      <td>/Network</td>\n",
       "      <td>sub-02</td>\n",
       "    </tr>\n",
       "    <tr>\n",
       "      <th>29</th>\n",
       "      <td>[]</td>\n",
       "      <td>[]</td>\n",
       "      <td>[]</td>\n",
       "      <td>[]</td>\n",
       "      <td>/opt</td>\n",
       "      <td>sub-02</td>\n",
       "    </tr>\n",
       "    <tr>\n",
       "      <th>30</th>\n",
       "      <td>[]</td>\n",
       "      <td>[]</td>\n",
       "      <td>[]</td>\n",
       "      <td>[]</td>\n",
       "      <td>/private</td>\n",
       "      <td>sub-02</td>\n",
       "    </tr>\n",
       "    <tr>\n",
       "      <th>31</th>\n",
       "      <td>[]</td>\n",
       "      <td>[]</td>\n",
       "      <td>[]</td>\n",
       "      <td>[]</td>\n",
       "      <td>/sbin</td>\n",
       "      <td>sub-02</td>\n",
       "    </tr>\n",
       "    <tr>\n",
       "      <th>32</th>\n",
       "      <td>[]</td>\n",
       "      <td>[]</td>\n",
       "      <td>[]</td>\n",
       "      <td>[]</td>\n",
       "      <td>/System</td>\n",
       "      <td>sub-02</td>\n",
       "    </tr>\n",
       "    <tr>\n",
       "      <th>33</th>\n",
       "      <td>[]</td>\n",
       "      <td>[]</td>\n",
       "      <td>[]</td>\n",
       "      <td>[]</td>\n",
       "      <td>/tmp</td>\n",
       "      <td>sub-02</td>\n",
       "    </tr>\n",
       "    <tr>\n",
       "      <th>34</th>\n",
       "      <td>[]</td>\n",
       "      <td>[]</td>\n",
       "      <td>[]</td>\n",
       "      <td>[]</td>\n",
       "      <td>/Users</td>\n",
       "      <td>sub-02</td>\n",
       "    </tr>\n",
       "    <tr>\n",
       "      <th>35</th>\n",
       "      <td>[]</td>\n",
       "      <td>[]</td>\n",
       "      <td>[]</td>\n",
       "      <td>[]</td>\n",
       "      <td>/usr</td>\n",
       "      <td>sub-02</td>\n",
       "    </tr>\n",
       "    <tr>\n",
       "      <th>36</th>\n",
       "      <td>[]</td>\n",
       "      <td>[]</td>\n",
       "      <td>[]</td>\n",
       "      <td>[]</td>\n",
       "      <td>/var</td>\n",
       "      <td>sub-02</td>\n",
       "    </tr>\n",
       "    <tr>\n",
       "      <th>37</th>\n",
       "      <td>[]</td>\n",
       "      <td>[]</td>\n",
       "      <td>[]</td>\n",
       "      <td>[]</td>\n",
       "      <td>/Volumes</td>\n",
       "      <td>sub-02</td>\n",
       "    </tr>\n",
       "  </tbody>\n",
       "</table>\n",
       "</div>"
      ],
      "text/plain": [
       "   anat_file bval_file bvec_file dwi_file                        sess subjects\n",
       "0         []        []        []       []               /Applications   sub-01\n",
       "1         []        []        []       []                        /bin   sub-01\n",
       "2         []        []        []       []                      /cores   sub-01\n",
       "3         []        []        []       []                        /dev   sub-01\n",
       "4         []        []        []       []                        /etc   sub-01\n",
       "5         []        []        []       []                       /home   sub-01\n",
       "6         []        []        []       []  /installer.failurerequests   sub-01\n",
       "7         []        []        []       []                    /Library   sub-01\n",
       "8         []        []        []       []                        /net   sub-01\n",
       "9         []        []        []       []                    /Network   sub-01\n",
       "10        []        []        []       []                        /opt   sub-01\n",
       "11        []        []        []       []                    /private   sub-01\n",
       "12        []        []        []       []                       /sbin   sub-01\n",
       "13        []        []        []       []                     /System   sub-01\n",
       "14        []        []        []       []                        /tmp   sub-01\n",
       "15        []        []        []       []                      /Users   sub-01\n",
       "16        []        []        []       []                        /usr   sub-01\n",
       "17        []        []        []       []                        /var   sub-01\n",
       "18        []        []        []       []                    /Volumes   sub-01\n",
       "19        []        []        []       []               /Applications   sub-02\n",
       "20        []        []        []       []                        /bin   sub-02\n",
       "21        []        []        []       []                      /cores   sub-02\n",
       "22        []        []        []       []                        /dev   sub-02\n",
       "23        []        []        []       []                        /etc   sub-02\n",
       "24        []        []        []       []                       /home   sub-02\n",
       "25        []        []        []       []  /installer.failurerequests   sub-02\n",
       "26        []        []        []       []                    /Library   sub-02\n",
       "27        []        []        []       []                        /net   sub-02\n",
       "28        []        []        []       []                    /Network   sub-02\n",
       "29        []        []        []       []                        /opt   sub-02\n",
       "30        []        []        []       []                    /private   sub-02\n",
       "31        []        []        []       []                       /sbin   sub-02\n",
       "32        []        []        []       []                     /System   sub-02\n",
       "33        []        []        []       []                        /tmp   sub-02\n",
       "34        []        []        []       []                      /Users   sub-02\n",
       "35        []        []        []       []                        /usr   sub-02\n",
       "36        []        []        []       []                        /var   sub-02\n",
       "37        []        []        []       []                    /Volumes   sub-02"
      ]
     },
     "execution_count": 75,
     "metadata": {},
     "output_type": "execute_result"
    }
   ],
   "source": [
    "myafq.data_frame"
   ]
  },
  {
   "cell_type": "code",
   "execution_count": 33,
   "metadata": {
    "collapsed": false
   },
   "outputs": [
    {
     "data": {
      "text/plain": [
       "['/Users/arokem/projects/dipy-afq/ds114-preproc/sub-01/ses-test',\n",
       " '/Users/arokem/projects/dipy-afq/ds114-preproc/sub-01/ses-retest']"
      ]
     },
     "execution_count": 33,
     "metadata": {},
     "output_type": "execute_result"
    }
   ],
   "source": []
  },
  {
   "cell_type": "code",
   "execution_count": 19,
   "metadata": {
    "collapsed": false
   },
   "outputs": [
    {
     "data": {
      "text/html": [
       "<div>\n",
       "<table border=\"1\" class=\"dataframe\">\n",
       "  <thead>\n",
       "    <tr style=\"text-align: right;\">\n",
       "      <th></th>\n",
       "      <th>subjects</th>\n",
       "    </tr>\n",
       "  </thead>\n",
       "  <tbody>\n",
       "    <tr>\n",
       "      <th>0</th>\n",
       "      <td>sub-01</td>\n",
       "    </tr>\n",
       "    <tr>\n",
       "      <th>1</th>\n",
       "      <td>sub-02</td>\n",
       "    </tr>\n",
       "  </tbody>\n",
       "</table>\n",
       "</div>"
      ],
      "text/plain": [
       "  subjects\n",
       "0   sub-01\n",
       "1   sub-02"
      ]
     },
     "execution_count": 19,
     "metadata": {},
     "output_type": "execute_result"
    }
   ],
   "source": [
    "myafq.data_frame"
   ]
  },
  {
   "cell_type": "code",
   "execution_count": 20,
   "metadata": {
    "collapsed": false
   },
   "outputs": [],
   "source": [
    "df = pd.DataFrame({'subjects':['sub-01', 'sub-01', 'sub-02', 'sub-02', ], \n",
    "                   'sess': ['ses-test', 'ses-retest', 'ses-test','ses-retest'], 'md-arcuate-01': [0, 2, 4, 6 ], 'md-arcuate-02': [1, 3,5, 7]})"
   ]
  },
  {
   "cell_type": "code",
   "execution_count": 23,
   "metadata": {
    "collapsed": false
   },
   "outputs": [],
   "source": [
    "newdf = myafq.data_frame.merge(df, on=\"subjects\")"
   ]
  },
  {
   "cell_type": "code",
   "execution_count": 24,
   "metadata": {
    "collapsed": false
   },
   "outputs": [
    {
     "data": {
      "text/html": [
       "<div>\n",
       "<table border=\"1\" class=\"dataframe\">\n",
       "  <thead>\n",
       "    <tr style=\"text-align: right;\">\n",
       "      <th></th>\n",
       "      <th>subjects</th>\n",
       "      <th>md-arcuate-01</th>\n",
       "      <th>md-arcuate-02</th>\n",
       "      <th>sess</th>\n",
       "    </tr>\n",
       "  </thead>\n",
       "  <tbody>\n",
       "    <tr>\n",
       "      <th>0</th>\n",
       "      <td>sub-01</td>\n",
       "      <td>0</td>\n",
       "      <td>1</td>\n",
       "      <td>ses-test</td>\n",
       "    </tr>\n",
       "    <tr>\n",
       "      <th>1</th>\n",
       "      <td>sub-01</td>\n",
       "      <td>2</td>\n",
       "      <td>3</td>\n",
       "      <td>ses-retest</td>\n",
       "    </tr>\n",
       "    <tr>\n",
       "      <th>2</th>\n",
       "      <td>sub-02</td>\n",
       "      <td>4</td>\n",
       "      <td>5</td>\n",
       "      <td>ses-test</td>\n",
       "    </tr>\n",
       "    <tr>\n",
       "      <th>3</th>\n",
       "      <td>sub-02</td>\n",
       "      <td>6</td>\n",
       "      <td>7</td>\n",
       "      <td>ses-retest</td>\n",
       "    </tr>\n",
       "  </tbody>\n",
       "</table>\n",
       "</div>"
      ],
      "text/plain": [
       "  subjects  md-arcuate-01  md-arcuate-02        sess\n",
       "0   sub-01              0              1    ses-test\n",
       "1   sub-01              2              3  ses-retest\n",
       "2   sub-02              4              5    ses-test\n",
       "3   sub-02              6              7  ses-retest"
      ]
     },
     "execution_count": 24,
     "metadata": {},
     "output_type": "execute_result"
    }
   ],
   "source": [
    "newdf"
   ]
  },
  {
   "cell_type": "markdown",
   "metadata": {},
   "source": [
    "### Design considerations: \n",
    "\n",
    "We think that there could be a few different cases for the way data is layed out on disk: \n",
    "\n",
    "1. Each subject has just one diffusion measurement and one anatomy in a single session\n",
    "2. Subjects have multiple diffusion measurements: \n",
    "    - Either across different time-points (sessions; e.g., longitudinal), or:\n",
    "    - within every session: repeats of the same measurement, or different conditions (b-values, resolution, etc.)\n",
    "    \n",
    "\n",
    "We might choose to impose a file structure: \n",
    "\n",
    "1. T1w per subject (derived from whatever T1s you have in the original session)\n",
    "2. Only 1 diffusion nifti file"
   ]
  },
  {
   "cell_type": "code",
   "execution_count": 20,
   "metadata": {
    "collapsed": false
   },
   "outputs": [
    {
     "data": {
      "text/plain": [
       "['/Users/arokem/projects/dipy-afq/ds114-preproc/sub-01/ses-test/anat',\n",
       " '/Users/arokem/projects/dipy-afq/ds114-preproc/sub-02/ses-test/anat']"
      ]
     },
     "execution_count": 20,
     "metadata": {},
     "output_type": "execute_result"
    }
   ],
   "source": [
    "glob.glob(preproc_path + '/*/*/*anat*')"
   ]
  },
  {
   "cell_type": "code",
   "execution_count": 15,
   "metadata": {
    "collapsed": false
   },
   "outputs": [
    {
     "data": {
      "text/plain": [
       "['/Users/arokem/projects/dipy-afq/ds114-preproc/sub-01',\n",
       " '/Users/arokem/projects/dipy-afq/ds114-preproc/sub-02']"
      ]
     },
     "execution_count": 15,
     "metadata": {},
     "output_type": "execute_result"
    }
   ],
   "source": []
  },
  {
   "cell_type": "code",
   "execution_count": 9,
   "metadata": {
    "collapsed": true
   },
   "outputs": [],
   "source": [
    "afq_with_raw = AFQ(raw_path, preproc_path)"
   ]
  },
  {
   "cell_type": "code",
   "execution_count": 10,
   "metadata": {
    "collapsed": false
   },
   "outputs": [],
   "source": [
    "afq_no_raw = AFQ(preproc_path=preproc_path)"
   ]
  },
  {
   "cell_type": "code",
   "execution_count": 12,
   "metadata": {
    "collapsed": false
   },
   "outputs": [
    {
     "data": {
      "text/plain": [
       "'/Users/arokem/projects/dipy-afq/ds114-preproc/'"
      ]
     },
     "execution_count": 12,
     "metadata": {},
     "output_type": "execute_result"
    }
   ],
   "source": [
    "afq_with_raw.preproc_path"
   ]
  },
  {
   "cell_type": "markdown",
   "metadata": {
    "collapsed": true
   },
   "source": [
    "### Preprocessing: \n",
    "\n",
    "1. Motion/Eddy current correction\n",
    "\n",
    "2. Fitting a model: \n",
    "    Create a new folder and put the parameters in there:\n",
    "        'ds114-preproc/sub-01/ses-retest/dwi/dti/sub01_ses-retest_dwi_dti_ls.nii.gz'\n",
    "    Have this file mem-mapped \n",
    "       \n",
    "3. Tractography\n",
    "    Create another sub-folder for that \n",
    "    \n",
    "4. Calculate derived statistics: \n",
    "       'ds114-preproc/sub-01/ses-retest/dwi/dti/sub01_ses-retest_dwi_dti_ls_fa.nii.gz'\n",
    "       'ds114-preproc/sub-01/ses-retest/dwi/dti/sub01_ses-retest_dwi_dti_ls_md.nii.gz'\n"
   ]
  }
 ],
 "metadata": {
  "kernelspec": {
   "display_name": "Python 3",
   "language": "python",
   "name": "python3"
  },
  "language_info": {
   "codemirror_mode": {
    "name": "ipython",
    "version": 3
   },
   "file_extension": ".py",
   "mimetype": "text/x-python",
   "name": "python",
   "nbconvert_exporter": "python",
   "pygments_lexer": "ipython3",
   "version": "3.5.1"
  }
 },
 "nbformat": 4,
 "nbformat_minor": 0
}
