{
 "cells": [
  {
   "cell_type": "code",
   "execution_count": 1,
   "metadata": {
    "collapsed": true
   },
   "outputs": [],
   "source": [
    "import os.path as op"
   ]
  },
  {
   "cell_type": "code",
   "execution_count": 2,
   "metadata": {
    "collapsed": false
   },
   "outputs": [],
   "source": [
    "from AFQ import api"
   ]
  },
  {
   "cell_type": "code",
   "execution_count": 6,
   "metadata": {
    "collapsed": false
   },
   "outputs": [],
   "source": [
    "base_dir = op.join(op.expanduser('~'), 'AFQ_data', 'HCP')"
   ]
  },
  {
   "cell_type": "code",
   "execution_count": 7,
   "metadata": {
    "collapsed": false
   },
   "outputs": [],
   "source": [
    "myafq = api.AFQ(preproc_path=base_dir, sub_prefix='')"
   ]
  },
  {
   "cell_type": "code",
   "execution_count": 8,
   "metadata": {
    "collapsed": false
   },
   "outputs": [
    {
     "data": {
      "text/html": [
       "<div>\n",
       "<table border=\"1\" class=\"dataframe\">\n",
       "  <thead>\n",
       "    <tr style=\"text-align: right;\">\n",
       "      <th></th>\n",
       "      <th>anat_file</th>\n",
       "      <th>bval_file</th>\n",
       "      <th>bvec_file</th>\n",
       "      <th>dwi_file</th>\n",
       "      <th>sess</th>\n",
       "      <th>subject</th>\n",
       "      <th>gtab</th>\n",
       "      <th>dwi_affine</th>\n",
       "    </tr>\n",
       "  </thead>\n",
       "  <tbody>\n",
       "    <tr>\n",
       "      <th>0</th>\n",
       "      <td>/Users/arokem/AFQ_data/HCP/992774/sess/anat/T1...</td>\n",
       "      <td>/Users/arokem/AFQ_data/HCP/992774/sess/dwi/dwi...</td>\n",
       "      <td>/Users/arokem/AFQ_data/HCP/992774/sess/dwi/dwi...</td>\n",
       "      <td>/Users/arokem/AFQ_data/HCP/992774/sess/dwi/dwi...</td>\n",
       "      <td>/Users/arokem/AFQ_data/HCP/992774/sess</td>\n",
       "      <td>992774</td>\n",
       "      <td>&lt;dipy.core.gradients.GradientTable object at 0...</td>\n",
       "      <td>[[-1.25, 0.0, 0.0, 90.0], [0.0, 1.25, 0.0, -12...</td>\n",
       "    </tr>\n",
       "    <tr>\n",
       "      <th>1</th>\n",
       "      <td>/Users/arokem/AFQ_data/HCP/994273/sess/anat/T1...</td>\n",
       "      <td>/Users/arokem/AFQ_data/HCP/994273/sess/dwi/dwi...</td>\n",
       "      <td>/Users/arokem/AFQ_data/HCP/994273/sess/dwi/dwi...</td>\n",
       "      <td>/Users/arokem/AFQ_data/HCP/994273/sess/dwi/dwi...</td>\n",
       "      <td>/Users/arokem/AFQ_data/HCP/994273/sess</td>\n",
       "      <td>994273</td>\n",
       "      <td>&lt;dipy.core.gradients.GradientTable object at 0...</td>\n",
       "      <td>[[-1.25, 0.0, 0.0, 90.0], [0.0, 1.25, 0.0, -12...</td>\n",
       "    </tr>\n",
       "  </tbody>\n",
       "</table>\n",
       "</div>"
      ],
      "text/plain": [
       "                                           anat_file  \\\n",
       "0  /Users/arokem/AFQ_data/HCP/992774/sess/anat/T1...   \n",
       "1  /Users/arokem/AFQ_data/HCP/994273/sess/anat/T1...   \n",
       "\n",
       "                                           bval_file  \\\n",
       "0  /Users/arokem/AFQ_data/HCP/992774/sess/dwi/dwi...   \n",
       "1  /Users/arokem/AFQ_data/HCP/994273/sess/dwi/dwi...   \n",
       "\n",
       "                                           bvec_file  \\\n",
       "0  /Users/arokem/AFQ_data/HCP/992774/sess/dwi/dwi...   \n",
       "1  /Users/arokem/AFQ_data/HCP/994273/sess/dwi/dwi...   \n",
       "\n",
       "                                            dwi_file  \\\n",
       "0  /Users/arokem/AFQ_data/HCP/992774/sess/dwi/dwi...   \n",
       "1  /Users/arokem/AFQ_data/HCP/994273/sess/dwi/dwi...   \n",
       "\n",
       "                                     sess subject  \\\n",
       "0  /Users/arokem/AFQ_data/HCP/992774/sess  992774   \n",
       "1  /Users/arokem/AFQ_data/HCP/994273/sess  994273   \n",
       "\n",
       "                                                gtab  \\\n",
       "0  <dipy.core.gradients.GradientTable object at 0...   \n",
       "1  <dipy.core.gradients.GradientTable object at 0...   \n",
       "\n",
       "                                          dwi_affine  \n",
       "0  [[-1.25, 0.0, 0.0, 90.0], [0.0, 1.25, 0.0, -12...  \n",
       "1  [[-1.25, 0.0, 0.0, 90.0], [0.0, 1.25, 0.0, -12...  "
      ]
     },
     "execution_count": 8,
     "metadata": {},
     "output_type": "execute_result"
    }
   ],
   "source": [
    "myafq.data_frame"
   ]
  },
  {
   "cell_type": "code",
   "execution_count": 9,
   "metadata": {
    "collapsed": false
   },
   "outputs": [],
   "source": [
    "myafq.brain_extraction()"
   ]
  },
  {
   "cell_type": "code",
   "execution_count": 10,
   "metadata": {
    "collapsed": false
   },
   "outputs": [
    {
     "data": {
      "text/plain": [
       "<dipy.core.gradients.GradientTable at 0x11b3d2b70>"
      ]
     },
     "execution_count": 10,
     "metadata": {},
     "output_type": "execute_result"
    }
   ],
   "source": [
    "myafq.data_frame.iloc[0]['gtab']"
   ]
  },
  {
   "cell_type": "code",
   "execution_count": 12,
   "metadata": {
    "collapsed": false
   },
   "outputs": [
    {
     "data": {
      "text/plain": [
       "0    <class 'nibabel.nifti1.Nifti1Image'>\\ndata sha...\n",
       "1    <class 'nibabel.nifti1.Nifti1Image'>\\ndata sha...\n",
       "Name: brain_mask_img, dtype: object"
      ]
     },
     "execution_count": 12,
     "metadata": {},
     "output_type": "execute_result"
    }
   ],
   "source": [
    "myafq.data_frame['brain_mask_img']"
   ]
  },
  {
   "cell_type": "code",
   "execution_count": null,
   "metadata": {
    "collapsed": true
   },
   "outputs": [],
   "source": []
  }
 ],
 "metadata": {
  "kernelspec": {
   "display_name": "Python 3",
   "language": "python",
   "name": "python3"
  },
  "language_info": {
   "codemirror_mode": {
    "name": "ipython",
    "version": 3
   },
   "file_extension": ".py",
   "mimetype": "text/x-python",
   "name": "python",
   "nbconvert_exporter": "python",
   "pygments_lexer": "ipython3",
   "version": "3.5.1"
  }
 },
 "nbformat": 4,
 "nbformat_minor": 0
}
