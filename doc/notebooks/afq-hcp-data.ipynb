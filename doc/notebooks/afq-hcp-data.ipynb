{
 "cells": [
  {
   "cell_type": "code",
   "execution_count": 1,
   "metadata": {
    "collapsed": true
   },
   "outputs": [],
   "source": [
    "import os.path as op"
   ]
  },
  {
   "cell_type": "code",
   "execution_count": 2,
   "metadata": {
    "collapsed": true
   },
   "outputs": [],
   "source": [
    "import AFQ.data as afd"
   ]
  },
  {
   "cell_type": "code",
   "execution_count": 3,
   "metadata": {
    "collapsed": false
   },
   "outputs": [
    {
     "data": {
      "text/plain": [
       "{'/Users/arokem/AFQ_data/HCP/derivatives/sub-992774/sub-992774_aparc+aseg.nii.gz': 'HCP/992774/T1w/aparc+aseg.nii.gz',\n",
       " '/Users/arokem/AFQ_data/HCP/derivatives/sub-994273/sub-994273_aparc+aseg.nii.gz': 'HCP/994273/T1w/aparc+aseg.nii.gz',\n",
       " '/Users/arokem/AFQ_data/HCP/sub-992774/sess-01/anat/sub-992774_T1w.nii.gz': 'HCP/992774/T1w/T1w_acpc_dc.nii.gz',\n",
       " '/Users/arokem/AFQ_data/HCP/sub-992774/sess-01/dwi/sub-992774_dwi.bval': 'HCP/992774/T1w/Diffusion/bvals',\n",
       " '/Users/arokem/AFQ_data/HCP/sub-992774/sess-01/dwi/sub-992774_dwi.bvec': 'HCP/992774/T1w/Diffusion/bvecs',\n",
       " '/Users/arokem/AFQ_data/HCP/sub-992774/sess-01/dwi/sub-992774_dwi.nii.gz': 'HCP/992774/T1w/Diffusion/data.nii.gz',\n",
       " '/Users/arokem/AFQ_data/HCP/sub-994273/sess-01/anat/sub-994273_T1w.nii.gz': 'HCP/994273/T1w/T1w_acpc_dc.nii.gz',\n",
       " '/Users/arokem/AFQ_data/HCP/sub-994273/sess-01/dwi/sub-994273_dwi.bval': 'HCP/994273/T1w/Diffusion/bvals',\n",
       " '/Users/arokem/AFQ_data/HCP/sub-994273/sess-01/dwi/sub-994273_dwi.bvec': 'HCP/994273/T1w/Diffusion/bvecs',\n",
       " '/Users/arokem/AFQ_data/HCP/sub-994273/sess-01/dwi/sub-994273_dwi.nii.gz': 'HCP/994273/T1w/Diffusion/data.nii.gz'}"
      ]
     },
     "execution_count": 3,
     "metadata": {},
     "output_type": "execute_result"
    }
   ],
   "source": [
    "afd.fetch_hcp(['992774', '994273'])"
   ]
  },
  {
   "cell_type": "code",
   "execution_count": 4,
   "metadata": {
    "collapsed": false
   },
   "outputs": [],
   "source": [
    "from AFQ import api"
   ]
  },
  {
   "cell_type": "code",
   "execution_count": 5,
   "metadata": {
    "collapsed": true
   },
   "outputs": [],
   "source": [
    "base_dir = op.join(op.expanduser('~'), 'AFQ_data', 'HCP')"
   ]
  },
  {
   "cell_type": "code",
   "execution_count": 6,
   "metadata": {
    "collapsed": false
   },
   "outputs": [],
   "source": [
    "myafq = api.AFQ(preproc_path=base_dir, sub_prefix='sub')"
   ]
  },
  {
   "cell_type": "code",
   "execution_count": null,
   "metadata": {
    "collapsed": false
   },
   "outputs": [
    {
     "data": {
      "text/html": [
       "<div>\n",
       "<table border=\"1\" class=\"dataframe\">\n",
       "  <thead>\n",
       "    <tr style=\"text-align: right;\">\n",
       "      <th></th>\n",
       "      <th>anat_file</th>\n",
       "      <th>bval_file</th>\n",
       "      <th>bvec_file</th>\n",
       "      <th>dwi_file</th>\n",
       "      <th>sess</th>\n",
       "      <th>subject</th>\n",
       "      <th>gtab</th>\n",
       "      <th>dwi_affine</th>\n",
       "    </tr>\n",
       "  </thead>\n",
       "  <tbody>\n",
       "    <tr>\n",
       "      <th>0</th>\n",
       "      <td>/Users/arokem/AFQ_data/HCP/sub-992774/sess-01/...</td>\n",
       "      <td>/Users/arokem/AFQ_data/HCP/sub-992774/sess-01/...</td>\n",
       "      <td>/Users/arokem/AFQ_data/HCP/sub-992774/sess-01/...</td>\n",
       "      <td>/Users/arokem/AFQ_data/HCP/sub-992774/sess-01/...</td>\n",
       "      <td>/Users/arokem/AFQ_data/HCP/sub-992774/sess-01</td>\n",
       "      <td>sub-992774</td>\n",
       "      <td>&lt;dipy.core.gradients.GradientTable object at 0...</td>\n",
       "      <td>[[-1.25, 0.0, 0.0, 90.0], [0.0, 1.25, 0.0, -12...</td>\n",
       "    </tr>\n",
       "    <tr>\n",
       "      <th>1</th>\n",
       "      <td>/Users/arokem/AFQ_data/HCP/sub-994273/sess-01/...</td>\n",
       "      <td>/Users/arokem/AFQ_data/HCP/sub-994273/sess-01/...</td>\n",
       "      <td>/Users/arokem/AFQ_data/HCP/sub-994273/sess-01/...</td>\n",
       "      <td>/Users/arokem/AFQ_data/HCP/sub-994273/sess-01/...</td>\n",
       "      <td>/Users/arokem/AFQ_data/HCP/sub-994273/sess-01</td>\n",
       "      <td>sub-994273</td>\n",
       "      <td>&lt;dipy.core.gradients.GradientTable object at 0...</td>\n",
       "      <td>[[-1.25, 0.0, 0.0, 90.0], [0.0, 1.25, 0.0, -12...</td>\n",
       "    </tr>\n",
       "  </tbody>\n",
       "</table>\n",
       "</div>"
      ],
      "text/plain": [
       "                                           anat_file  \\\n",
       "0  /Users/arokem/AFQ_data/HCP/sub-992774/sess-01/...   \n",
       "1  /Users/arokem/AFQ_data/HCP/sub-994273/sess-01/...   \n",
       "\n",
       "                                           bval_file  \\\n",
       "0  /Users/arokem/AFQ_data/HCP/sub-992774/sess-01/...   \n",
       "1  /Users/arokem/AFQ_data/HCP/sub-994273/sess-01/...   \n",
       "\n",
       "                                           bvec_file  \\\n",
       "0  /Users/arokem/AFQ_data/HCP/sub-992774/sess-01/...   \n",
       "1  /Users/arokem/AFQ_data/HCP/sub-994273/sess-01/...   \n",
       "\n",
       "                                            dwi_file  \\\n",
       "0  /Users/arokem/AFQ_data/HCP/sub-992774/sess-01/...   \n",
       "1  /Users/arokem/AFQ_data/HCP/sub-994273/sess-01/...   \n",
       "\n",
       "                                            sess     subject  \\\n",
       "0  /Users/arokem/AFQ_data/HCP/sub-992774/sess-01  sub-992774   \n",
       "1  /Users/arokem/AFQ_data/HCP/sub-994273/sess-01  sub-994273   \n",
       "\n",
       "                                                gtab  \\\n",
       "0  <dipy.core.gradients.GradientTable object at 0...   \n",
       "1  <dipy.core.gradients.GradientTable object at 0...   \n",
       "\n",
       "                                          dwi_affine  \n",
       "0  [[-1.25, 0.0, 0.0, 90.0], [0.0, 1.25, 0.0, -12...  \n",
       "1  [[-1.25, 0.0, 0.0, 90.0], [0.0, 1.25, 0.0, -12...  "
      ]
     },
     "execution_count": 7,
     "metadata": {},
     "output_type": "execute_result"
    }
   ],
   "source": [
    "myafq.data_frame"
   ]
  },
  {
   "cell_type": "code",
   "execution_count": null,
   "metadata": {
    "collapsed": false
   },
   "outputs": [],
   "source": [
    "myafq.streamlines"
   ]
  },
  {
   "cell_type": "code",
   "execution_count": null,
   "metadata": {
    "collapsed": true
   },
   "outputs": [],
   "source": []
  }
 ],
 "metadata": {
  "kernelspec": {
   "display_name": "Python 3",
   "language": "python",
   "name": "python3"
  },
  "language_info": {
   "codemirror_mode": {
    "name": "ipython",
    "version": 3
   },
   "file_extension": ".py",
   "mimetype": "text/x-python",
   "name": "python",
   "nbconvert_exporter": "python",
   "pygments_lexer": "ipython3",
   "version": "3.5.1"
  }
 },
 "nbformat": 4,
 "nbformat_minor": 0
}
