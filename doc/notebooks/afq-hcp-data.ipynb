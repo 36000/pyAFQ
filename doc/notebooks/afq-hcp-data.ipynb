{
 "cells": [
  {
   "cell_type": "code",
   "execution_count": 1,
   "metadata": {
    "collapsed": true
   },
   "outputs": [],
   "source": [
    "import os.path as op"
   ]
  },
  {
   "cell_type": "code",
   "execution_count": 2,
   "metadata": {
    "collapsed": true
   },
   "outputs": [
    {
     "name": "stderr",
     "output_type": "stream",
     "text": [
      "/Users/arokem/.virtualenvs/afq/lib/python3.6/site-packages/h5py/__init__.py:36: FutureWarning: Conversion of the second argument of issubdtype from `float` to `np.floating` is deprecated. In future, it will be treated as `np.float64 == np.dtype(float).type`.\n",
      "  from ._conv import register_converters as _register_converters\n"
     ]
    }
   ],
   "source": [
    "import AFQ.data as afd\n",
    "import nibabel as nib"
   ]
  },
  {
   "cell_type": "code",
   "execution_count": 3,
   "metadata": {
    "collapsed": false
   },
   "outputs": [],
   "source": [
    "#afd.fetch_hcp(['992774', '994273'])"
   ]
  },
  {
   "cell_type": "code",
   "execution_count": 4,
   "metadata": {
    "collapsed": false
   },
   "outputs": [],
   "source": [
    "from AFQ import api"
   ]
  },
  {
   "cell_type": "code",
   "execution_count": 5,
   "metadata": {
    "collapsed": true
   },
   "outputs": [],
   "source": [
    "base_dir = op.join(op.expanduser('~'), 'AFQ_data', 'HCP_copy')"
   ]
  },
  {
   "cell_type": "code",
   "execution_count": 6,
   "metadata": {
    "collapsed": false
   },
   "outputs": [
    {
     "name": "stdout",
     "output_type": "stream",
     "text": [
      "Dataset is already in place. If you want to fetch it again please first remove the folder /Users/arokem/AFQ_data/templates \n"
     ]
    }
   ],
   "source": [
    "myafq = api.AFQ(preproc_path=base_dir, sub_prefix='sub', b0_threshold=15, seeds=1, bundle_list=[\"SLF\",\"ARC\", \"CST\"])"
   ]
  },
  {
   "cell_type": "code",
   "execution_count": 7,
   "metadata": {},
   "outputs": [
    {
     "data": {
      "text/plain": [
       "{'SLF_R': {'ROIs': [<nibabel.nifti1.Nifti1Image at 0x11632fe80>,\n",
       "   <nibabel.nifti1.Nifti1Image at 0x1163381d0>,\n",
       "   <nibabel.nifti1.Nifti1Image at 0x1163384e0>],\n",
       "  'rules': [True, True, False],\n",
       "  'prob_map': <nibabel.nifti1.Nifti1Image at 0x1163387f0>,\n",
       "  'cross_midline': False,\n",
       "  'uid': 1},\n",
       " 'SLF_L': {'ROIs': [<nibabel.nifti1.Nifti1Image at 0x11632fcf8>,\n",
       "   <nibabel.nifti1.Nifti1Image at 0x11632f0b8>,\n",
       "   <nibabel.nifti1.Nifti1Image at 0x116338358>],\n",
       "  'rules': [True, True, False],\n",
       "  'prob_map': <nibabel.nifti1.Nifti1Image at 0x116338668>,\n",
       "  'cross_midline': False,\n",
       "  'uid': 2},\n",
       " 'ARC_R': {'ROIs': [<nibabel.nifti1.Nifti1Image at 0x11632fe80>,\n",
       "   <nibabel.nifti1.Nifti1Image at 0x1163384e0>],\n",
       "  'rules': [True, True],\n",
       "  'prob_map': <nibabel.nifti1.Nifti1Image at 0x116342470>,\n",
       "  'cross_midline': False,\n",
       "  'uid': 3},\n",
       " 'ARC_L': {'ROIs': [<nibabel.nifti1.Nifti1Image at 0x11632fcf8>,\n",
       "   <nibabel.nifti1.Nifti1Image at 0x116338358>],\n",
       "  'rules': [True, True],\n",
       "  'prob_map': <nibabel.nifti1.Nifti1Image at 0x1163422e8>,\n",
       "  'cross_midline': False,\n",
       "  'uid': 4},\n",
       " 'CST_R': {'ROIs': [<nibabel.nifti1.Nifti1Image at 0x11629bf28>,\n",
       "   <nibabel.nifti1.Nifti1Image at 0x1162a3240>],\n",
       "  'rules': [True, True],\n",
       "  'prob_map': <nibabel.nifti1.Nifti1Image at 0x1162a3550>,\n",
       "  'cross_midline': False,\n",
       "  'uid': 5},\n",
       " 'CST_L': {'ROIs': [<nibabel.nifti1.Nifti1Image at 0x11629bd68>,\n",
       "   <nibabel.nifti1.Nifti1Image at 0x1162a3048>],\n",
       "  'rules': [True, True],\n",
       "  'prob_map': <nibabel.nifti1.Nifti1Image at 0x1162a33c8>,\n",
       "  'cross_midline': False,\n",
       "  'uid': 6}}"
      ]
     },
     "execution_count": 7,
     "metadata": {},
     "output_type": "execute_result"
    }
   ],
   "source": [
    "myafq.bundle_dict"
   ]
  },
  {
   "cell_type": "code",
   "execution_count": 8,
   "metadata": {},
   "outputs": [],
   "source": [
    "import time"
   ]
  },
  {
   "cell_type": "code",
   "execution_count": 9,
   "metadata": {},
   "outputs": [],
   "source": [
    "t1 = time.time()"
   ]
  },
  {
   "cell_type": "code",
   "execution_count": 10,
   "metadata": {
    "collapsed": false
   },
   "outputs": [],
   "source": [
    "bb = myafq.bundles"
   ]
  },
  {
   "cell_type": "code",
   "execution_count": 11,
   "metadata": {},
   "outputs": [],
   "source": [
    "t2 = time.time()"
   ]
  },
  {
   "cell_type": "code",
   "execution_count": 12,
   "metadata": {},
   "outputs": [
    {
     "name": "stdout",
     "output_type": "stream",
     "text": [
      "0.01391291618347168\n"
     ]
    }
   ],
   "source": [
    "print(t2-t1)"
   ]
  },
  {
   "cell_type": "code",
   "execution_count": 13,
   "metadata": {
    "collapsed": true
   },
   "outputs": [],
   "source": [
    "import AFQ.viz as afv"
   ]
  },
  {
   "cell_type": "code",
   "execution_count": 14,
   "metadata": {},
   "outputs": [
    {
     "name": "stdout",
     "output_type": "stream",
     "text": [
      "Data size is approximately 70MB\n",
      "Dataset is already in place. If you want to fetch it again please first remove the folder /Users/arokem/.dipy/mni_template \n"
     ]
    }
   ],
   "source": [
    "import dipy.data as dpd\n",
    "reg_template = dpd.read_mni_template()\n"
   ]
  },
  {
   "cell_type": "code",
   "execution_count": 15,
   "metadata": {},
   "outputs": [],
   "source": [
    "b0 = nib.load(myafq.b0[0]).get_data()"
   ]
  },
  {
   "cell_type": "code",
   "execution_count": 16,
   "metadata": {},
   "outputs": [
    {
     "data": {
      "text/plain": [
       "array([[  -1.25,    0.  ,    0.  ,   90.  ],\n",
       "       [   0.  ,    1.25,    0.  , -126.  ],\n",
       "       [   0.  ,    0.  ,    1.25,  -72.  ],\n",
       "       [   0.  ,    0.  ,    0.  ,    1.  ]])"
      ]
     },
     "execution_count": 16,
     "metadata": {},
     "output_type": "execute_result"
    }
   ],
   "source": [
    "myafq.dwi_affine[0]"
   ]
  },
  {
   "cell_type": "code",
   "execution_count": 17,
   "metadata": {},
   "outputs": [],
   "source": [
    "# ren = afv.visualize_bundles(myafq.clean_bundles[0], affine_or_mapping=myafq.dwi_affine[0], \n",
    "#                             bundle=myafq.bundle_dict['ARC_L']['uid'], interact=False, inline=False, color=(0, 0, 1))\n",
    "# ren = afv.visualize_bundles(myafq.clean_bundles[0], affine_or_mapping=myafq.dwi_affine[0], \n",
    "#                             bundle=myafq.bundle_dict['ARC_R']['uid'], interact=False, inline=False, color=(1, 0, 0), ren=ren)\n",
    "# ren = afv.visualize_bundles(myafq.clean_bundles[0], affine_or_mapping=myafq.dwi_affine[0], \n",
    "#                             bundle=myafq.bundle_dict['SLF_R']['uid'], interact=False, inline=False, color=(1, 1, 0), ren=ren)\n",
    "# ren = afv.visualize_bundles(myafq.clean_bundles[0], affine_or_mapping=myafq.dwi_affine[0], \n",
    "#                             bundle=myafq.bundle_dict['SLF_L']['uid'], interact=False, inline=False, color=(0, 1, 1), ren=ren)\n",
    "# ren = afv.visualize_roi(myafq.bundle_dict['SLF_L']['ROIs'][0], myafq.mapping[0], reg_template=reg_template, static_img=myafq.data_frame.dwi_file[0], \n",
    "#                         inline=False, interact=False, color=(1, 0, 0), ren=ren)\n",
    "# ren = afv.visualize_roi(myafq.bundle_dict['SLF_L']['ROIs'][1], myafq.mapping[0], reg_template=reg_template, static_img=myafq.data_frame.dwi_file[0], \n",
    "#                         inline=False, interact=False, color=(0, 1, 0), ren=ren)\n",
    "# ren = afv.visualize_roi(myafq.bundle_dict['SLF_L']['ROIs'][2], myafq.mapping[0], reg_template=reg_template, static_img=myafq.data_frame.dwi_file[0], \n",
    "#                         interact=True, color=(0, 0, 1), ren=ren)"
   ]
  },
  {
   "cell_type": "code",
   "execution_count": null,
   "metadata": {},
   "outputs": [],
   "source": []
  },
  {
   "cell_type": "code",
   "execution_count": null,
   "metadata": {},
   "outputs": [],
   "source": []
  },
  {
   "cell_type": "code",
   "execution_count": 35,
   "metadata": {},
   "outputs": [
    {
     "name": "stderr",
     "output_type": "stream",
     "text": [
      "/Users/arokem/.virtualenvs/afq/lib/python3.6/site-packages/vtk/util/numpy_support.py:137: FutureWarning: Conversion of the second argument of issubdtype from `complex` to `np.complexfloating` is deprecated. In future, it will be treated as `np.complex128 == np.dtype(complex).type`.\n",
      "  assert not numpy.issubdtype(z.dtype, complex), \\\n"
     ]
    }
   ],
   "source": [
    "ren = afv.visualize_bundles(myafq.bundles[0], affine_or_mapping=myafq.dwi_affine[0], \n",
    "                            bundle=myafq.bundle_dict['CST_L']['uid'], interact=False, inline=False, color=(0, 0, 1))\n",
    "ren = afv.visualize_bundles(myafq.bundles[0], affine_or_mapping=myafq.dwi_affine[0], \n",
    "                            bundle=myafq.bundle_dict['CST_R']['uid'], interact=False, inline=False, color=(1, 0, 0), ren=ren)\n",
    "ren = afv.visualize_roi(myafq.bundle_dict['CST_L']['ROIs'][0], myafq.mapping[0], reg_template=reg_template, static_img=myafq.data_frame.dwi_file[0], \n",
    "                        inline=False, interact=False, color=(1, 0, 0), ren=ren)\n",
    "ren = afv.visualize_roi(myafq.bundle_dict['CST_L']['ROIs'][1], myafq.mapping[0], reg_template=reg_template, static_img=myafq.data_frame.dwi_file[0], \n",
    "                        inline=False, interact=False, color=(0, 1, 0), ren=ren)\n",
    "ren = afv.visualize_roi(myafq.bundle_dict['CST_R']['ROIs'][0], myafq.mapping[0], reg_template=reg_template, static_img=myafq.data_frame.dwi_file[0], \n",
    "                        inline=False, interact=False, color=(0, 0, 1), ren=ren)\n",
    "\n",
    "ren = afv.visualize_volume(b0, inline=False, interact=True, ren=ren)"
   ]
  },
  {
   "cell_type": "code",
   "execution_count": 19,
   "metadata": {},
   "outputs": [
    {
     "data": {
      "text/plain": [
       "(Renderer)0x122ee7948"
      ]
     },
     "execution_count": 19,
     "metadata": {},
     "output_type": "execute_result"
    }
   ],
   "source": [
    "ren"
   ]
  },
  {
   "cell_type": "code",
   "execution_count": 20,
   "metadata": {
    "collapsed": false
   },
   "outputs": [
    {
     "name": "stderr",
     "output_type": "stream",
     "text": [
      "/Users/arokem/.virtualenvs/afq/lib/python3.6/site-packages/vtk/util/numpy_support.py:137: FutureWarning: Conversion of the second argument of issubdtype from `complex` to `np.complexfloating` is deprecated. In future, it will be treated as `np.complex128 == np.dtype(complex).type`.\n",
      "  assert not numpy.issubdtype(z.dtype, complex), \\\n"
     ]
    },
    {
     "data": {
      "image/png": "[encoded data removed]"
     },
     "metadata": {},
     "output_type": "display_data"
    },
    {
     "data": {
      "image/png": "[encoded data removed]"
     },
     "metadata": {},
     "output_type": "display_data"
    }
   ],
   "source": [
    "ren = afv.visualize_bundles(myafq.bundles[0], bundle=myafq.bundle_dict['SLF_L']['uid'], interact=False)\n",
    "ren = afv.visualize_bundles(myafq.bundles[0], bundle=myafq.bundle_dict['SLF_R']['uid'], ren=ren, interact=False)\n",
    "#ren = afv.visualize_roi(myafq.bundle_dict['SLF_L']['ROIs'][2], ren=ren, interact=True);"
   ]
  },
  {
   "cell_type": "code",
   "execution_count": 21,
   "metadata": {},
   "outputs": [
    {
     "name": "stderr",
     "output_type": "stream",
     "text": [
      "ERROR:root:No traceback has been produced, nothing to debug.\n"
     ]
    }
   ],
   "source": [
    "debug"
   ]
  },
  {
   "cell_type": "code",
   "execution_count": 22,
   "metadata": {},
   "outputs": [],
   "source": [
    "import nibabel as nib \n",
    "trk = nib.streamlines.load(myafq.clean_bundles[0])"
   ]
  },
  {
   "cell_type": "code",
   "execution_count": 23,
   "metadata": {},
   "outputs": [
    {
     "data": {
      "text/plain": [
       "{'magic_number': b'TRACK',\n",
       " 'dimensions': array([1, 1, 1], dtype=int16),\n",
       " 'voxel_sizes': array([1., 1., 1.], dtype=float32),\n",
       " 'origin': array([0., 0., 0.], dtype=float32),\n",
       " 'nb_scalars_per_point': 0,\n",
       " 'scalar_name': array([b'', b'', b'', b'', b'', b'', b'', b'', b'', b''], dtype='|S20'),\n",
       " 'nb_properties_per_streamline': 1,\n",
       " 'property_name': array([b'bundle', b'', b'', b'', b'', b'', b'', b'', b'', b''],\n",
       "       dtype='|S20'),\n",
       " 'voxel_to_rasmm': array([[1., 0., 0., 0.],\n",
       "        [0., 1., 0., 0.],\n",
       "        [0., 0., 1., 0.],\n",
       "        [0., 0., 0., 1.]], dtype=float32),\n",
       " 'reserved': b'',\n",
       " 'voxel_order': b'RAS',\n",
       " 'pad2': b'',\n",
       " 'image_orientation_patient': array([0., 0., 0., 0., 0., 0.], dtype=float32),\n",
       " 'pad1': b'',\n",
       " 'invert_x': b'',\n",
       " 'invert_y': b'',\n",
       " 'invert_z': b'',\n",
       " 'swap_xy': b'',\n",
       " 'swap_yz': b'',\n",
       " 'swap_zx': b'',\n",
       " 'nb_streamlines': 10675,\n",
       " 'version': 2,\n",
       " 'hdr_size': 1000,\n",
       " 'endianness': '<',\n",
       " '_offset_data': 1000}"
      ]
     },
     "execution_count": 23,
     "metadata": {},
     "output_type": "execute_result"
    }
   ],
   "source": [
    "trk.header"
   ]
  },
  {
   "cell_type": "code",
   "execution_count": 24,
   "metadata": {},
   "outputs": [
    {
     "data": {
      "text/plain": [
       "array([[ 56.651073, -12.337013,  27.63232 ],\n",
       "       [ 55.75    , -12.750002,  27.499998],\n",
       "       [ 54.848927, -13.162991,  27.367676],\n",
       "       [ 53.982838, -13.540054,  27.039497],\n",
       "       [ 53.13494 , -14.011045,  26.796091],\n",
       "       [ 52.357777, -14.540049,  26.455257],\n",
       "       [ 51.58061 , -15.069071,  26.114433],\n",
       "       [ 50.803444, -15.598074,  25.7736  ],\n",
       "       [ 49.880337, -15.917126,  25.558956],\n",
       "       [ 48.909874, -16.084257,  25.384987],\n",
       "       [ 47.917946, -16.09945 ,  25.259045],\n",
       "       [ 46.926033, -16.114632,  25.133102],\n",
       "       [ 45.931557, -16.05249 ,  25.048407],\n",
       "       [ 44.937096, -15.99033 ,  24.96371 ],\n",
       "       [ 43.942635, -15.928169,  24.879015],\n",
       "       [ 42.943832, -15.92404 ,  24.927776],\n",
       "       [ 42.042538, -16.314913,  25.114563],\n",
       "       [ 41.38537 , -16.929556,  25.55084 ],\n",
       "       [ 40.72819 , -17.544199,  25.987118],\n",
       "       [ 40.305443, -18.288675,  26.503885],\n",
       "       [ 39.882698, -19.033152,  27.020643],\n",
       "       [ 39.45995 , -19.777628,  27.537401],\n",
       "       [ 39.177174, -20.55801 ,  28.0951  ],\n",
       "       [ 38.894394, -21.338402,  28.65281 ],\n",
       "       [ 38.71139 , -22.212711,  29.102352],\n",
       "       [ 38.692326, -23.064915,  29.625204],\n",
       "       [ 38.673256, -23.917128,  30.148066],\n",
       "       [ 38.237247, -24.719616,  30.55538 ],\n",
       "       [ 37.476814, -25.298344,  30.850027],\n",
       "       [ 36.49839 , -25.50138 ,  30.888231],\n",
       "       [ 35.55056 , -25.798336,  31.00414 ],\n",
       "       [ 34.64927 , -26.189238,  31.190918],\n",
       "       [ 33.810425, -26.674038,  31.43851 ],\n",
       "       [ 32.97158 , -27.158838,  31.686104],\n",
       "       [ 32.211147, -27.737576,  31.980751],\n",
       "       [ 31.45072 , -28.316294,  32.2754  ],\n",
       "       [ 30.690289, -28.895031,  32.570045],\n",
       "       [ 29.929857, -29.473759,  32.864693],\n",
       "       [ 29.352478, -30.284534,  32.768364],\n",
       "       [ 28.879265, -31.153322,  32.62246 ],\n",
       "       [ 28.517447, -32.044197,  32.34786 ],\n",
       "       [ 28.296785, -32.957176,  32.004677],\n",
       "       [ 28.195442, -33.92817 ,  31.788116],\n",
       "       [ 28.0941  , -34.899174,  31.571548],\n",
       "       [ 28.187437, -35.878456,  31.391838],\n",
       "       [ 28.280773, -36.857735,  31.212128],\n",
       "       [ 28.270512, -37.850834,  31.095255],\n",
       "       [ 28.26026 , -38.843925,  30.978392],\n",
       "       [ 28.249998, -39.837013,  30.861519],\n",
       "       [ 28.317055, -40.83288 ,  30.922945],\n",
       "       [ 28.366032, -41.814915,  31.105125],\n",
       "       [ 28.527174, -42.774864,  31.334341],\n",
       "       [ 28.67477 , -43.6989  ,  31.687012],\n",
       "       [ 28.927584, -44.56492 ,  32.118393],\n",
       "       [ 29.099651, -45.395027,  32.64878 ],\n",
       "       [ 29.254623, -46.131218,  33.30758 ],\n",
       "       [ 29.367939, -46.773487,  34.065636],\n",
       "       [ 29.313885, -47.379833,  34.858986],\n",
       "       [ 29.36881 , -47.928173,  35.693443],\n",
       "       [ 29.239899, -48.4406  ,  36.542442],\n",
       "       [ 29.029894, -48.85912 ,  37.42604 ],\n",
       "       [ 28.937145, -49.219612,  38.354176],\n",
       "       [ 28.844398, -49.580116,  39.28231 ],\n",
       "       [ 28.75165 , -49.9406  ,  40.210445],\n",
       "       [ 28.658905, -50.3011  ,  41.138588],\n",
       "       [ 28.691444, -50.603584,  42.091187],\n",
       "       [ 28.723988, -50.90608 ,  43.043785],\n",
       "       [ 28.808151, -51.05663 ,  44.028793],\n",
       "       [ 28.892307, -51.207176,  45.013817],\n",
       "       [ 28.976469, -51.35774 ,  45.99883 ],\n",
       "       [ 29.06063 , -51.50829 ,  46.98384 ],\n",
       "       [ 29.144793, -51.658836,  47.968853],\n",
       "       [ 29.228954, -51.8094  ,  48.953865],\n",
       "       [ 29.261494, -52.111877,  49.906464],\n",
       "       [ 29.294037, -52.414368,  50.85906 ],\n",
       "       [ 29.326582, -52.716846,  51.811653],\n",
       "       [ 29.233833, -53.07734 ,  52.7398  ],\n",
       "       [ 29.023823, -53.49585 ,  53.623398],\n",
       "       [ 28.81382 , -53.914368,  54.506996]], dtype=float32)"
      ]
     },
     "execution_count": 24,
     "metadata": {},
     "output_type": "execute_result"
    }
   ],
   "source": [
    "trk.streamlines[0]"
   ]
  },
  {
   "cell_type": "code",
   "execution_count": 25,
   "metadata": {},
   "outputs": [
    {
     "data": {
      "text/plain": [
       "10675"
      ]
     },
     "execution_count": 25,
     "metadata": {},
     "output_type": "execute_result"
    }
   ],
   "source": [
    "len(trk.streamlines)"
   ]
  },
  {
   "cell_type": "code",
   "execution_count": 26,
   "metadata": {
    "collapsed": true
   },
   "outputs": [],
   "source": [
    "import nibabel as nib"
   ]
  },
  {
   "cell_type": "code",
   "execution_count": 27,
   "metadata": {
    "collapsed": true
   },
   "outputs": [],
   "source": [
    "dti_params = nib.load(myafq.dti[0])"
   ]
  },
  {
   "cell_type": "code",
   "execution_count": 28,
   "metadata": {
    "collapsed": false
   },
   "outputs": [
    {
     "data": {
      "text/plain": [
       "array([[  -1.25,    0.  ,    0.  ,   90.  ],\n",
       "       [   0.  ,    1.25,    0.  , -126.  ],\n",
       "       [   0.  ,    0.  ,    1.25,  -72.  ],\n",
       "       [   0.  ,    0.  ,    0.  ,    1.  ]])"
      ]
     },
     "execution_count": 28,
     "metadata": {},
     "output_type": "execute_result"
    }
   ],
   "source": [
    "dti_params.affine"
   ]
  },
  {
   "cell_type": "code",
   "execution_count": 29,
   "metadata": {
    "collapsed": false
   },
   "outputs": [
    {
     "data": {
      "text/plain": [
       "array([[  -1.25,    0.  ,    0.  ,   90.  ],\n",
       "       [   0.  ,    1.25,    0.  , -126.  ],\n",
       "       [   0.  ,    0.  ,    1.25,  -72.  ],\n",
       "       [   0.  ,    0.  ,    0.  ,    1.  ]])"
      ]
     },
     "execution_count": 29,
     "metadata": {},
     "output_type": "execute_result"
    }
   ],
   "source": [
    "myafq.dwi_affine[0]"
   ]
  },
  {
   "cell_type": "code",
   "execution_count": 30,
   "metadata": {},
   "outputs": [],
   "source": [
    "import pandas as pd\n",
    "import matplotlib.pyplot as plt\n",
    "%matplotlib inline"
   ]
  },
  {
   "cell_type": "code",
   "execution_count": 31,
   "metadata": {},
   "outputs": [
    {
     "data": {
      "text/plain": [
       "[<matplotlib.lines.Line2D at 0x109f1cf60>]"
      ]
     },
     "execution_count": 31,
     "metadata": {},
     "output_type": "execute_result"
    },
    {
     "data": {
      "image/png": "[encoded data removed]",
      "text/plain": [
       "<Figure size 432x288 with 1 Axes>"
      ]
     },
     "metadata": {},
     "output_type": "display_data"
    }
   ],
   "source": [
    "df = pd.read_csv(myafq.tract_profiles[0])\n",
    "plt.plot(df[(df['scalar'] == \"dti_fa\") & (df['bundle']==\"ARC_L\")]['profiles'])"
   ]
  },
  {
   "cell_type": "code",
   "execution_count": 32,
   "metadata": {},
   "outputs": [
    {
     "data": {
      "text/plain": [
       "array(['SLF_R', 'SLF_L', 'ARC_R', 'ARC_L', 'CST_R', 'CST_L'], dtype=object)"
      ]
     },
     "execution_count": 32,
     "metadata": {},
     "output_type": "execute_result"
    }
   ],
   "source": [
    "df['bundle'].unique()"
   ]
  },
  {
   "cell_type": "code",
   "execution_count": 33,
   "metadata": {},
   "outputs": [
    {
     "data": {
      "text/html": [
       "<div>\n",
       "<style scoped>\n",
       "    .dataframe tbody tr th:only-of-type {\n",
       "        vertical-align: middle;\n",
       "    }\n",
       "\n",
       "    .dataframe tbody tr th {\n",
       "        vertical-align: top;\n",
       "    }\n",
       "\n",
       "    .dataframe thead th {\n",
       "        text-align: right;\n",
       "    }\n",
       "</style>\n",
       "<table border=\"1\" class=\"dataframe\">\n",
       "  <thead>\n",
       "    <tr style=\"text-align: right;\">\n",
       "      <th></th>\n",
       "      <th>Unnamed: 0</th>\n",
       "      <th>bundle</th>\n",
       "      <th>node</th>\n",
       "      <th>profiles</th>\n",
       "      <th>scalar</th>\n",
       "    </tr>\n",
       "  </thead>\n",
       "  <tbody>\n",
       "    <tr>\n",
       "      <th>500</th>\n",
       "      <td>500</td>\n",
       "      <td>CST_L</td>\n",
       "      <td>0</td>\n",
       "      <td>0.446523</td>\n",
       "      <td>dti_fa</td>\n",
       "    </tr>\n",
       "    <tr>\n",
       "      <th>501</th>\n",
       "      <td>501</td>\n",
       "      <td>CST_L</td>\n",
       "      <td>1</td>\n",
       "      <td>0.403758</td>\n",
       "      <td>dti_fa</td>\n",
       "    </tr>\n",
       "    <tr>\n",
       "      <th>502</th>\n",
       "      <td>502</td>\n",
       "      <td>CST_L</td>\n",
       "      <td>2</td>\n",
       "      <td>0.376790</td>\n",
       "      <td>dti_fa</td>\n",
       "    </tr>\n",
       "    <tr>\n",
       "      <th>503</th>\n",
       "      <td>503</td>\n",
       "      <td>CST_L</td>\n",
       "      <td>3</td>\n",
       "      <td>0.370950</td>\n",
       "      <td>dti_fa</td>\n",
       "    </tr>\n",
       "    <tr>\n",
       "      <th>504</th>\n",
       "      <td>504</td>\n",
       "      <td>CST_L</td>\n",
       "      <td>4</td>\n",
       "      <td>0.384307</td>\n",
       "      <td>dti_fa</td>\n",
       "    </tr>\n",
       "    <tr>\n",
       "      <th>505</th>\n",
       "      <td>505</td>\n",
       "      <td>CST_L</td>\n",
       "      <td>5</td>\n",
       "      <td>0.406930</td>\n",
       "      <td>dti_fa</td>\n",
       "    </tr>\n",
       "    <tr>\n",
       "      <th>506</th>\n",
       "      <td>506</td>\n",
       "      <td>CST_L</td>\n",
       "      <td>6</td>\n",
       "      <td>0.441552</td>\n",
       "      <td>dti_fa</td>\n",
       "    </tr>\n",
       "    <tr>\n",
       "      <th>507</th>\n",
       "      <td>507</td>\n",
       "      <td>CST_L</td>\n",
       "      <td>7</td>\n",
       "      <td>0.477177</td>\n",
       "      <td>dti_fa</td>\n",
       "    </tr>\n",
       "    <tr>\n",
       "      <th>508</th>\n",
       "      <td>508</td>\n",
       "      <td>CST_L</td>\n",
       "      <td>8</td>\n",
       "      <td>0.507457</td>\n",
       "      <td>dti_fa</td>\n",
       "    </tr>\n",
       "    <tr>\n",
       "      <th>509</th>\n",
       "      <td>509</td>\n",
       "      <td>CST_L</td>\n",
       "      <td>9</td>\n",
       "      <td>0.529702</td>\n",
       "      <td>dti_fa</td>\n",
       "    </tr>\n",
       "    <tr>\n",
       "      <th>510</th>\n",
       "      <td>510</td>\n",
       "      <td>CST_L</td>\n",
       "      <td>10</td>\n",
       "      <td>0.550912</td>\n",
       "      <td>dti_fa</td>\n",
       "    </tr>\n",
       "    <tr>\n",
       "      <th>511</th>\n",
       "      <td>511</td>\n",
       "      <td>CST_L</td>\n",
       "      <td>11</td>\n",
       "      <td>0.580970</td>\n",
       "      <td>dti_fa</td>\n",
       "    </tr>\n",
       "    <tr>\n",
       "      <th>512</th>\n",
       "      <td>512</td>\n",
       "      <td>CST_L</td>\n",
       "      <td>12</td>\n",
       "      <td>0.619364</td>\n",
       "      <td>dti_fa</td>\n",
       "    </tr>\n",
       "    <tr>\n",
       "      <th>513</th>\n",
       "      <td>513</td>\n",
       "      <td>CST_L</td>\n",
       "      <td>13</td>\n",
       "      <td>0.655136</td>\n",
       "      <td>dti_fa</td>\n",
       "    </tr>\n",
       "    <tr>\n",
       "      <th>514</th>\n",
       "      <td>514</td>\n",
       "      <td>CST_L</td>\n",
       "      <td>14</td>\n",
       "      <td>0.682879</td>\n",
       "      <td>dti_fa</td>\n",
       "    </tr>\n",
       "    <tr>\n",
       "      <th>515</th>\n",
       "      <td>515</td>\n",
       "      <td>CST_L</td>\n",
       "      <td>15</td>\n",
       "      <td>0.694586</td>\n",
       "      <td>dti_fa</td>\n",
       "    </tr>\n",
       "    <tr>\n",
       "      <th>516</th>\n",
       "      <td>516</td>\n",
       "      <td>CST_L</td>\n",
       "      <td>16</td>\n",
       "      <td>0.702379</td>\n",
       "      <td>dti_fa</td>\n",
       "    </tr>\n",
       "    <tr>\n",
       "      <th>517</th>\n",
       "      <td>517</td>\n",
       "      <td>CST_L</td>\n",
       "      <td>17</td>\n",
       "      <td>0.707171</td>\n",
       "      <td>dti_fa</td>\n",
       "    </tr>\n",
       "    <tr>\n",
       "      <th>518</th>\n",
       "      <td>518</td>\n",
       "      <td>CST_L</td>\n",
       "      <td>18</td>\n",
       "      <td>0.710462</td>\n",
       "      <td>dti_fa</td>\n",
       "    </tr>\n",
       "    <tr>\n",
       "      <th>519</th>\n",
       "      <td>519</td>\n",
       "      <td>CST_L</td>\n",
       "      <td>19</td>\n",
       "      <td>0.713733</td>\n",
       "      <td>dti_fa</td>\n",
       "    </tr>\n",
       "    <tr>\n",
       "      <th>520</th>\n",
       "      <td>520</td>\n",
       "      <td>CST_L</td>\n",
       "      <td>20</td>\n",
       "      <td>0.725077</td>\n",
       "      <td>dti_fa</td>\n",
       "    </tr>\n",
       "    <tr>\n",
       "      <th>521</th>\n",
       "      <td>521</td>\n",
       "      <td>CST_L</td>\n",
       "      <td>21</td>\n",
       "      <td>0.740793</td>\n",
       "      <td>dti_fa</td>\n",
       "    </tr>\n",
       "    <tr>\n",
       "      <th>522</th>\n",
       "      <td>522</td>\n",
       "      <td>CST_L</td>\n",
       "      <td>22</td>\n",
       "      <td>0.756772</td>\n",
       "      <td>dti_fa</td>\n",
       "    </tr>\n",
       "    <tr>\n",
       "      <th>523</th>\n",
       "      <td>523</td>\n",
       "      <td>CST_L</td>\n",
       "      <td>23</td>\n",
       "      <td>0.770853</td>\n",
       "      <td>dti_fa</td>\n",
       "    </tr>\n",
       "    <tr>\n",
       "      <th>524</th>\n",
       "      <td>524</td>\n",
       "      <td>CST_L</td>\n",
       "      <td>24</td>\n",
       "      <td>0.784024</td>\n",
       "      <td>dti_fa</td>\n",
       "    </tr>\n",
       "    <tr>\n",
       "      <th>525</th>\n",
       "      <td>525</td>\n",
       "      <td>CST_L</td>\n",
       "      <td>25</td>\n",
       "      <td>0.790967</td>\n",
       "      <td>dti_fa</td>\n",
       "    </tr>\n",
       "    <tr>\n",
       "      <th>526</th>\n",
       "      <td>526</td>\n",
       "      <td>CST_L</td>\n",
       "      <td>26</td>\n",
       "      <td>0.793018</td>\n",
       "      <td>dti_fa</td>\n",
       "    </tr>\n",
       "    <tr>\n",
       "      <th>527</th>\n",
       "      <td>527</td>\n",
       "      <td>CST_L</td>\n",
       "      <td>27</td>\n",
       "      <td>0.792257</td>\n",
       "      <td>dti_fa</td>\n",
       "    </tr>\n",
       "    <tr>\n",
       "      <th>528</th>\n",
       "      <td>528</td>\n",
       "      <td>CST_L</td>\n",
       "      <td>28</td>\n",
       "      <td>0.787632</td>\n",
       "      <td>dti_fa</td>\n",
       "    </tr>\n",
       "    <tr>\n",
       "      <th>529</th>\n",
       "      <td>529</td>\n",
       "      <td>CST_L</td>\n",
       "      <td>29</td>\n",
       "      <td>0.781439</td>\n",
       "      <td>dti_fa</td>\n",
       "    </tr>\n",
       "    <tr>\n",
       "      <th>...</th>\n",
       "      <td>...</td>\n",
       "      <td>...</td>\n",
       "      <td>...</td>\n",
       "      <td>...</td>\n",
       "      <td>...</td>\n",
       "    </tr>\n",
       "    <tr>\n",
       "      <th>1170</th>\n",
       "      <td>1170</td>\n",
       "      <td>CST_L</td>\n",
       "      <td>70</td>\n",
       "      <td>0.000525</td>\n",
       "      <td>dti_md</td>\n",
       "    </tr>\n",
       "    <tr>\n",
       "      <th>1171</th>\n",
       "      <td>1171</td>\n",
       "      <td>CST_L</td>\n",
       "      <td>71</td>\n",
       "      <td>0.000517</td>\n",
       "      <td>dti_md</td>\n",
       "    </tr>\n",
       "    <tr>\n",
       "      <th>1172</th>\n",
       "      <td>1172</td>\n",
       "      <td>CST_L</td>\n",
       "      <td>72</td>\n",
       "      <td>0.000511</td>\n",
       "      <td>dti_md</td>\n",
       "    </tr>\n",
       "    <tr>\n",
       "      <th>1173</th>\n",
       "      <td>1173</td>\n",
       "      <td>CST_L</td>\n",
       "      <td>73</td>\n",
       "      <td>0.000507</td>\n",
       "      <td>dti_md</td>\n",
       "    </tr>\n",
       "    <tr>\n",
       "      <th>1174</th>\n",
       "      <td>1174</td>\n",
       "      <td>CST_L</td>\n",
       "      <td>74</td>\n",
       "      <td>0.000503</td>\n",
       "      <td>dti_md</td>\n",
       "    </tr>\n",
       "    <tr>\n",
       "      <th>1175</th>\n",
       "      <td>1175</td>\n",
       "      <td>CST_L</td>\n",
       "      <td>75</td>\n",
       "      <td>0.000500</td>\n",
       "      <td>dti_md</td>\n",
       "    </tr>\n",
       "    <tr>\n",
       "      <th>1176</th>\n",
       "      <td>1176</td>\n",
       "      <td>CST_L</td>\n",
       "      <td>76</td>\n",
       "      <td>0.000498</td>\n",
       "      <td>dti_md</td>\n",
       "    </tr>\n",
       "    <tr>\n",
       "      <th>1177</th>\n",
       "      <td>1177</td>\n",
       "      <td>CST_L</td>\n",
       "      <td>77</td>\n",
       "      <td>0.000496</td>\n",
       "      <td>dti_md</td>\n",
       "    </tr>\n",
       "    <tr>\n",
       "      <th>1178</th>\n",
       "      <td>1178</td>\n",
       "      <td>CST_L</td>\n",
       "      <td>78</td>\n",
       "      <td>0.000494</td>\n",
       "      <td>dti_md</td>\n",
       "    </tr>\n",
       "    <tr>\n",
       "      <th>1179</th>\n",
       "      <td>1179</td>\n",
       "      <td>CST_L</td>\n",
       "      <td>79</td>\n",
       "      <td>0.000495</td>\n",
       "      <td>dti_md</td>\n",
       "    </tr>\n",
       "    <tr>\n",
       "      <th>1180</th>\n",
       "      <td>1180</td>\n",
       "      <td>CST_L</td>\n",
       "      <td>80</td>\n",
       "      <td>0.000497</td>\n",
       "      <td>dti_md</td>\n",
       "    </tr>\n",
       "    <tr>\n",
       "      <th>1181</th>\n",
       "      <td>1181</td>\n",
       "      <td>CST_L</td>\n",
       "      <td>81</td>\n",
       "      <td>0.000498</td>\n",
       "      <td>dti_md</td>\n",
       "    </tr>\n",
       "    <tr>\n",
       "      <th>1182</th>\n",
       "      <td>1182</td>\n",
       "      <td>CST_L</td>\n",
       "      <td>82</td>\n",
       "      <td>0.000498</td>\n",
       "      <td>dti_md</td>\n",
       "    </tr>\n",
       "    <tr>\n",
       "      <th>1183</th>\n",
       "      <td>1183</td>\n",
       "      <td>CST_L</td>\n",
       "      <td>83</td>\n",
       "      <td>0.000501</td>\n",
       "      <td>dti_md</td>\n",
       "    </tr>\n",
       "    <tr>\n",
       "      <th>1184</th>\n",
       "      <td>1184</td>\n",
       "      <td>CST_L</td>\n",
       "      <td>84</td>\n",
       "      <td>0.000506</td>\n",
       "      <td>dti_md</td>\n",
       "    </tr>\n",
       "    <tr>\n",
       "      <th>1185</th>\n",
       "      <td>1185</td>\n",
       "      <td>CST_L</td>\n",
       "      <td>85</td>\n",
       "      <td>0.000512</td>\n",
       "      <td>dti_md</td>\n",
       "    </tr>\n",
       "    <tr>\n",
       "      <th>1186</th>\n",
       "      <td>1186</td>\n",
       "      <td>CST_L</td>\n",
       "      <td>86</td>\n",
       "      <td>0.000519</td>\n",
       "      <td>dti_md</td>\n",
       "    </tr>\n",
       "    <tr>\n",
       "      <th>1187</th>\n",
       "      <td>1187</td>\n",
       "      <td>CST_L</td>\n",
       "      <td>87</td>\n",
       "      <td>0.000526</td>\n",
       "      <td>dti_md</td>\n",
       "    </tr>\n",
       "    <tr>\n",
       "      <th>1188</th>\n",
       "      <td>1188</td>\n",
       "      <td>CST_L</td>\n",
       "      <td>88</td>\n",
       "      <td>0.000531</td>\n",
       "      <td>dti_md</td>\n",
       "    </tr>\n",
       "    <tr>\n",
       "      <th>1189</th>\n",
       "      <td>1189</td>\n",
       "      <td>CST_L</td>\n",
       "      <td>89</td>\n",
       "      <td>0.000535</td>\n",
       "      <td>dti_md</td>\n",
       "    </tr>\n",
       "    <tr>\n",
       "      <th>1190</th>\n",
       "      <td>1190</td>\n",
       "      <td>CST_L</td>\n",
       "      <td>90</td>\n",
       "      <td>0.000539</td>\n",
       "      <td>dti_md</td>\n",
       "    </tr>\n",
       "    <tr>\n",
       "      <th>1191</th>\n",
       "      <td>1191</td>\n",
       "      <td>CST_L</td>\n",
       "      <td>91</td>\n",
       "      <td>0.000543</td>\n",
       "      <td>dti_md</td>\n",
       "    </tr>\n",
       "    <tr>\n",
       "      <th>1192</th>\n",
       "      <td>1192</td>\n",
       "      <td>CST_L</td>\n",
       "      <td>92</td>\n",
       "      <td>0.000548</td>\n",
       "      <td>dti_md</td>\n",
       "    </tr>\n",
       "    <tr>\n",
       "      <th>1193</th>\n",
       "      <td>1193</td>\n",
       "      <td>CST_L</td>\n",
       "      <td>93</td>\n",
       "      <td>0.000550</td>\n",
       "      <td>dti_md</td>\n",
       "    </tr>\n",
       "    <tr>\n",
       "      <th>1194</th>\n",
       "      <td>1194</td>\n",
       "      <td>CST_L</td>\n",
       "      <td>94</td>\n",
       "      <td>0.000552</td>\n",
       "      <td>dti_md</td>\n",
       "    </tr>\n",
       "    <tr>\n",
       "      <th>1195</th>\n",
       "      <td>1195</td>\n",
       "      <td>CST_L</td>\n",
       "      <td>95</td>\n",
       "      <td>0.000561</td>\n",
       "      <td>dti_md</td>\n",
       "    </tr>\n",
       "    <tr>\n",
       "      <th>1196</th>\n",
       "      <td>1196</td>\n",
       "      <td>CST_L</td>\n",
       "      <td>96</td>\n",
       "      <td>0.000569</td>\n",
       "      <td>dti_md</td>\n",
       "    </tr>\n",
       "    <tr>\n",
       "      <th>1197</th>\n",
       "      <td>1197</td>\n",
       "      <td>CST_L</td>\n",
       "      <td>97</td>\n",
       "      <td>0.000574</td>\n",
       "      <td>dti_md</td>\n",
       "    </tr>\n",
       "    <tr>\n",
       "      <th>1198</th>\n",
       "      <td>1198</td>\n",
       "      <td>CST_L</td>\n",
       "      <td>98</td>\n",
       "      <td>0.000573</td>\n",
       "      <td>dti_md</td>\n",
       "    </tr>\n",
       "    <tr>\n",
       "      <th>1199</th>\n",
       "      <td>1199</td>\n",
       "      <td>CST_L</td>\n",
       "      <td>99</td>\n",
       "      <td>0.000551</td>\n",
       "      <td>dti_md</td>\n",
       "    </tr>\n",
       "  </tbody>\n",
       "</table>\n",
       "<p>200 rows × 5 columns</p>\n",
       "</div>"
      ],
      "text/plain": [
       "      Unnamed: 0 bundle  node  profiles  scalar\n",
       "500          500  CST_L     0  0.446523  dti_fa\n",
       "501          501  CST_L     1  0.403758  dti_fa\n",
       "502          502  CST_L     2  0.376790  dti_fa\n",
       "503          503  CST_L     3  0.370950  dti_fa\n",
       "504          504  CST_L     4  0.384307  dti_fa\n",
       "505          505  CST_L     5  0.406930  dti_fa\n",
       "506          506  CST_L     6  0.441552  dti_fa\n",
       "507          507  CST_L     7  0.477177  dti_fa\n",
       "508          508  CST_L     8  0.507457  dti_fa\n",
       "509          509  CST_L     9  0.529702  dti_fa\n",
       "510          510  CST_L    10  0.550912  dti_fa\n",
       "511          511  CST_L    11  0.580970  dti_fa\n",
       "512          512  CST_L    12  0.619364  dti_fa\n",
       "513          513  CST_L    13  0.655136  dti_fa\n",
       "514          514  CST_L    14  0.682879  dti_fa\n",
       "515          515  CST_L    15  0.694586  dti_fa\n",
       "516          516  CST_L    16  0.702379  dti_fa\n",
       "517          517  CST_L    17  0.707171  dti_fa\n",
       "518          518  CST_L    18  0.710462  dti_fa\n",
       "519          519  CST_L    19  0.713733  dti_fa\n",
       "520          520  CST_L    20  0.725077  dti_fa\n",
       "521          521  CST_L    21  0.740793  dti_fa\n",
       "522          522  CST_L    22  0.756772  dti_fa\n",
       "523          523  CST_L    23  0.770853  dti_fa\n",
       "524          524  CST_L    24  0.784024  dti_fa\n",
       "525          525  CST_L    25  0.790967  dti_fa\n",
       "526          526  CST_L    26  0.793018  dti_fa\n",
       "527          527  CST_L    27  0.792257  dti_fa\n",
       "528          528  CST_L    28  0.787632  dti_fa\n",
       "529          529  CST_L    29  0.781439  dti_fa\n",
       "...          ...    ...   ...       ...     ...\n",
       "1170        1170  CST_L    70  0.000525  dti_md\n",
       "1171        1171  CST_L    71  0.000517  dti_md\n",
       "1172        1172  CST_L    72  0.000511  dti_md\n",
       "1173        1173  CST_L    73  0.000507  dti_md\n",
       "1174        1174  CST_L    74  0.000503  dti_md\n",
       "1175        1175  CST_L    75  0.000500  dti_md\n",
       "1176        1176  CST_L    76  0.000498  dti_md\n",
       "1177        1177  CST_L    77  0.000496  dti_md\n",
       "1178        1178  CST_L    78  0.000494  dti_md\n",
       "1179        1179  CST_L    79  0.000495  dti_md\n",
       "1180        1180  CST_L    80  0.000497  dti_md\n",
       "1181        1181  CST_L    81  0.000498  dti_md\n",
       "1182        1182  CST_L    82  0.000498  dti_md\n",
       "1183        1183  CST_L    83  0.000501  dti_md\n",
       "1184        1184  CST_L    84  0.000506  dti_md\n",
       "1185        1185  CST_L    85  0.000512  dti_md\n",
       "1186        1186  CST_L    86  0.000519  dti_md\n",
       "1187        1187  CST_L    87  0.000526  dti_md\n",
       "1188        1188  CST_L    88  0.000531  dti_md\n",
       "1189        1189  CST_L    89  0.000535  dti_md\n",
       "1190        1190  CST_L    90  0.000539  dti_md\n",
       "1191        1191  CST_L    91  0.000543  dti_md\n",
       "1192        1192  CST_L    92  0.000548  dti_md\n",
       "1193        1193  CST_L    93  0.000550  dti_md\n",
       "1194        1194  CST_L    94  0.000552  dti_md\n",
       "1195        1195  CST_L    95  0.000561  dti_md\n",
       "1196        1196  CST_L    96  0.000569  dti_md\n",
       "1197        1197  CST_L    97  0.000574  dti_md\n",
       "1198        1198  CST_L    98  0.000573  dti_md\n",
       "1199        1199  CST_L    99  0.000551  dti_md\n",
       "\n",
       "[200 rows x 5 columns]"
      ]
     },
     "execution_count": 33,
     "metadata": {},
     "output_type": "execute_result"
    }
   ],
   "source": [
    "df[df['bundle']==\"CST_L\"]"
   ]
  },
  {
   "cell_type": "code",
   "execution_count": 34,
   "metadata": {},
   "outputs": [
    {
     "data": {
      "text/plain": [
       "16.666666666666668"
      ]
     },
     "execution_count": 34,
     "metadata": {},
     "output_type": "execute_result"
    }
   ],
   "source": [
    "1000/60"
   ]
  },
  {
   "cell_type": "code",
   "execution_count": null,
   "metadata": {},
   "outputs": [],
   "source": []
  },
  {
   "cell_type": "code",
   "execution_count": null,
   "metadata": {},
   "outputs": [],
   "source": []
  }
 ],
 "metadata": {
  "kernelspec": {
   "display_name": "Python 3",
   "language": "python",
   "name": "python3"
  },
  "language_info": {
   "codemirror_mode": {
    "name": "ipython",
    "version": 3
   },
   "file_extension": ".py",
   "mimetype": "text/x-python",
   "name": "python",
   "nbconvert_exporter": "python",
   "pygments_lexer": "ipython3",
   "version": "3.6.4"
  }
 },
 "nbformat": 4,
 "nbformat_minor": 2
}
